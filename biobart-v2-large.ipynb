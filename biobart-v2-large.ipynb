{
 "cells": [
  {
   "cell_type": "code",
   "execution_count": 18,
   "id": "e16bd936-c898-44a1-9ed2-36de4c897679",
   "metadata": {},
   "outputs": [],
   "source": [
    "import torch\n",
    "from transformers import AutoTokenizer, AutoModelForSeq2SeqLM, pipeline"
   ]
  },
  {
   "cell_type": "markdown",
   "id": "e779fb48",
   "metadata": {},
   "source": [
    "# Load Model"
   ]
  },
  {
   "cell_type": "code",
   "execution_count": 19,
   "id": "9dcfa4b8-1066-489f-bc2c-6619735b5b7a",
   "metadata": {},
   "outputs": [],
   "source": [
    "MODEL_ID = \"GanjinZero/biobart-v2-large\"\n",
    "tokenizer = AutoTokenizer.from_pretrained(MODEL_ID, use_fast = True)\n",
    "model = AutoModelForSeq2SeqLM.from_pretrained(MODEL_ID, \n",
    "    device_map = \"auto\", torch_dtype = \"auto\")\n"
   ]
  },
  {
   "cell_type": "markdown",
   "id": "f736e0ad",
   "metadata": {},
   "source": [
    "# Some Medical Text"
   ]
  },
  {
   "cell_type": "code",
   "execution_count": 20,
   "id": "5a302686-d791-49af-a49d-6153a0190d87",
   "metadata": {},
   "outputs": [],
   "source": [
    "medical_text = \"\"\"\n",
    "Non-steroidal anti-inflammatory drugs are not only potent analgesics and antipyretics but also nephrotoxins, and may cause \n",
    "electrolyte disarray. In addition to the commonly expected effects, including hyperkalemia, hyponatremia, acute renal injury, \n",
    "renal cortical necrosis, and volume retention, glomerular disease with or without nephrotic syndrome or nephritis can occur as \n",
    "well including after years of seemingly safe administration. Minimal change disease, secondary membranous glomerulonephritis, \n",
    "and acute interstitial nephritis are all reported glomerular lesions seen with non-steroidal anti-inflammatory use. We report a \n",
    "patient who used non-steroidal anti-inflammatory drugs for years without diabetes, chronic kidney disease, or proteinuria; he \n",
    "then developed severe nephrotic range proteinuria with 7 g of daily urinary protein excretion. Renal biopsy showed minimal \n",
    "change nephropathy, a likely secondary membranous glomerulonephritis, and acute interstitial nephritis present simultaneously\n",
    "in one biopsy. Cessation of non-steroidal anti-inflammatory drug use along with steroid treatment resulted in a moderate\n",
    "improvement in renal function, though residual impairment remained. Urine heavy metal screen returned with elevated levels of\n",
    "urine copper, but with normal ceruloplasmin level. Workup suggested that the elevated copper levels were due to cirrhosis from\n",
    "non-alcoholic fatty liver disease. The membranous glomerulonephritis is possibly linked to non-steroidal anti-inflammatory drug\n",
    "exposure, and possibly to heavy metal exposure, and is clinically and pathologically much less likely to be a primary membranous\n",
    "glomerulonephritis with negative serological markers.\n",
    "\n",
    "Keywords: Minimal change disease, podocytopathy, secondary membranous glomerulonephritis, acute interstitial nephritis, non-steroidal anti-inflammatory drugs\n",
    "\"\"\""
   ]
  },
  {
   "cell_type": "code",
   "execution_count": 21,
   "id": "7ba9d0ff-162e-4562-aa3b-52c7cb6b81b0",
   "metadata": {},
   "outputs": [
    {
     "name": "stdout",
     "output_type": "stream",
     "text": [
      "372\n"
     ]
    }
   ],
   "source": [
    "print(len(tokenizer.encode(medical_text)))"
   ]
  },
  {
   "cell_type": "markdown",
   "id": "aa6a61ae",
   "metadata": {},
   "source": [
    "# Inference"
   ]
  },
  {
   "cell_type": "code",
   "execution_count": 22,
   "id": "02cc1af8-5622-4604-91e4-5ea74bfb78ff",
   "metadata": {},
   "outputs": [
    {
     "name": "stdout",
     "output_type": "stream",
     "text": [
      "¯¯¯¯Non-steroidally anti-inflammatory Drugs are not only powerful analgesics and antipyroretics but still nephrotoxins and may cause                         aditionalelectrolytes disarray. IN addition tothe commonly expected adverse effects, including hyperuricemia, hyponatremic, acute renal ischemia, aditionalrenal\n"
     ]
    }
   ],
   "source": [
    "inputs = tokenizer(medical_text, return_tensors = \"pt\", max_length = 1024, truncation = True, padding = True).to(model.device)                # move tensors to same device as the model\n",
    "\n",
    "with torch.no_grad():\n",
    "    generated = model.generate(**inputs,\n",
    "        max_new_tokens = 64, num_beams = 4, length_penalty = 1.5, early_stopping = False, no_repeat_ngram_size = 3, encoder_no_repeat_ngram_size = 4)\n",
    "\n",
    "summary = tokenizer.decode(generated[0], skip_special_tokens = True)\n",
    "print(summary)\n"
   ]
  },
  {
   "cell_type": "code",
   "execution_count": null,
   "id": "20545287-8b35-43c4-82d5-2f97132981df",
   "metadata": {},
   "outputs": [],
   "source": []
  }
 ],
 "metadata": {
  "kernelspec": {
   "display_name": "Python 3 (ipykernel)",
   "language": "python",
   "name": "python3"
  },
  "language_info": {
   "codemirror_mode": {
    "name": "ipython",
    "version": 3
   },
   "file_extension": ".py",
   "mimetype": "text/x-python",
   "name": "python",
   "nbconvert_exporter": "python",
   "pygments_lexer": "ipython3",
   "version": "3.11.13"
  }
 },
 "nbformat": 4,
 "nbformat_minor": 5
}
