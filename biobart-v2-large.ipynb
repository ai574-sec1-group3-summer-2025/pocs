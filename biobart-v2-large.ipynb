{
 "cells": [
  {
   "cell_type": "code",
   "execution_count": 4,
   "id": "e16bd936-c898-44a1-9ed2-36de4c897679",
   "metadata": {},
   "outputs": [
    {
     "name": "stderr",
     "output_type": "stream",
     "text": [
      "/home/kilnaar/anaconda3/envs/ai574-pocs/lib/python3.11/site-packages/tqdm/auto.py:21: TqdmWarning: IProgress not found. Please update jupyter and ipywidgets. See https://ipywidgets.readthedocs.io/en/stable/user_install.html\n",
      "  from .autonotebook import tqdm as notebook_tqdm\n",
      "2025-07-10 10:30:23.161727: I tensorflow/core/util/port.cc:113] oneDNN custom operations are on. You may see slightly different numerical results due to floating-point round-off errors from different computation orders. To turn them off, set the environment variable `TF_ENABLE_ONEDNN_OPTS=0`.\n",
      "2025-07-10 10:30:23.192913: E external/local_xla/xla/stream_executor/cuda/cuda_dnn.cc:9261] Unable to register cuDNN factory: Attempting to register factory for plugin cuDNN when one has already been registered\n",
      "2025-07-10 10:30:23.192939: E external/local_xla/xla/stream_executor/cuda/cuda_fft.cc:607] Unable to register cuFFT factory: Attempting to register factory for plugin cuFFT when one has already been registered\n",
      "2025-07-10 10:30:23.193847: E external/local_xla/xla/stream_executor/cuda/cuda_blas.cc:1515] Unable to register cuBLAS factory: Attempting to register factory for plugin cuBLAS when one has already been registered\n",
      "2025-07-10 10:30:23.199129: I tensorflow/core/platform/cpu_feature_guard.cc:182] This TensorFlow binary is optimized to use available CPU instructions in performance-critical operations.\n",
      "To enable the following instructions: AVX2 AVX_VNNI FMA, in other operations, rebuild TensorFlow with the appropriate compiler flags.\n",
      "2025-07-10 10:30:23.814513: W tensorflow/compiler/tf2tensorrt/utils/py_utils.cc:38] TF-TRT Warning: Could not find TensorRT\n"
     ]
    }
   ],
   "source": [
    "import torch\n",
    "from transformers import AutoTokenizer, AutoModelForSeq2SeqLM, pipeline"
   ]
  },
  {
   "cell_type": "markdown",
   "id": "e779fb48",
   "metadata": {},
   "source": [
    "# Load Model"
   ]
  },
  {
   "cell_type": "code",
   "execution_count": 5,
   "id": "9dcfa4b8-1066-489f-bc2c-6619735b5b7a",
   "metadata": {},
   "outputs": [],
   "source": [
    "MODEL_ID = \"GanjinZero/biobart-v2-large\"\n",
    "tokenizer = AutoTokenizer.from_pretrained(MODEL_ID, use_fast = True)\n",
    "model = AutoModelForSeq2SeqLM.from_pretrained(MODEL_ID, \n",
    "    device_map = \"auto\", torch_dtype = \"auto\")\n"
   ]
  },
  {
   "cell_type": "markdown",
   "id": "f736e0ad",
   "metadata": {},
   "source": [
    "# Some Medical Text"
   ]
  },
  {
   "cell_type": "code",
   "execution_count": 6,
   "id": "5a302686-d791-49af-a49d-6153a0190d87",
   "metadata": {},
   "outputs": [],
   "source": [
    "medical_text = \"\"\"\n",
    "Non-steroidal anti-inflammatory drugs are not only potent analgesics and antipyretics but also nephrotoxins, and may cause \n",
    "electrolyte disarray. In addition to the commonly expected effects, including hyperkalemia, hyponatremia, acute renal injury, \n",
    "renal cortical necrosis, and volume retention, glomerular disease with or without nephrotic syndrome or nephritis can occur as \n",
    "well including after years of seemingly safe administration. Minimal change disease, secondary membranous glomerulonephritis, \n",
    "and acute interstitial nephritis are all reported glomerular lesions seen with non-steroidal anti-inflammatory use. We report a \n",
    "patient who used non-steroidal anti-inflammatory drugs for years without diabetes, chronic kidney disease, or proteinuria; he \n",
    "then developed severe nephrotic range proteinuria with 7 g of daily urinary protein excretion. Renal biopsy showed minimal \n",
    "change nephropathy, a likely secondary membranous glomerulonephritis, and acute interstitial nephritis present simultaneously\n",
    "in one biopsy. Cessation of non-steroidal anti-inflammatory drug use along with steroid treatment resulted in a moderate\n",
    "improvement in renal function, though residual impairment remained. Urine heavy metal screen returned with elevated levels of\n",
    "urine copper, but with normal ceruloplasmin level. Workup suggested that the elevated copper levels were due to cirrhosis from\n",
    "non-alcoholic fatty liver disease. The membranous glomerulonephritis is possibly linked to non-steroidal anti-inflammatory drug\n",
    "exposure, and possibly to heavy metal exposure, and is clinically and pathologically much less likely to be a primary membranous\n",
    "glomerulonephritis with negative serological markers.\n",
    "\n",
    "Keywords: Minimal change disease, podocytopathy, secondary membranous glomerulonephritis, acute interstitial nephritis, non-steroidal anti-inflammatory drugs\n",
    "\"\"\""
   ]
  },
  {
   "cell_type": "markdown",
   "id": "aa6a61ae",
   "metadata": {},
   "source": [
    "# Inference"
   ]
  },
  {
   "cell_type": "code",
   "execution_count": 7,
   "id": "02cc1af8-5622-4604-91e4-5ea74bfb78ff",
   "metadata": {},
   "outputs": [],
   "source": [
    "def summarize(medical_text):\n",
    "    try:\n",
    "        prompt = f\"{medical_text.strip()}\"\n",
    "        inputs = tokenizer(prompt, return_tensors = \"pt\", max_length = 1024, truncation = True, padding = True).to(model.device)                # move tensors to same device as the model\n",
    "        \n",
    "        with torch.no_grad():\n",
    "            generated = model.generate(**inputs,\n",
    "                max_new_tokens = 40, \n",
    "                num_beams = 4, \n",
    "                length_penalty = 1.5, \n",
    "                early_stopping = False, \n",
    "                no_repeat_ngram_size = 3, \n",
    "                encoder_no_repeat_ngram_size = 3\n",
    "              )\n",
    "\n",
    "        return tokenizer.decode(generated[0], skip_special_tokens = True)\n",
    "    except:\n",
    "        return \"\""
   ]
  },
  {
   "cell_type": "code",
   "execution_count": 8,
   "id": "20545287-8b35-43c4-82d5-2f97132981df",
   "metadata": {},
   "outputs": [
    {
     "name": "stdout",
     "output_type": "stream",
     "text": [
      "Non-inflammatory non-steric anti- antiinflammatory drugs are all only potent analges and antipyroretics and also nephotoxins,and may cause                     aditionalelectrolyticte dis\n"
     ]
    }
   ],
   "source": [
    "summary = summarize(medical_text)\n",
    "print(summary)\n"
   ]
  },
  {
   "cell_type": "code",
   "execution_count": 9,
   "id": "2b35385a-43ff-48b2-a121-50f64339bc90",
   "metadata": {},
   "outputs": [],
   "source": [
    "import pandas as pd\n",
    "import csv\n",
    "df = pd.read_csv('./mtsamples.csv')\n",
    "df['transcription'] = df.transcription.astype(str)\n",
    "df['description'] = df.description.astype(str)"
   ]
  },
  {
   "cell_type": "code",
   "execution_count": 10,
   "id": "f7454f4c-89d2-42ec-b023-6b94d05840dd",
   "metadata": {},
   "outputs": [],
   "source": [
    "df['med-biobart-summary'] = df.transcription.apply(summarize)"
   ]
  },
  {
   "cell_type": "code",
   "execution_count": 11,
   "id": "96c00386-2aa3-4ef1-9e8a-184a788a58f3",
   "metadata": {},
   "outputs": [],
   "source": [
    "df.to_csv('mtsamples_with_biobart.csv', index = False, quoting = csv.QUOTE_NONNUMERIC)"
   ]
  },
  {
   "cell_type": "code",
   "execution_count": null,
   "id": "07db27af-22c1-4ffd-aa34-55bbad5d1587",
   "metadata": {},
   "outputs": [],
   "source": []
  },
  {
   "cell_type": "code",
   "execution_count": null,
   "id": "6be6ac5b-ec68-45fc-be84-032c00af3efe",
   "metadata": {},
   "outputs": [],
   "source": []
  }
 ],
 "metadata": {
  "kernelspec": {
   "display_name": "Python 3 (ipykernel)",
   "language": "python",
   "name": "python3"
  },
  "language_info": {
   "codemirror_mode": {
    "name": "ipython",
    "version": 3
   },
   "file_extension": ".py",
   "mimetype": "text/x-python",
   "name": "python",
   "nbconvert_exporter": "python",
   "pygments_lexer": "ipython3",
   "version": "3.11.13"
  }
 },
 "nbformat": 4,
 "nbformat_minor": 5
}
