{
 "cells": [
  {
   "cell_type": "code",
   "execution_count": 1,
   "id": "11b94e5e-f11d-4e9d-a8e8-8a33cd0ee513",
   "metadata": {},
   "outputs": [
    {
     "name": "stderr",
     "output_type": "stream",
     "text": [
      "/home/kilnaar/anaconda3/envs/ai574-pocs/lib/python3.11/site-packages/tqdm/auto.py:21: TqdmWarning: IProgress not found. Please update jupyter and ipywidgets. See https://ipywidgets.readthedocs.io/en/stable/user_install.html\n",
      "  from .autonotebook import tqdm as notebook_tqdm\n"
     ]
    }
   ],
   "source": [
    "import torch, textwrap\n",
    "from transformers import AutoTokenizer, AutoModelForCausalLM, GenerationConfig"
   ]
  },
  {
   "cell_type": "markdown",
   "id": "8d53d08d-381b-4294-a007-2f76e596bda2",
   "metadata": {},
   "source": [
    "# Load model"
   ]
  },
  {
   "cell_type": "code",
   "execution_count": 34,
   "id": "330d4652-91ef-4236-9561-adefae7bbe94",
   "metadata": {},
   "outputs": [
    {
     "name": "stderr",
     "output_type": "stream",
     "text": [
      "Special tokens have been added in the vocabulary, make sure the associated word embeddings are fine-tuned or trained.\n",
      "The `load_in_4bit` and `load_in_8bit` arguments are deprecated and will be removed in the future versions. Please, pass a `BitsAndBytesConfig` object in `quantization_config` argument instead.\n",
      "Downloading shards: 100%|█████████████████████████████████████████████████████████████████████████████████| 2/2 [02:36<00:00, 78.50s/it]\n",
      "Loading checkpoint shards: 100%|██████████████████████████████████████████████████████████████████████████| 2/2 [00:03<00:00,  1.68s/it]\n",
      "We've detected an older driver with an RTX 4000 series GPU. These drivers have issues with P2P. This can affect the multi-gpu inference when using accelerate device_map.Please make sure to update your driver to the latest version which resolves this.\n"
     ]
    }
   ],
   "source": [
    "MODEL_ID = \"johnsnowlabs/JSL-MedLlama-3-8B-v2.0\"\n",
    "DEVICE   = \"cuda\" if torch.cuda.is_available() else \"CPU\"\n",
    "tokenizer = AutoTokenizer.from_pretrained(MODEL_ID)\n",
    "model = AutoModelForCausalLM.from_pretrained(MODEL_ID, load_in_8bit = True, device_map = \"auto\")"
   ]
  },
  {
   "cell_type": "markdown",
   "id": "cdbb4e9a-264c-452f-be37-942fa046df1f",
   "metadata": {},
   "source": [
    "# Some medical text"
   ]
  },
  {
   "cell_type": "code",
   "execution_count": 35,
   "id": "855802c7-43b2-42ab-ab91-3c7dd7eda3d7",
   "metadata": {},
   "outputs": [],
   "source": [
    "medical_text = \"\"\"\n",
    "Non-steroidal anti-inflammatory drugs are not only potent analgesics and antipyretics but also nephrotoxins, and may cause \n",
    "electrolyte disarray. In addition to the commonly expected effects, including hyperkalemia, hyponatremia, acute renal injury, \n",
    "renal cortical necrosis, and volume retention, glomerular disease with or without nephrotic syndrome or nephritis can occur as \n",
    "well including after years of seemingly safe administration. Minimal change disease, secondary membranous glomerulonephritis, \n",
    "and acute interstitial nephritis are all reported glomerular lesions seen with non-steroidal anti-inflammatory use. We report a \n",
    "patient who used non-steroidal anti-inflammatory drugs for years without diabetes, chronic kidney disease, or proteinuria; he \n",
    "then developed severe nephrotic range proteinuria with 7 g of daily urinary protein excretion. Renal biopsy showed minimal \n",
    "change nephropathy, a likely secondary membranous glomerulonephritis, and acute interstitial nephritis present simultaneously\n",
    "in one biopsy. \n",
    "\n",
    "\"\"\""
   ]
  },
  {
   "cell_type": "code",
   "execution_count": 83,
   "id": "bd6997bb-5a48-48c0-ae8e-a4eaff1ce5d8",
   "metadata": {},
   "outputs": [],
   "source": [
    "messages = [\n",
    "    {\n",
    "        \"role\": \"user\",\n",
    "        \"content\": textwrap.dedent(f\"\"\"\n",
    "            Below is an abstract from a medical paper.\n",
    "\n",
    "            ```text\n",
    "            {medical_text.strip()}\n",
    "            ```\n",
    "\n",
    "            **Task:** Produce a ≤80-word summary **and end with a full stop (.) when you are done.**\n",
    "            Use clear, professional medical language.\n",
    "            Don't include a greeting or introduction.\n",
    "        \"\"\"),\n",
    "    }\n",
    "]"
   ]
  },
  {
   "cell_type": "markdown",
   "id": "003683cb-8d15-454c-afdf-79efd9b9fa87",
   "metadata": {},
   "source": [
    "# Inference"
   ]
  },
  {
   "cell_type": "code",
   "execution_count": 87,
   "id": "553b91f2-43f1-44ce-9328-0bdceb14a10a",
   "metadata": {},
   "outputs": [
    {
     "name": "stdout",
     "output_type": "stream",
     "text": [
      "user  Here is the text: Non-\n",
      "steroidal anti inflammatory drugs (NSAIDs) have multiple effects on the body beyond their\n",
      "role as pain relievers and fever reducers. They can cause kidney damage, electrolyte\n",
      "imbalances, and in rare cases, glomerular diseases such as minimal change disease,\n",
      "secondary membr\n"
     ]
    }
   ],
   "source": [
    "prompt_ids = tokenizer.apply_chat_template(\n",
    "    messages, add_generation_prompt = True, return_tensors=\"pt\").to(model.device)\n",
    "\n",
    "gen_cfg = GenerationConfig(\n",
    "    max_new_tokens = 128,\n",
    "    temperature = 0.1,\n",
    "    top_p = 0.9,\n",
    "    repetition_penalty = 1.1,\n",
    "    do_sample = True,\n",
    "    no_repeat_ngram_size = 6,\n",
    ")\n",
    "\n",
    "with torch.no_grad():\n",
    "    generated = model.generate(prompt_ids, generation_config = gen_cfg, return_dict_in_generate = False)\n",
    "\n",
    "summary = tokenizer.decode(generated[0], skip_special_tokens = True)\n",
    "response_text = textwrap.fill(summary, 90).split('im_start|>')[-1]\n",
    "print(response_text)"
   ]
  },
  {
   "cell_type": "code",
   "execution_count": null,
   "id": "e598a1f3-4d1f-4fed-ba33-1793a846e716",
   "metadata": {},
   "outputs": [],
   "source": []
  }
 ],
 "metadata": {
  "kernelspec": {
   "display_name": "Python 3 (ipykernel)",
   "language": "python",
   "name": "python3"
  },
  "language_info": {
   "codemirror_mode": {
    "name": "ipython",
    "version": 3
   },
   "file_extension": ".py",
   "mimetype": "text/x-python",
   "name": "python",
   "nbconvert_exporter": "python",
   "pygments_lexer": "ipython3",
   "version": "3.11.13"
  }
 },
 "nbformat": 4,
 "nbformat_minor": 5
}
