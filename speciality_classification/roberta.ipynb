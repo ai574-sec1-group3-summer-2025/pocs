{
 "cells": [
  {
   "cell_type": "code",
   "execution_count": 1,
   "id": "deb86d7e",
   "metadata": {},
   "outputs": [],
   "source": [
    "import pandas as pd\n",
    "from sklearn.metrics import f1_score, balanced_accuracy_score\n",
    "from sklearn.model_selection import train_test_split\n",
    "\n",
    "from simpletransformers.classification import ClassificationModel, ClassificationArgs\n",
    "import torch\n",
    "\n",
    "import warnings\n",
    "warnings.filterwarnings(\"ignore\", category=FutureWarning)"
   ]
  },
  {
   "cell_type": "code",
   "execution_count": 2,
   "id": "fcac883c",
   "metadata": {},
   "outputs": [],
   "source": [
    "LEARNING_RATE = 1e-5\n",
    "EPOCHS = 5\n",
    "BATCH_SIZE = 16\n",
    "DS_SPLIT = 0.2\n",
    "MIN_SPECIALITY_THRESHOLD = 100\n",
    "DATASET_PATH = 'data/mtsamples.csv'"
   ]
  },
  {
   "cell_type": "code",
   "execution_count": 3,
   "id": "a2538d56",
   "metadata": {},
   "outputs": [
    {
     "name": "stdout",
     "output_type": "stream",
     "text": [
      "<class 'pandas.core.frame.DataFrame'>\n",
      "RangeIndex: 4999 entries, 0 to 4998\n",
      "Data columns (total 3 columns):\n",
      " #   Column             Non-Null Count  Dtype \n",
      "---  ------             --------------  ----- \n",
      " 0   medical_specialty  4999 non-null   object\n",
      " 1   transcription      4966 non-null   object\n",
      " 2   keywords           3931 non-null   object\n",
      "dtypes: object(3)\n",
      "memory usage: 117.3+ KB\n"
     ]
    },
    {
     "data": {
      "text/html": [
       "<div>\n",
       "<style scoped>\n",
       "    .dataframe tbody tr th:only-of-type {\n",
       "        vertical-align: middle;\n",
       "    }\n",
       "\n",
       "    .dataframe tbody tr th {\n",
       "        vertical-align: top;\n",
       "    }\n",
       "\n",
       "    .dataframe thead th {\n",
       "        text-align: right;\n",
       "    }\n",
       "</style>\n",
       "<table border=\"1\" class=\"dataframe\">\n",
       "  <thead>\n",
       "    <tr style=\"text-align: right;\">\n",
       "      <th></th>\n",
       "      <th>medical_specialty</th>\n",
       "      <th>transcription</th>\n",
       "      <th>keywords</th>\n",
       "    </tr>\n",
       "  </thead>\n",
       "  <tbody>\n",
       "    <tr>\n",
       "      <th>0</th>\n",
       "      <td>Allergy / Immunology</td>\n",
       "      <td>SUBJECTIVE:,  This 23-year-old white female pr...</td>\n",
       "      <td>allergy / immunology, allergic rhinitis, aller...</td>\n",
       "    </tr>\n",
       "    <tr>\n",
       "      <th>1</th>\n",
       "      <td>Bariatrics</td>\n",
       "      <td>PAST MEDICAL HISTORY:, He has difficulty climb...</td>\n",
       "      <td>bariatrics, laparoscopic gastric bypass, weigh...</td>\n",
       "    </tr>\n",
       "    <tr>\n",
       "      <th>2</th>\n",
       "      <td>Bariatrics</td>\n",
       "      <td>HISTORY OF PRESENT ILLNESS: , I have seen ABC ...</td>\n",
       "      <td>bariatrics, laparoscopic gastric bypass, heart...</td>\n",
       "    </tr>\n",
       "    <tr>\n",
       "      <th>3</th>\n",
       "      <td>Cardiovascular / Pulmonary</td>\n",
       "      <td>2-D M-MODE: , ,1.  Left atrial enlargement wit...</td>\n",
       "      <td>cardiovascular / pulmonary, 2-d m-mode, dopple...</td>\n",
       "    </tr>\n",
       "    <tr>\n",
       "      <th>4</th>\n",
       "      <td>Cardiovascular / Pulmonary</td>\n",
       "      <td>1.  The left ventricular cavity size and wall ...</td>\n",
       "      <td>cardiovascular / pulmonary, 2-d, doppler, echo...</td>\n",
       "    </tr>\n",
       "  </tbody>\n",
       "</table>\n",
       "</div>"
      ],
      "text/plain": [
       "             medical_specialty  \\\n",
       "0         Allergy / Immunology   \n",
       "1                   Bariatrics   \n",
       "2                   Bariatrics   \n",
       "3   Cardiovascular / Pulmonary   \n",
       "4   Cardiovascular / Pulmonary   \n",
       "\n",
       "                                       transcription  \\\n",
       "0  SUBJECTIVE:,  This 23-year-old white female pr...   \n",
       "1  PAST MEDICAL HISTORY:, He has difficulty climb...   \n",
       "2  HISTORY OF PRESENT ILLNESS: , I have seen ABC ...   \n",
       "3  2-D M-MODE: , ,1.  Left atrial enlargement wit...   \n",
       "4  1.  The left ventricular cavity size and wall ...   \n",
       "\n",
       "                                            keywords  \n",
       "0  allergy / immunology, allergic rhinitis, aller...  \n",
       "1  bariatrics, laparoscopic gastric bypass, weigh...  \n",
       "2  bariatrics, laparoscopic gastric bypass, heart...  \n",
       "3  cardiovascular / pulmonary, 2-d m-mode, dopple...  \n",
       "4  cardiovascular / pulmonary, 2-d, doppler, echo...  "
      ]
     },
     "execution_count": 3,
     "metadata": {},
     "output_type": "execute_result"
    }
   ],
   "source": [
    "df = pd.read_csv(DATASET_PATH, usecols=['keywords', 'transcription', 'medical_specialty'])    \n",
    "df.info()\n",
    "df.head()"
   ]
  },
  {
   "cell_type": "code",
   "execution_count": 4,
   "id": "09abad64",
   "metadata": {},
   "outputs": [
    {
     "name": "stdout",
     "output_type": "stream",
     "text": [
      "medical_specialty\n",
      "Surgery                          1021\n",
      "others                            888\n",
      "Orthopedic                        303\n",
      "Cardiovascular / Pulmonary        280\n",
      "Radiology                         251\n",
      "Consult - History and Phy.        234\n",
      "Gastroenterology                  195\n",
      "Neurology                         168\n",
      "General Medicine                  146\n",
      "SOAP / Chart / Progress Notes     142\n",
      "Urology                           140\n",
      "Obstetrics / Gynecology           130\n",
      "Name: count, dtype: int64\n"
     ]
    }
   ],
   "source": [
    "df.dropna(inplace=True)\n",
    "counts = df['medical_specialty'].value_counts()\n",
    "others = [k for k,v in counts.items() if v < MIN_SPECIALITY_THRESHOLD]\n",
    "for each_spec in others:\n",
    "    df.loc[df['medical_specialty']==each_spec,'medical_specialty']=' others' \n",
    "\n",
    "counts = df['medical_specialty'].value_counts()\n",
    "print(counts)"
   ]
  },
  {
   "cell_type": "code",
   "execution_count": 5,
   "id": "8a62d612",
   "metadata": {},
   "outputs": [
    {
     "data": {
      "text/html": [
       "<div>\n",
       "<style scoped>\n",
       "    .dataframe tbody tr th:only-of-type {\n",
       "        vertical-align: middle;\n",
       "    }\n",
       "\n",
       "    .dataframe tbody tr th {\n",
       "        vertical-align: top;\n",
       "    }\n",
       "\n",
       "    .dataframe thead th {\n",
       "        text-align: right;\n",
       "    }\n",
       "</style>\n",
       "<table border=\"1\" class=\"dataframe\">\n",
       "  <thead>\n",
       "    <tr style=\"text-align: right;\">\n",
       "      <th></th>\n",
       "      <th>medical_specialty</th>\n",
       "      <th>transcription</th>\n",
       "      <th>keywords</th>\n",
       "      <th>class_id</th>\n",
       "    </tr>\n",
       "  </thead>\n",
       "  <tbody>\n",
       "    <tr>\n",
       "      <th>0</th>\n",
       "      <td>others</td>\n",
       "      <td>SUBJECTIVE:,  This 23-year-old white female pr...</td>\n",
       "      <td>allergy / immunology, allergic rhinitis, aller...</td>\n",
       "      <td>0</td>\n",
       "    </tr>\n",
       "    <tr>\n",
       "      <th>1</th>\n",
       "      <td>others</td>\n",
       "      <td>PAST MEDICAL HISTORY:, He has difficulty climb...</td>\n",
       "      <td>bariatrics, laparoscopic gastric bypass, weigh...</td>\n",
       "      <td>0</td>\n",
       "    </tr>\n",
       "    <tr>\n",
       "      <th>2</th>\n",
       "      <td>others</td>\n",
       "      <td>HISTORY OF PRESENT ILLNESS: , I have seen ABC ...</td>\n",
       "      <td>bariatrics, laparoscopic gastric bypass, heart...</td>\n",
       "      <td>0</td>\n",
       "    </tr>\n",
       "    <tr>\n",
       "      <th>3</th>\n",
       "      <td>Cardiovascular / Pulmonary</td>\n",
       "      <td>2-D M-MODE: , ,1.  Left atrial enlargement wit...</td>\n",
       "      <td>cardiovascular / pulmonary, 2-d m-mode, dopple...</td>\n",
       "      <td>1</td>\n",
       "    </tr>\n",
       "    <tr>\n",
       "      <th>4</th>\n",
       "      <td>Cardiovascular / Pulmonary</td>\n",
       "      <td>1.  The left ventricular cavity size and wall ...</td>\n",
       "      <td>cardiovascular / pulmonary, 2-d, doppler, echo...</td>\n",
       "      <td>1</td>\n",
       "    </tr>\n",
       "  </tbody>\n",
       "</table>\n",
       "</div>"
      ],
      "text/plain": [
       "             medical_specialty  \\\n",
       "0                       others   \n",
       "1                       others   \n",
       "2                       others   \n",
       "3   Cardiovascular / Pulmonary   \n",
       "4   Cardiovascular / Pulmonary   \n",
       "\n",
       "                                       transcription  \\\n",
       "0  SUBJECTIVE:,  This 23-year-old white female pr...   \n",
       "1  PAST MEDICAL HISTORY:, He has difficulty climb...   \n",
       "2  HISTORY OF PRESENT ILLNESS: , I have seen ABC ...   \n",
       "3  2-D M-MODE: , ,1.  Left atrial enlargement wit...   \n",
       "4  1.  The left ventricular cavity size and wall ...   \n",
       "\n",
       "                                            keywords  class_id  \n",
       "0  allergy / immunology, allergic rhinitis, aller...         0  \n",
       "1  bariatrics, laparoscopic gastric bypass, weigh...         0  \n",
       "2  bariatrics, laparoscopic gastric bypass, heart...         0  \n",
       "3  cardiovascular / pulmonary, 2-d m-mode, dopple...         1  \n",
       "4  cardiovascular / pulmonary, 2-d, doppler, echo...         1  "
      ]
     },
     "execution_count": 5,
     "metadata": {},
     "output_type": "execute_result"
    }
   ],
   "source": [
    "num_classes = len(df['medical_specialty'].unique())\n",
    "class_weights = [1]*num_classes\n",
    "df['class_id'] = pd.factorize(df['medical_specialty'])[0]\n",
    "df.head()"
   ]
  },
  {
   "cell_type": "code",
   "execution_count": 6,
   "id": "96d2ac2e",
   "metadata": {},
   "outputs": [
    {
     "name": "stdout",
     "output_type": "stream",
     "text": [
      "                       medical_specialty\n",
      "class_id                                \n",
      "0                                 others\n",
      "1             Cardiovascular / Pulmonary\n",
      "2                                Urology\n",
      "3                       General Medicine\n",
      "4                                Surgery\n",
      "5          SOAP / Chart / Progress Notes\n",
      "6                              Radiology\n",
      "7                             Orthopedic\n",
      "8                Obstetrics / Gynecology\n",
      "9                              Neurology\n",
      "10                      Gastroenterology\n",
      "11            Consult - History and Phy.\n",
      "\n",
      "Train Size: 3118, Test Size: 780\n"
     ]
    },
    {
     "data": {
      "text/html": [
       "<div>\n",
       "<style scoped>\n",
       "    .dataframe tbody tr th:only-of-type {\n",
       "        vertical-align: middle;\n",
       "    }\n",
       "\n",
       "    .dataframe tbody tr th {\n",
       "        vertical-align: top;\n",
       "    }\n",
       "\n",
       "    .dataframe thead th {\n",
       "        text-align: right;\n",
       "    }\n",
       "</style>\n",
       "<table border=\"1\" class=\"dataframe\">\n",
       "  <thead>\n",
       "    <tr style=\"text-align: right;\">\n",
       "      <th></th>\n",
       "      <th>text</th>\n",
       "      <th>labels</th>\n",
       "    </tr>\n",
       "  </thead>\n",
       "  <tbody>\n",
       "    <tr>\n",
       "      <th>2656</th>\n",
       "      <td>neurosurgery, debridement of wound, shunt, cos...</td>\n",
       "      <td>0</td>\n",
       "    </tr>\n",
       "    <tr>\n",
       "      <th>3238</th>\n",
       "      <td>general medicine, ears, nose, mouth, neck, res...</td>\n",
       "      <td>3</td>\n",
       "    </tr>\n",
       "    <tr>\n",
       "      <th>2114</th>\n",
       "      <td>orthopedic, open reduction, internal fixation,...</td>\n",
       "      <td>7</td>\n",
       "    </tr>\n",
       "    <tr>\n",
       "      <th>1329</th>\n",
       "      <td>soap / chart / progress notes, parathyroid hyp...</td>\n",
       "      <td>5</td>\n",
       "    </tr>\n",
       "    <tr>\n",
       "      <th>695</th>\n",
       "      <td>surgery, hydrocele, hydrocele repair, hernia, ...</td>\n",
       "      <td>4</td>\n",
       "    </tr>\n",
       "  </tbody>\n",
       "</table>\n",
       "</div>"
      ],
      "text/plain": [
       "                                                   text  labels\n",
       "2656  neurosurgery, debridement of wound, shunt, cos...       0\n",
       "3238  general medicine, ears, nose, mouth, neck, res...       3\n",
       "2114  orthopedic, open reduction, internal fixation,...       7\n",
       "1329  soap / chart / progress notes, parathyroid hyp...       5\n",
       "695   surgery, hydrocele, hydrocele repair, hernia, ...       4"
      ]
     },
     "execution_count": 6,
     "metadata": {},
     "output_type": "execute_result"
    }
   ],
   "source": [
    "class_dict = df[['medical_specialty', 'class_id']].drop_duplicates().set_index('class_id')\n",
    "print(class_dict)\n",
    "\n",
    "dataset = pd.DataFrame({\n",
    "    'text' : df['keywords']+df['transcription'],\n",
    "    'labels' : df['class_id']\n",
    "})\n",
    "\n",
    "train_df, test_df = train_test_split(dataset, test_size=DS_SPLIT, random_state=42)\n",
    "\n",
    "print(f\"\\nTrain Size: {len(train_df)}, Test Size: {len(test_df)}\")\n",
    "train_df.head()\n"
   ]
  },
  {
   "cell_type": "code",
   "execution_count": 7,
   "id": "bd86bab0",
   "metadata": {},
   "outputs": [],
   "source": [
    "def eval_metrics(pred, actual):\n",
    "    return {\n",
    "        \"accuracy\": balanced_accuracy_score(actual,pred),\n",
    "        \"f1_weighted\": f1_score(actual,pred,average=\"micro\")\n",
    "    }"
   ]
  },
  {
   "cell_type": "code",
   "execution_count": 8,
   "id": "24dcabf5",
   "metadata": {},
   "outputs": [
    {
     "name": "stderr",
     "output_type": "stream",
     "text": [
      "Some weights of RobertaForSequenceClassification were not initialized from the model checkpoint at roberta-base and are newly initialized: ['classifier.dense.bias', 'classifier.dense.weight', 'classifier.out_proj.bias', 'classifier.out_proj.weight']\n",
      "You should probably TRAIN this model on a down-stream task to be able to use it for predictions and inference.\n"
     ]
    },
    {
     "data": {
      "application/vnd.jupyter.widget-view+json": {
       "model_id": "886fa61ca3c24ed7a8a9a718be121d0e",
       "version_major": 2,
       "version_minor": 0
      },
      "text/plain": [
       "  0%|          | 0/6 [00:00<?, ?it/s]"
      ]
     },
     "metadata": {},
     "output_type": "display_data"
    },
    {
     "data": {
      "application/vnd.jupyter.widget-view+json": {
       "model_id": "cbadc21578e74c62a7bc31cbaff3780a",
       "version_major": 2,
       "version_minor": 0
      },
      "text/plain": [
       "Epoch:   0%|          | 0/5 [00:00<?, ?it/s]"
      ]
     },
     "metadata": {},
     "output_type": "display_data"
    },
    {
     "data": {
      "application/vnd.jupyter.widget-view+json": {
       "model_id": "1d91da1a465a40368cf2d610ff7ac9f0",
       "version_major": 2,
       "version_minor": 0
      },
      "text/plain": [
       "Running Epoch 1 of 5:   0%|          | 0/390 [00:00<?, ?it/s]"
      ]
     },
     "metadata": {},
     "output_type": "display_data"
    },
    {
     "data": {
      "application/vnd.jupyter.widget-view+json": {
       "model_id": "63130b1936d748c688c67b43725eebeb",
       "version_major": 2,
       "version_minor": 0
      },
      "text/plain": [
       "Running Epoch 2 of 5:   0%|          | 0/390 [00:00<?, ?it/s]"
      ]
     },
     "metadata": {},
     "output_type": "display_data"
    },
    {
     "data": {
      "application/vnd.jupyter.widget-view+json": {
       "model_id": "9f4e5b71d72e4da0b5af96586fa29b9d",
       "version_major": 2,
       "version_minor": 0
      },
      "text/plain": [
       "Running Epoch 3 of 5:   0%|          | 0/390 [00:00<?, ?it/s]"
      ]
     },
     "metadata": {},
     "output_type": "display_data"
    },
    {
     "data": {
      "application/vnd.jupyter.widget-view+json": {
       "model_id": "8ae0f58988b64f728a85ed9a34b5fa55",
       "version_major": 2,
       "version_minor": 0
      },
      "text/plain": [
       "Running Epoch 4 of 5:   0%|          | 0/390 [00:00<?, ?it/s]"
      ]
     },
     "metadata": {},
     "output_type": "display_data"
    },
    {
     "data": {
      "application/vnd.jupyter.widget-view+json": {
       "model_id": "a1dc36d2ef4e42a39794424a15e9300a",
       "version_major": 2,
       "version_minor": 0
      },
      "text/plain": [
       "Running Epoch 5 of 5:   0%|          | 0/390 [00:00<?, ?it/s]"
      ]
     },
     "metadata": {},
     "output_type": "display_data"
    }
   ],
   "source": [
    "cuda_available = torch.cuda.is_available()\n",
    "\n",
    "model_args = ClassificationArgs(\n",
    "    num_train_epochs=EPOCHS,\n",
    "    learning_rate = LEARNING_RATE,\n",
    "    reprocess_input_data= True,\n",
    "    save_model_every_epoch=False,\n",
    "    overwrite_output_dir= True\n",
    "    )\n",
    "\n",
    "model = ClassificationModel(\n",
    "    \"roberta\",\n",
    "    \"roberta-base\",\n",
    "    num_labels=num_classes,\n",
    "    weight=class_weights,\n",
    "    use_cuda=cuda_available,\n",
    "    args=model_args\n",
    "    )\n",
    "\n",
    "model.train_model(train_df, eval_df=test_df, custom_eval_function=eval_metrics)\n",
    "model.save_model()"
   ]
  },
  {
   "cell_type": "code",
   "execution_count": 9,
   "id": "19eff298",
   "metadata": {},
   "outputs": [
    {
     "data": {
      "application/vnd.jupyter.widget-view+json": {
       "model_id": "03f9f0391daa4ec6ba769443a2dcd01c",
       "version_major": 2,
       "version_minor": 0
      },
      "text/plain": [
       "  0%|          | 0/1 [00:00<?, ?it/s]"
      ]
     },
     "metadata": {},
     "output_type": "display_data"
    },
    {
     "data": {
      "application/vnd.jupyter.widget-view+json": {
       "model_id": "636dfa82044f47539ea1c82aa77db273",
       "version_major": 2,
       "version_minor": 0
      },
      "text/plain": [
       "Running Evaluation:   0%|          | 0/8 [00:00<?, ?it/s]"
      ]
     },
     "metadata": {},
     "output_type": "display_data"
    },
    {
     "name": "stdout",
     "output_type": "stream",
     "text": [
      "MCC: 0.9877820934909955, Eval_Loss: 0.05131442143465392\n"
     ]
    }
   ],
   "source": [
    "result, _, _ = model.eval_model(test_df)\n",
    "print(f\"MCC: {result['mcc']}, Eval_Loss: {result['eval_loss']}\")"
   ]
  },
  {
   "cell_type": "code",
   "execution_count": 10,
   "id": "079a8229",
   "metadata": {},
   "outputs": [
    {
     "data": {
      "application/vnd.jupyter.widget-view+json": {
       "model_id": "6c9775db108548a6a0f1ccf49a76fd27",
       "version_major": 2,
       "version_minor": 0
      },
      "text/plain": [
       "  0%|          | 0/1 [00:00<?, ?it/s]"
      ]
     },
     "metadata": {},
     "output_type": "display_data"
    },
    {
     "data": {
      "application/vnd.jupyter.widget-view+json": {
       "model_id": "8f0b81b5ccfe40c7b0be99fa6cbcef29",
       "version_major": 2,
       "version_minor": 0
      },
      "text/plain": [
       "  0%|          | 0/8 [00:00<?, ?it/s]"
      ]
     },
     "metadata": {},
     "output_type": "display_data"
    },
    {
     "name": "stdout",
     "output_type": "stream",
     "text": [
      "Accuracy: 0.9826473283408336, F1 Score: 0.9897435897435898\n"
     ]
    }
   ],
   "source": [
    "result,output = model.predict(test_df['text'].values.tolist())\n",
    "\n",
    "eval_result = eval_metrics(result, test_df['labels'])\n",
    "print(f\"Accuracy: {eval_result['accuracy']}, F1 Score: {eval_result['f1_weighted']}\")"
   ]
  },
  {
   "cell_type": "code",
   "execution_count": 11,
   "id": "31ce1e5d",
   "metadata": {},
   "outputs": [
    {
     "data": {
      "application/vnd.jupyter.widget-view+json": {
       "model_id": "7a89834e8b6b4087b5115ffb791762fd",
       "version_major": 2,
       "version_minor": 0
      },
      "text/plain": [
       "0it [00:00, ?it/s]"
      ]
     },
     "metadata": {},
     "output_type": "display_data"
    },
    {
     "data": {
      "application/vnd.jupyter.widget-view+json": {
       "model_id": "184b4b8807dc4d528411fd819340db57",
       "version_major": 2,
       "version_minor": 0
      },
      "text/plain": [
       "  0%|          | 0/1 [00:00<?, ?it/s]"
      ]
     },
     "metadata": {},
     "output_type": "display_data"
    },
    {
     "name": "stdout",
     "output_type": "stream",
     "text": [
      "Transcription: soap / chart / progress notes, congestive heart failure, diabetes, hyperlipidemia, chronic renal insufficiency, arthritis, chronic medical conditions, heart, REASON FOR VISIT: , Followup evaluation and management of chronic medical conditions.,HISTORY OF PRESENT ILLNESS:,  The patient has been doing quite well since he was last seen.  He comes in today with his daughter.  He has had no symptoms of CAD or CHF.  He had followup with Dr. X and she thought he was doing quite well as well.  He has had no symptoms of hyperglycemia or hypoglycemia.  He has had no falls.  His right knee does pain him at times and he is using occasional doses of Tylenol for that.  He wonders whether he could use a knee brace to help him with that issue as well.  His spirits are good.  He has had no incontinence.  His memory is clear, as is his thinking.,MEDICATIONS:,1.  Bumex - 2 mg daily.,2.  Aspirin - 81 mg daily.,3.  Lisinopril - 40 mg daily.,4.  NPH insulin - 65 units in the morning and 25 units in the evening.,5.  Zocor - 80 mg daily.,6.  Toprol-XL - 200 mg daily.,7.  Protonix - 40 mg daily.,8.  Chondroitin/glucosamine - no longer using.,MAJOR FINDINGS:,  Weight 240, blood pressure by nurse 160/80, by me 140/78, pulse 91 and regular, and O2 saturation 94%.  He is afebrile.  JVP is normal without HJR.  CTAP.  RRR.  S1 and S2.  Aortic murmur unchanged.  Abdomen:  Soft, NT without HSM, normal BS.  Extremities:  No edema on today's examination.  Awake, alert, attentive, able to get up on to the examination table under his own power.  Able to get up out of a chair with normal get up and go.  Bilateral OA changes of the knee.,Creatinine 1.7, which was down from 2.3.  A1c 7.6 down from 8.5.  Total cholesterol 192, HDL 37, and triglycerides 487.,ASSESSMENTS:,1.  Congestive heart failure, stable on current regimen.  Continue.,2.  Diabetes type II, A1c improved with increased doses of NPH insulin.  Doing self-blood glucose monitoring with values in the morning between 100 and 130.  Continue current regimen.  Recheck A1c on return.,3.  Hyperlipidemia, at last visit, he had 3+ protein in his urine.  TSH was normal.  We will get a 24-hour urine to rule out nephrosis as the cause of his hypertriglyceridemia.  In the interim, both Dr. X and I have been considering together as to whether the patient should have an agent added to treat his hypertriglyceridemia.  Specifically we were considering TriCor (fenofibrate).  Given his problems with high CPK values in the past for now, we have decided not to engage in that strategy.  We will leave open for the future.  Check fasting lipid panel today.,4.  Chronic renal insufficiency, improved with reduction in dose of Bumex over time.,5.  Arthritis, stable.  I told the patient he could use Extra Strength Tylenol up to 4 grams a day, but I suggest that he start with a regular dose of 1 to 2 to 3 grams per day.  He states he will inch that up slowly.  With regard to a brace, he stated he used one in the past and that did not help very much.  I worry a little bit about the tourniquet type effect of a brace that could increase his edema or put him at risk for venous thromboembolic disease.  For now he will continue with his cane and walker.,6.  Health maintenance, flu vaccination today.,PLANS: , Followup in 3 months, by phone sooner as needed.\n",
      "True Label:  SOAP / Chart / Progress Notes, Predicted Label:  SOAP / Chart / Progress Notes\n",
      "\n"
     ]
    },
    {
     "data": {
      "application/vnd.jupyter.widget-view+json": {
       "model_id": "7b3aaa12a4de42bc96d5978d0b46046e",
       "version_major": 2,
       "version_minor": 0
      },
      "text/plain": [
       "0it [00:00, ?it/s]"
      ]
     },
     "metadata": {},
     "output_type": "display_data"
    },
    {
     "data": {
      "application/vnd.jupyter.widget-view+json": {
       "model_id": "f4d8d2b6d34541afbff12aeb1d2c2e10",
       "version_major": 2,
       "version_minor": 0
      },
      "text/plain": [
       "  0%|          | 0/1 [00:00<?, ?it/s]"
      ]
     },
     "metadata": {},
     "output_type": "display_data"
    },
    {
     "name": "stdout",
     "output_type": "stream",
     "text": [
      "Transcription: surgery, basal cell carcinoma, cryotherapy, steven scissors, conjunctiva, conjunctival flap, frontal nerve block, frozen section, lower lid, orbicularis, skin graft, nasal and temporal margins, dorsal conjunctival flap, upper lid, basal, carcinoma, preauricular, incision, conjunctival, PREOPERATIVE DIAGNOSIS: , Extremely large basal cell carcinoma, right lower lid.,POSTOPERATIVE DIAGNOSIS:,  Extremely large basal cell carcinoma, right lower lid.,TITLE OF OPERATION: , Excision of large basal cell carcinoma, right lower lid, and repaired with used dorsal conjunctival flap in the upper lid and a large preauricular skin graft.,PROCEDURE: , The patient was brought into the operating room and prepped and draped in usual fashion.  Xylocaine 2% with epinephrine was injected beneath the conjunctiva and skin of the lower lid and also beneath the conjunctiva and skin of the upper lid.  A frontal nerve block was also given on the right upper lid.  The anesthetic agent was also injected in the right preauricular region which would provide a donor graft for the right lower lid defect.  The area was marked with a marking pen with margins of 3 to 4 mm, and a #15 Bard-Parker blade was used to make an incision at the nasal and temporal margins of the lesion.,The incision was carried inferiorly, and using a Steven scissors the normal skin, muscle, and conjunctiva was excised inferiorly.  The specimen was then marked and sent to pathology for frozen section.  Bleeding was controlled with a wet-field cautery, and the right upper lid was everted, and an incision was made 3 mm above the lid margin with the Bard-Parker blade in the entire length of the upper lid.  The incision reached the orbicularis, and Steven scissors were used to separate the tarsus from the underlying orbicularis.  Vertical cuts were made nasally and temporally, and a large dorsal conjunctival flap was fashioned with the conjunctiva attached superiorly.  It was placed into the defect in the lower lid and sutured with multiple interrupted 6-0 Vicryl sutures nasally, temporally, and inferiorly.,The defect in the skin was measured and an appropriate large preauricular graft was excised from the right preauricular region.  The defect was closed with interrupted 5-0 Prolene sutures, and the preauricular graft was sutured in place with multiple interrupted 6-0 silk sutures.  The upper border of the graft was attached to the upper lid after incision was made in the gray line with a Superblade, and the superior portion of the skin graft was sutured to the upper lid through the anterior lamella created by the razor blade incision.,Cryotherapy was then used to treat the nasal and temporal margins of the area of excision because of positive margins, and following this an antibiotic steroid ointment was instilled and a light pressure dressing was applied.  The patient tolerated the procedure well and was sent to recovery room in good condition.\n",
      "True Label:  Surgery, Predicted Label:  Surgery\n",
      "\n"
     ]
    },
    {
     "data": {
      "application/vnd.jupyter.widget-view+json": {
       "model_id": "c6869c07abb1411e8ebfbe9d35f4bdc0",
       "version_major": 2,
       "version_minor": 0
      },
      "text/plain": [
       "0it [00:00, ?it/s]"
      ]
     },
     "metadata": {},
     "output_type": "display_data"
    },
    {
     "data": {
      "application/vnd.jupyter.widget-view+json": {
       "model_id": "6b33a362193a468a932046024a330d76",
       "version_major": 2,
       "version_minor": 0
      },
      "text/plain": [
       "  0%|          | 0/1 [00:00<?, ?it/s]"
      ]
     },
     "metadata": {},
     "output_type": "display_data"
    },
    {
     "name": "stdout",
     "output_type": "stream",
     "text": [
      "Transcription: radiology, tumor cells, concomitant chemoradiotherapy, chemotherapy, radiotherapyNOTE,: Thesetranscribed medical transcription sample reports and examples are provided by various users andare for reference purpose only. MTHelpLine does not certify accuracy and quality of sample reports.These transcribed medical transcription sample reports may include some uncommon or unusual formats;this would be due to the preference of the dictating physician. All names and dates have beenchanged (or removed) to keep confidentiality. Any resemblance of any type of name or date orplace or anything else to real world is purely incidental.CONCOMITANT CHEMORADIOTHERAPY FOR CURATIVE INTENT PATIENTS,This patient is receiving combined radiotherapy and chemotherapy in an effort to maximize the chance of control of this cancer.  The chemotherapy is given in addition to the radiotherapy, not only to act as a cytotoxic agent on its own, but also to potentiate and enhance the effect of radiotherapy on tumor cells.  It has been shown in the literature that this will maximize the chance of control.,During the course of the treatment, the patient's therapy must be closely monitored by the attending physician to be sure that the proper chemotherapy drugs are given at the proper time during the radiotherapy course.  It is also important to closely monitor the patient to know when treatment with either chemotherapy or radiotherapy needs to be held.  This combined treatment usually produces greater side effects than either treatment alone, and these need to be constantly monitored and treatment initiated on a timely basis to minimize these effects.  In accordance, this requires more frequency consultation and coordination with the medical oncologist.  Therefore, this becomes a very time intensive treatment and justifies CPT Code 77470.\n",
      "True Label:  Radiology, Predicted Label:  Radiology\n",
      "\n"
     ]
    },
    {
     "data": {
      "application/vnd.jupyter.widget-view+json": {
       "model_id": "52431841d47847e386ad9ae283d4621a",
       "version_major": 2,
       "version_minor": 0
      },
      "text/plain": [
       "0it [00:00, ?it/s]"
      ]
     },
     "metadata": {},
     "output_type": "display_data"
    },
    {
     "data": {
      "application/vnd.jupyter.widget-view+json": {
       "model_id": "c4314056515a4d759711f3a11c257c10",
       "version_major": 2,
       "version_minor": 0
      },
      "text/plain": [
       "  0%|          | 0/1 [00:00<?, ?it/s]"
      ]
     },
     "metadata": {},
     "output_type": "display_data"
    },
    {
     "name": "stdout",
     "output_type": "stream",
     "text": [
      "Transcription: surgery, claudication, extremity run off, angio suite, superficial femoral artery, popliteal, superficial, femoral, aortogram, artery, balloon, glidewire, angioplasty, stenosis, renal, PREPROCEDURE DIAGNOSIS:,  Left leg claudication.,POSTPROCEDURE DIAGNOSIS: ,  Left leg claudication.,OPERATION PERFORMED: , Aortogram with bilateral, segmental lower extremity run off.,ANESTHESIA: , Conscious sedation.,INDICATION FOR PROCEDURE:  ,The patient presents with lower extremity claudication.  She is a 68-year-old woman, who is very fearful of the aforementioned procedures.  Risks and benefits of the procedure were explained to her to include bleeding, infection, arterial trauma requiring surgery, access issues and recurrence.  She appears to understand and agrees to proceed.,DESCRIPTION OF PROCEDURE: , The patient was taken to the Angio Suite, placed in a supine position.  After adequate conscious sedation, both groins were prepped with Chloraseptic prep.  Cloth towels and paper drapes were placed.  Local anesthesia was administered in the common femoral artery and using ultrasound guidance, the common femoral artery was accessed.  Guidewire was threaded followed by a ,4-French sheath.  Through the 4-French sheath a 4-French Omni flush catheter was placed.  The glidewire was removed and contrast administered to identify the level of the renal artery.  Using power injector an aortogram proceeded.,The catheter was then pulled down to the aortic bifurcation.  A timed run-off view of both legs was performed and due to a very abnormal and delayed run-off in the left, I opted to perform an angiogram of the left lower extremity with an isolated approach.  The catheter was pulled down to the aortic bifurcation and using a glidewire, I obtained access to the contralateral left external iliac artery.  The Omni flush catheter was advanced to the left distal external iliac artery.  The glidewire rather exchanged for an Amplatz stiff wire.  This was left in place and the 4-French sheath removed and replaced with a 6-French destination 45-cm sheath.  This was advanced into the proximal superficial femoral artery and an angiogram performed.  I identified a functionally occluded distal superficial femoral artery and after obtaining views of the run off made plans for angioplasty.,The patient was given 5000 units of heparin and this was allowed to circulate.  A glidewire was carefully advanced using Roadmapping techniques through the functionally occluded blood vessels.  A 4-mm x 4-cm angioplasty balloon was used to dilate the area in question.,Final views after dilatation revealed a dissection.  A search for a 5-mm stent was performed, but none of this was available.  For this reason, I used a 6-mm x 80-mm marked stent and placed this at the distal superficial femoral artery.  Post dilatation was performed with a 4-mm angioplasty balloon.  Further views of the left lower extremity showed irregular change in the popliteal artery.  No significant stenosis could be identified in the left popliteal artery and noninvasive scan.  For this reason, I chose not to treat any further areas in the left leg.,I then performed closure of the right femoral artery with a 6-French Angio-Seal device.  Attention was turned to the left femoral artery and local anesthesia administered.  Access was obtained with the ultrasound and the femoral artery identified.  Guidewire was threaded followed by a 4-French sheath.  This was immediately exchanged for the 6-French destination sheath after the glidewire was used to access the distal external iliac artery.  The glidewire was exchanged for the Amplatz stiff wire to place the destination sheath.  The destination was placed in the proximal superficial femoral artery and angiogram obtained.  Initial views had been obtained from the right femoral sheath before removal.,Views of the right superficial femoral artery demonstrated significant stenosis with accelerated velocities in the popliteal and superficial femoral artery.  For this reason, I performed the angioplasty of the superficial femoral artery using the 4-mm balloon.  A minimal dissection plane measuring less than 1 cm was identified at the proximal area of dilatation.  No further significant abnormality was identified.  To avoid placing a stent in the small vessel I left it alone and approached the popliteal artery.  A 3-mm balloon was chosen to dilate a 50 to 79% popliteal artery stenosis.  Reasonable use were obtained and possibly a 4-mm balloon could have been used.  However, due to her propensity for dissection I opted not to.  I then exchanged the glidewire for an O1 for Thruway guidewire using an exchange length.  This was placed into the left posterior tibial artery.  A 2-mm balloon was used to dilate the orifice of the posterior tibial artery.  I then moved the wire to the perineal artery and dilated the proximal aspect of this vessel.  Final images showed improved run-off to the right calf.  The destination sheath was pulled back into the left external iliac artery and an Angio-Seal deployed.,FINDINGS: , Aortogram demonstrates a dual right renal artery with the inferior renal artery supplying the lower one third of the right renal parenchyma.  No evidence of renal artery stenosis is noted bilaterally.  There is a single left renal artery.  The infrarenal aorta, both common iliac and the external iliac arteries are normal.  On the right, a superficial femoral artery is widely patent and normal proximally.  At the distal third of the thigh there is diffuse disease with moderate stenosis noted.  Moderate stenosis is also noted in the popliteal artery and single vessel run-off through the posterior tibial artery is noted.  The perineal artery is functionally occluded at the midcalf.  The dorsal pedal artery filled by collateral at the high ankle level.,On the left, the proximal superficial femoral artery is patent.  Again, at the distal third of the thigh, there is a functional occlusion of the superficial femoral artery with poor collateralization to the high popliteal artery.  This was successfully treated with angioplasty and a stent placement.  The popliteal artery is diffusely diseased without focal stenosis.  The tibioperoneal trunk is patent and the anterior tibial artery occluded at its orifice.,IMPRESSION,1.  Normal bilateral renal arteries with a small accessory right renal artery.,2.  Normal infrarenal aorta as well as normal bilateral common and external iliac arteries.,3.  The proximal right renal artery is normal with moderately severe stenosis in the superficial femoral popliteal and tibial arteries.  Successful angioplasty with reasonable results in the distal superficial femoral, popliteal and proximal posterior tibial artery as described.,4.  Normal proximal left superficial femoral artery with functional occlusion of the distal left superficial femoral artery successfully treated with angioplasty and stent placement.  Run-off to the left lower extremity is via a patent perineal and posterior tibial artery.\n",
      "True Label:  Surgery, Predicted Label:  Surgery\n",
      "\n"
     ]
    },
    {
     "data": {
      "application/vnd.jupyter.widget-view+json": {
       "model_id": "216c64800e834a0bbd51a70bde6d2800",
       "version_major": 2,
       "version_minor": 0
      },
      "text/plain": [
       "0it [00:00, ?it/s]"
      ]
     },
     "metadata": {},
     "output_type": "display_data"
    },
    {
     "data": {
      "application/vnd.jupyter.widget-view+json": {
       "model_id": "57408d7132bc48748cad875c0fb26161",
       "version_major": 2,
       "version_minor": 0
      },
      "text/plain": [
       "  0%|          | 0/1 [00:00<?, ?it/s]"
      ]
     },
     "metadata": {},
     "output_type": "display_data"
    },
    {
     "name": "stdout",
     "output_type": "stream",
     "text": [
      "Transcription: pain management, nerve root block, 1% lidocaine, asa monitors, cervical selective nerve root block, fluoroscopy, iv sedation, nerve root, oblique, selective nerve root, carotid artery, foramen, neural foramina, edge of the foramen, selective nerve root block, cervical,CERVICAL SELECTIVE NERVE ROOT BLOCK,PREPROCEDURE PREPARATION:,  After being explained the risks and benefits of the procedure, the patient signed the standard informed consent form.  The patient was placed in the prone position and standard ASA monitors applied.  Intravenous access was established and IV sedation was used.  For further details of IV sedation and infusion, please refer to anesthesia notes.  The patient was able to respond appropriately throughout the procedure.  * Fluoroscopy was used to identify the appropriate anatomy.  The skin was prepped and draped in a sterile fashion and sterile technique was maintained throughout the procedure.,PROCEDURE DETAILS:,  The patient was laid supine.  Oblique placement was achieved by placing pillow below the shoulder and turning the head.  The C# neural foramina was identified by counting down from the C2-3 foramen.  The external carotid artery was marked off by palpation.  The neck was aseptically prepared.  1% lidocaine was used for local infiltration and subsequently a 25-gauge spinal needle was passed down to the C# neural foramen under fluoroscopic control.  The posterior inferior edge of the foramen bone was contacted.  The needle was then redirected and slowly walked off the bone into the foramen by a few millimeters.  Care was taken to remain in the posterior inferior edge of the foramen.  Positioning was checked by AP view, in which the needle tip extended no further medially than the midpoint of the adjacent pedicle.  1 mL of contrast was used to confirm position under fluoroscopy after aspiration.  Acceptable dye pattern was seen.  Subsequent 1 mL of 1% lidocaine was injected after aspiration and the patient was monitored.  No adverse affects with 1% lidocaine were noted and subsequently 1 mL of Celestone was injected.  Compression bandage was applied to the neck and no complications were noted.,POSTPROCEDURE EVALUATION:,  After a 30-minute recovery period, during which no complications were noted, the patient was discharged home.  Pulse oximetry was carried out on room air in recovery and all oxygen saturations were above 95% with no respiratory distress observed.\n",
      "True Label:  others, Predicted Label:  others\n",
      "\n"
     ]
    }
   ],
   "source": [
    "samples = test_df.sample(5, random_state=42)\n",
    "for _, row in samples.iterrows():\n",
    "    transcription = row['text']\n",
    "    true_class = class_dict.loc[row['labels'], 'medical_specialty']\n",
    "    pred_label = model.predict([transcription])[0][0]\n",
    "    pred_class = class_dict.loc[pred_label, 'medical_specialty']\n",
    "    print(f\"Transcription: {transcription}\\nTrue Label: {true_class}, Predicted Label: {pred_class}\\n\")"
   ]
  },
  {
   "cell_type": "markdown",
   "id": "b11720f2",
   "metadata": {},
   "source": [
    "Rajapakse, T. C., Yates, A., & de Rijke, M. (2024). Simple Transformers: Open-source for all. In *Proceedings of the 2024 Annual International ACM SIGIR Conference on Research and Development in Information Retrieval in the Asia Pacific Region* (SIGIR-AP 2024, pp. 209–215). Association for Computing Machinery. [https://doi.org/10.1145/3673791.3698412](https://doi.org/10.1145/3673791.3698412)"
   ]
  }
 ],
 "metadata": {
  "kernelspec": {
   "display_name": "torch-gpu",
   "language": "python",
   "name": "python3"
  },
  "language_info": {
   "codemirror_mode": {
    "name": "ipython",
    "version": 3
   },
   "file_extension": ".py",
   "mimetype": "text/x-python",
   "name": "python",
   "nbconvert_exporter": "python",
   "pygments_lexer": "ipython3",
   "version": "3.10.18"
  }
 },
 "nbformat": 4,
 "nbformat_minor": 5
}
