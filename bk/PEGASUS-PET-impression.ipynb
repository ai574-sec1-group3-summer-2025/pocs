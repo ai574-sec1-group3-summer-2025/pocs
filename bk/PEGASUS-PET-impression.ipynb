{
 "cells": [
  {
   "cell_type": "markdown",
   "id": "ba2d1b1b-0713-4633-9745-bb21dce7b27c",
   "metadata": {},
   "source": [
    "Personalized Impression Generation for PET Reports Using Large Language Models\n",
    "https://pmc.ncbi.nlm.nih.gov/articles/PMC11031527/\n",
    "https://github.com/xtie97/PET-Report-Expert-Evaluation"
   ]
  },
  {
   "cell_type": "code",
   "execution_count": 1,
   "id": "be0bb6ee-a120-49df-9e0d-ab44893fbfbb",
   "metadata": {},
   "outputs": [
    {
     "name": "stderr",
     "output_type": "stream",
     "text": [
      "/home/kilnaar/anaconda3/envs/ai574-pocs/lib/python3.11/site-packages/tqdm/auto.py:21: TqdmWarning: IProgress not found. Please update jupyter and ipywidgets. See https://ipywidgets.readthedocs.io/en/stable/user_install.html\n",
      "  from .autonotebook import tqdm as notebook_tqdm\n"
     ]
    }
   ],
   "source": [
    "import torch\n",
    "from transformers import AutoTokenizer, AutoModelForSeq2SeqLM"
   ]
  },
  {
   "cell_type": "code",
   "execution_count": 2,
   "id": "d72dc837-d791-45be-bcb5-a45845e863f8",
   "metadata": {},
   "outputs": [
    {
     "data": {
      "text/plain": [
       "PegasusForConditionalGeneration(\n",
       "  (model): PegasusModel(\n",
       "    (shared): Embedding(96103, 1024, padding_idx=0)\n",
       "    (encoder): PegasusEncoder(\n",
       "      (embed_tokens): Embedding(96103, 1024, padding_idx=0)\n",
       "      (embed_positions): PegasusSinusoidalPositionalEmbedding(1024, 1024)\n",
       "      (layers): ModuleList(\n",
       "        (0-15): 16 x PegasusEncoderLayer(\n",
       "          (self_attn): PegasusAttention(\n",
       "            (k_proj): Linear(in_features=1024, out_features=1024, bias=True)\n",
       "            (v_proj): Linear(in_features=1024, out_features=1024, bias=True)\n",
       "            (q_proj): Linear(in_features=1024, out_features=1024, bias=True)\n",
       "            (out_proj): Linear(in_features=1024, out_features=1024, bias=True)\n",
       "          )\n",
       "          (self_attn_layer_norm): LayerNorm((1024,), eps=1e-05, elementwise_affine=True)\n",
       "          (activation_fn): ReLU()\n",
       "          (fc1): Linear(in_features=1024, out_features=4096, bias=True)\n",
       "          (fc2): Linear(in_features=4096, out_features=1024, bias=True)\n",
       "          (final_layer_norm): LayerNorm((1024,), eps=1e-05, elementwise_affine=True)\n",
       "        )\n",
       "      )\n",
       "      (layer_norm): LayerNorm((1024,), eps=1e-05, elementwise_affine=True)\n",
       "    )\n",
       "    (decoder): PegasusDecoder(\n",
       "      (embed_tokens): Embedding(96103, 1024, padding_idx=0)\n",
       "      (embed_positions): PegasusSinusoidalPositionalEmbedding(1024, 1024)\n",
       "      (layers): ModuleList(\n",
       "        (0-15): 16 x PegasusDecoderLayer(\n",
       "          (self_attn): PegasusAttention(\n",
       "            (k_proj): Linear(in_features=1024, out_features=1024, bias=True)\n",
       "            (v_proj): Linear(in_features=1024, out_features=1024, bias=True)\n",
       "            (q_proj): Linear(in_features=1024, out_features=1024, bias=True)\n",
       "            (out_proj): Linear(in_features=1024, out_features=1024, bias=True)\n",
       "          )\n",
       "          (activation_fn): ReLU()\n",
       "          (self_attn_layer_norm): LayerNorm((1024,), eps=1e-05, elementwise_affine=True)\n",
       "          (encoder_attn): PegasusAttention(\n",
       "            (k_proj): Linear(in_features=1024, out_features=1024, bias=True)\n",
       "            (v_proj): Linear(in_features=1024, out_features=1024, bias=True)\n",
       "            (q_proj): Linear(in_features=1024, out_features=1024, bias=True)\n",
       "            (out_proj): Linear(in_features=1024, out_features=1024, bias=True)\n",
       "          )\n",
       "          (encoder_attn_layer_norm): LayerNorm((1024,), eps=1e-05, elementwise_affine=True)\n",
       "          (fc1): Linear(in_features=1024, out_features=4096, bias=True)\n",
       "          (fc2): Linear(in_features=4096, out_features=1024, bias=True)\n",
       "          (final_layer_norm): LayerNorm((1024,), eps=1e-05, elementwise_affine=True)\n",
       "        )\n",
       "      )\n",
       "      (layer_norm): LayerNorm((1024,), eps=1e-05, elementwise_affine=True)\n",
       "    )\n",
       "  )\n",
       "  (lm_head): Linear(in_features=1024, out_features=96103, bias=False)\n",
       ")"
      ]
     },
     "execution_count": 2,
     "metadata": {},
     "output_type": "execute_result"
    }
   ],
   "source": [
    "finetuned_model = \"xtie/PEGASUS-PET-impression\"\n",
    "tokenizer = AutoTokenizer.from_pretrained(finetuned_model) \n",
    "model = AutoModelForSeq2SeqLM.from_pretrained(finetuned_model, ignore_mismatched_sizes=True).eval()\n",
    "model.to('cuda')"
   ]
  },
  {
   "cell_type": "code",
   "execution_count": 3,
   "id": "f637adb1-7848-406d-910e-1e1ad00ab867",
   "metadata": {},
   "outputs": [],
   "source": [
    "findings_info =\"\"\"\n",
    "Description: PET CT WHOLE BODY\n",
    "Radiologist: James\n",
    "Findings:\n",
    "\n",
    "Head/Neck: \n",
    "Brain: Symmetric cortical FDG uptake. No focal hyper- or hypometabolic lesions.\n",
    "Nasopharynx/Oral cavity: Physiologic activity only.\n",
    "Cervical nodes: No FDG-avid cervical lymphadenopathy; largest node level II < 5 mm short-axis.\n",
    "\n",
    "Chest: \n",
    "Lungs:\n",
    "Irregular spiculated mass in right upper lobe apex measuring 3.1 × 2.6 cm (previously 3.4 × 2.9 cm) with mildly decreased but persistent FDG uptake (SUVmax 4.2; prior 6.7).\n",
    "\n",
    "No new pulmonary nodules.\n",
    "Abdomen/Pelvis: xxx Extremities/Musculoskeletal: xxx\n",
    "Indication:\n",
    "The patient is a 60-year old male with a history of xxx\n",
    "\"\"\"\n",
    "\n",
    "inputs = tokenizer(findings_info.replace('\\n', ' '),\n",
    "                  padding=\"max_length\",\n",
    "                  truncation=True,\n",
    "                  max_length=1024,\n",
    "                  return_tensors=\"pt\")\n",
    "input_ids = inputs.input_ids.to(\"cuda\")\n",
    "attention_mask = inputs.attention_mask.to(\"cuda\")\n",
    "outputs = model.generate(input_ids,\n",
    "                        attention_mask=attention_mask,\n",
    "                        max_new_tokens=512, \n",
    "                        num_beam_groups=1,\n",
    "                        num_beams=4, \n",
    "                        do_sample=False,\n",
    "                        diversity_penalty=0.0,\n",
    "                        num_return_sequences=1, \n",
    "                        length_penalty=2.0,\n",
    "                        no_repeat_ngram_size=3,\n",
    "                        early_stopping=True\n",
    "                        )\n",
    "\n",
    "output_str = tokenizer.decode(outputs[0],\n",
    "                              skip_special_tokens=True)"
   ]
  },
  {
   "cell_type": "code",
   "execution_count": 4,
   "id": "1fc7d5cd-d83a-4fff-be54-711caf0f1a80",
   "metadata": {},
   "outputs": [
    {
     "data": {
      "text/plain": [
       "'[1] Irregular spiculated mass in right upper lobe apex with mildly decreased but persistent FDG uptake (SUVmax 4.2; prior 6.7). No new pulmonary nodules. [2] No FDG-avid metastatic disease.'"
      ]
     },
     "execution_count": 4,
     "metadata": {},
     "output_type": "execute_result"
    }
   ],
   "source": [
    "output_str"
   ]
  },
  {
   "cell_type": "code",
   "execution_count": null,
   "id": "a4d4425e-e7e5-4a7c-8ad6-679d888d312d",
   "metadata": {},
   "outputs": [],
   "source": []
  }
 ],
 "metadata": {
  "kernelspec": {
   "display_name": "Python 3 (ipykernel)",
   "language": "python",
   "name": "python3"
  },
  "language_info": {
   "codemirror_mode": {
    "name": "ipython",
    "version": 3
   },
   "file_extension": ".py",
   "mimetype": "text/x-python",
   "name": "python",
   "nbconvert_exporter": "python",
   "pygments_lexer": "ipython3",
   "version": "3.11.13"
  }
 },
 "nbformat": 4,
 "nbformat_minor": 5
}
