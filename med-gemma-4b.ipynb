{
 "cells": [
  {
   "cell_type": "code",
   "execution_count": 1,
   "id": "6dcd4bcf-556c-4619-a124-1b30508525f1",
   "metadata": {},
   "outputs": [
    {
     "name": "stderr",
     "output_type": "stream",
     "text": [
      "/home/kilnaar/anaconda3/envs/ai574-pocs/lib/python3.11/site-packages/tqdm/auto.py:21: TqdmWarning: IProgress not found. Please update jupyter and ipywidgets. See https://ipywidgets.readthedocs.io/en/stable/user_install.html\n",
      "  from .autonotebook import tqdm as notebook_tqdm\n"
     ]
    }
   ],
   "source": [
    "import torch, textwrap\n",
    "from transformers import AutoTokenizer, AutoModelForCausalLM, GenerationConfig"
   ]
  },
  {
   "cell_type": "code",
   "execution_count": 2,
   "id": "57dc2f5c-4498-421c-a8f8-2d7bd268121d",
   "metadata": {},
   "outputs": [
    {
     "name": "stderr",
     "output_type": "stream",
     "text": [
      "Loading checkpoint shards: 100%|█████████████████████████████████████████████████████████████████████████████████████| 11/11 [00:02<00:00,  4.02it/s]\n",
      "Some parameters are on the meta device because they were offloaded to the cpu.\n"
     ]
    }
   ],
   "source": [
    "MODEL_ID = \"google/medgemma-27b-text-it\"\n",
    "DEVICE   = \"cuda\" if torch.cuda.is_available() else \"CPU\"\n",
    "tokenizer = AutoTokenizer.from_pretrained(MODEL_ID)\n",
    "max_mem = {1: \"23GiB\", \"cpu\": \"64GiB\"} \n",
    "model = AutoModelForCausalLM.from_pretrained(\n",
    "    MODEL_ID,\n",
    "    torch_dtype=\"auto\",\n",
    "    device_map=\"auto\",\n",
    "    max_memory=max_mem,\n",
    "    offload_folder=\"offload_medgemma\"\n",
    ")"
   ]
  },
  {
   "cell_type": "code",
   "execution_count": 3,
   "id": "6072732b-64fa-4900-ae89-1642bb76a979",
   "metadata": {},
   "outputs": [],
   "source": [
    "medical_text = \"\"\"\n",
    "Non-steroidal anti-inflammatory drugs are not only potent analgesics and antipyretics but also nephrotoxins, and may cause \n",
    "electrolyte disarray. In addition to the commonly expected effects, including hyperkalemia, hyponatremia, acute renal injury, \n",
    "renal cortical necrosis, and volume retention, glomerular disease with or without nephrotic syndrome or nephritis can occur as \n",
    "well including after years of seemingly safe administration. Minimal change disease, secondary membranous glomerulonephritis, \n",
    "and acute interstitial nephritis are all reported glomerular lesions seen with non-steroidal anti-inflammatory use. We report a \n",
    "patient who used non-steroidal anti-inflammatory drugs for years without diabetes, chronic kidney disease, or proteinuria; he \n",
    "then developed severe nephrotic range proteinuria with 7 g of daily urinary protein excretion. Renal biopsy showed minimal \n",
    "change nephropathy, a likely secondary membranous glomerulonephritis, and acute interstitial nephritis present simultaneously\n",
    "in one biopsy. \n",
    "\n",
    "\"\"\""
   ]
  },
  {
   "cell_type": "code",
   "execution_count": 4,
   "id": "dd440072-008a-4317-b8f4-9930fc1ecce6",
   "metadata": {},
   "outputs": [],
   "source": [
    "messages = [\n",
    "    {\n",
    "        \"role\": \"user\",\n",
    "        \"content\": textwrap.dedent(f\"\"\"\n",
    "            Below is an abstract from a medical paper.\n",
    "\n",
    "            ```text\n",
    "            {medical_text.strip()}\n",
    "            ```\n",
    "\n",
    "            **Task:** Produce a ≤40-word summary **and end with a full stop (.) when you are done.**\n",
    "            Use clear, professional medical language.\n",
    "            Don't include a greeting or introduction.\n",
    "        \"\"\"),\n",
    "    }\n",
    "]"
   ]
  },
  {
   "cell_type": "code",
   "execution_count": 5,
   "id": "6f8cbd2a-3d45-4567-92dd-5e9aea6a373b",
   "metadata": {},
   "outputs": [],
   "source": [
    "input_ids = tokenizer.apply_chat_template(\n",
    "    messages,\n",
    "    add_generation_prompt = True,\n",
    "    return_tensors = \"pt\"\n",
    ").to(model.device)"
   ]
  },
  {
   "cell_type": "code",
   "execution_count": 6,
   "id": "dd8225f3-c343-4f75-b47b-a2508e522fee",
   "metadata": {},
   "outputs": [
    {
     "name": "stderr",
     "output_type": "stream",
     "text": [
      "`generation_config` default values have been modified to match model-specific defaults: {'cache_implementation': 'hybrid', 'top_k': 64, 'eos_token_id': [1, 106]}. If this is not desired, please set these values explicitly.\n",
      "The attention mask and the pad token id were not set. As a consequence, you may observe unexpected behavior. Please pass your input's `attention_mask` to obtain reliable results.\n",
      "Setting `pad_token_id` to `eos_token_id`:1 for open-end generation.\n",
      "The attention mask is not set and cannot be inferred from input because pad token is same as eos token. As a consequence, you may observe unexpected behavior. Please pass your input's `attention_mask` to obtain reliable results.\n"
     ]
    },
    {
     "data": {
      "text/plain": [
       "'NSAIDs can cause various renal toxicities, including electrolyte imbalances and acute kidney injury. Glomerular diseases like minimal change disease, membranous glomerulonephritis and acute interstitial nephritis can develop even after prolonged use, potentially leading to nephrotic syndrome.'"
      ]
     },
     "execution_count": 6,
     "metadata": {},
     "output_type": "execute_result"
    }
   ],
   "source": [
    "gen_cfg = GenerationConfig(\n",
    "    max_new_tokens = 128,\n",
    "    temperature = 0.1,\n",
    "    top_p = 0.9,\n",
    "    repetition_penalty = 1.1,\n",
    "    do_sample = True,\n",
    "    no_repeat_ngram_size = 6,\n",
    ")\n",
    "\n",
    "with torch.no_grad():\n",
    "    generated = model.generate(input_ids, generation_config = gen_cfg, return_dict_in_generate = False)\n",
    "\n",
    "summary = tokenizer.decode(generated[0], skip_special_tokens = True)\n",
    "summary = summary.split('\\nmodel\\n')[-1]\n",
    "summary"
   ]
  }
 ],
 "metadata": {
  "kernelspec": {
   "display_name": "Python 3 (ipykernel)",
   "language": "python",
   "name": "python3"
  },
  "language_info": {
   "codemirror_mode": {
    "name": "ipython",
    "version": 3
   },
   "file_extension": ".py",
   "mimetype": "text/x-python",
   "name": "python",
   "nbconvert_exporter": "python",
   "pygments_lexer": "ipython3",
   "version": "3.11.13"
  }
 },
 "nbformat": 4,
 "nbformat_minor": 5
}
