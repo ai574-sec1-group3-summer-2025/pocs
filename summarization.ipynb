{
 "cells": [
  {
   "cell_type": "markdown",
   "id": "93963087-cf22-453d-9f1e-640c3cdd303a",
   "metadata": {},
   "source": [
    "# BioBART v2 Large"
   ]
  },
  {
   "cell_type": "code",
   "execution_count": null,
   "id": "e16bd936-c898-44a1-9ed2-36de4c897679",
   "metadata": {},
   "outputs": [],
   "source": [
    "import torch\n",
    "from transformers import AutoTokenizer, AutoModelForSeq2SeqLM, pipeline"
   ]
  },
  {
   "cell_type": "markdown",
   "id": "e779fb48",
   "metadata": {},
   "source": [
    "## Load Model"
   ]
  },
  {
   "cell_type": "code",
   "execution_count": null,
   "id": "9dcfa4b8-1066-489f-bc2c-6619735b5b7a",
   "metadata": {},
   "outputs": [],
   "source": [
    "MODEL_ID = \"GanjinZero/biobart-v2-large\"\n",
    "tokenizer = AutoTokenizer.from_pretrained(\n",
    "    MODEL_ID, \n",
    "    use_fast = True)\n",
    "model = AutoModelForSeq2SeqLM.from_pretrained(\n",
    "    MODEL_ID, \n",
    "    device_map = \"auto\", \n",
    "    torch_dtype = \"auto\")"
   ]
  },
  {
   "cell_type": "markdown",
   "id": "f736e0ad",
   "metadata": {},
   "source": [
    "## Some Medical Text"
   ]
  },
  {
   "cell_type": "code",
   "execution_count": null,
   "id": "5a302686-d791-49af-a49d-6153a0190d87",
   "metadata": {},
   "outputs": [],
   "source": [
    "medical_text = \"\"\"\n",
    "Non-steroidal anti-inflammatory drugs are not only potent analgesics and antipyretics but also nephrotoxins, and may cause \n",
    "electrolyte disarray. In addition to the commonly expected effects, including hyperkalemia, hyponatremia, acute renal injury, \n",
    "renal cortical necrosis, and volume retention, glomerular disease with or without nephrotic syndrome or nephritis can occur as \n",
    "well including after years of seemingly safe administration. Minimal change disease, secondary membranous glomerulonephritis, \n",
    "and acute interstitial nephritis are all reported glomerular lesions seen with non-steroidal anti-inflammatory use. We report a \n",
    "patient who used non-steroidal anti-inflammatory drugs for years without diabetes, chronic kidney disease, or proteinuria; he \n",
    "then developed severe nephrotic range proteinuria with 7 g of daily urinary protein excretion. Renal biopsy showed minimal \n",
    "change nephropathy, a likely secondary membranous glomerulonephritis, and acute interstitial nephritis present simultaneously\n",
    "in one biopsy. Cessation of non-steroidal anti-inflammatory drug use along with steroid treatment resulted in a moderate\n",
    "improvement in renal function, though residual impairment remained. Urine heavy metal screen returned with elevated levels of\n",
    "urine copper, but with normal ceruloplasmin level. Workup suggested that the elevated copper levels were due to cirrhosis from\n",
    "non-alcoholic fatty liver disease. The membranous glomerulonephritis is possibly linked to non-steroidal anti-inflammatory drug\n",
    "exposure, and possibly to heavy metal exposure, and is clinically and pathologically much less likely to be a primary membranous\n",
    "glomerulonephritis with negative serological markers.\n",
    "\n",
    "Keywords: Minimal change disease, podocytopathy, secondary membranous glomerulonephritis, acute interstitial nephritis, non-steroidal anti-inflammatory drugs\n",
    "\"\"\""
   ]
  },
  {
   "cell_type": "markdown",
   "id": "aa6a61ae",
   "metadata": {},
   "source": [
    "## Inference"
   ]
  },
  {
   "cell_type": "code",
   "execution_count": null,
   "id": "02cc1af8-5622-4604-91e4-5ea74bfb78ff",
   "metadata": {},
   "outputs": [],
   "source": [
    "def summarize(medical_text):\n",
    "    try:\n",
    "        prompt = f\"{medical_text.strip()}\"\n",
    "        inputs = tokenizer(\n",
    "            prompt, \n",
    "            return_tensors = \"pt\", \n",
    "            max_length = 1024, \n",
    "            truncation = True, \n",
    "            padding = True\n",
    "        ).to(model.device)\n",
    "        \n",
    "        with torch.no_grad():\n",
    "            generated = model.generate(**inputs,\n",
    "                max_new_tokens = 40, \n",
    "                num_beams = 4, \n",
    "                length_penalty = 1.5, \n",
    "                early_stopping = False, \n",
    "                no_repeat_ngram_size = 3, \n",
    "                encoder_no_repeat_ngram_size = 3\n",
    "              )\n",
    "\n",
    "        return tokenizer.decode(generated[0], skip_special_tokens = True)\n",
    "    except:\n",
    "        return \"\""
   ]
  },
  {
   "cell_type": "code",
   "execution_count": null,
   "id": "20545287-8b35-43c4-82d5-2f97132981df",
   "metadata": {},
   "outputs": [],
   "source": [
    "summary = summarize(medical_text)\n",
    "print(summary)"
   ]
  },
  {
   "cell_type": "code",
   "execution_count": null,
   "id": "2b35385a-43ff-48b2-a121-50f64339bc90",
   "metadata": {},
   "outputs": [],
   "source": [
    "import pandas as pd\n",
    "import csv\n",
    "df = pd.read_csv('./data/mtsamples.csv')\n",
    "df['transcription'] = df.transcription.astype(str)\n",
    "df['description'] = df.description.astype(str)"
   ]
  },
  {
   "cell_type": "code",
   "execution_count": null,
   "id": "f7454f4c-89d2-42ec-b023-6b94d05840dd",
   "metadata": {},
   "outputs": [],
   "source": [
    "df['model-summary'] = df.transcription.apply(summarize)\n",
    "df['model-name'] = 'biobart'"
   ]
  },
  {
   "cell_type": "code",
   "execution_count": null,
   "id": "96c00386-2aa3-4ef1-9e8a-184a788a58f3",
   "metadata": {},
   "outputs": [],
   "source": [
    "df.to_csv('./data/mtsamples_with_biobart.csv', index = False, quoting = csv.QUOTE_NONNUMERIC)"
   ]
  },
  {
   "cell_type": "markdown",
   "id": "69f800e6-89e1-4aeb-bea5-7910ca30a11f",
   "metadata": {},
   "source": [
    "# Med-Gemma 4b"
   ]
  },
  {
   "cell_type": "code",
   "execution_count": null,
   "id": "8175c716-7a6b-4b56-8aa7-80a979f60a67",
   "metadata": {},
   "outputs": [],
   "source": [
    "import torch, textwrap\n",
    "from transformers import AutoTokenizer, AutoModelForCausalLM, GenerationConfig"
   ]
  },
  {
   "cell_type": "code",
   "execution_count": null,
   "id": "b61b74a2-86a5-4d0e-a866-d211efbffd51",
   "metadata": {},
   "outputs": [],
   "source": [
    "torch.set_float32_matmul_precision('high')\n",
    "\n",
    "MODEL_ID = \"google/medgemma-4b-it\"\n",
    "tokenizer = AutoTokenizer.from_pretrained(\n",
    "    MODEL_ID,\n",
    "    return_tensors = \"pt\",\n",
    "    padding = True,\n",
    "    truncation = True)\n",
    "model = AutoModelForCausalLM.from_pretrained(\n",
    "    MODEL_ID,\n",
    "    device_map = {\"\": 1},\n",
    "    torch_dtype = \"auto\",\n",
    "    trust_remote_code = True\n",
    ")\n",
    "model.config.pad_token_id = tokenizer.pad_token_id\n",
    "model = torch.compile(model, mode = \"reduce-overhead\",\n",
    "                      fullgraph = False,\n",
    "                      dynamic = True)\n",
    "model.eval()"
   ]
  },
  {
   "cell_type": "code",
   "execution_count": null,
   "id": "68e1a61a-7fbd-40a0-878f-f55d313909c2",
   "metadata": {},
   "outputs": [],
   "source": [
    "medical_text = \"\"\"\n",
    "Non-steroidal anti-inflammatory drugs are not only potent analgesics and antipyretics but also nephrotoxins, and may cause \n",
    "electrolyte disarray. In addition to the commonly expected effects, including hyperkalemia, hyponatremia, acute renal injury, \n",
    "renal cortical necrosis, and volume retention, glomerular disease with or without nephrotic syndrome or nephritis can occur as \n",
    "well including after years of seemingly safe administration. Minimal change disease, secondary membranous glomerulonephritis, \n",
    "and acute interstitial nephritis are all reported glomerular lesions seen with non-steroidal anti-inflammatory use. We report a \n",
    "patient who used non-steroidal anti-inflammatory drugs for years without diabetes, chronic kidney disease, or proteinuria; he \n",
    "then developed severe nephrotic range proteinuria with 7 g of daily urinary protein excretion. Renal biopsy showed minimal \n",
    "change nephropathy, a likely secondary membranous glomerulonephritis, and acute interstitial nephritis present simultaneously\n",
    "in one biopsy. \n",
    "\n",
    "\"\"\""
   ]
  },
  {
   "cell_type": "code",
   "execution_count": null,
   "id": "c5bac0f1-c02e-4da9-960a-3f9c4e675142",
   "metadata": {},
   "outputs": [],
   "source": [
    "gen_cfg = GenerationConfig(\n",
    "    max_new_tokens = 128,\n",
    "    temperature = 0.1,\n",
    "    top_p = 0.9,\n",
    "    repetition_penalty = 1.1,\n",
    "    do_sample = True,\n",
    "    no_repeat_ngram_size = 6,\n",
    ")    \n",
    "\n",
    "def summarize(medical_text):\n",
    "    messages = [\n",
    "        {\n",
    "            \"role\": \"user\",\n",
    "            \"content\": textwrap.dedent(f\"\"\"\n",
    "                Below is an abstract from a medical paper.\n",
    "    \n",
    "                ```text\n",
    "                {medical_text.strip()}\n",
    "                ```\n",
    "    \n",
    "                **Task:** Produce a 20-word summary **and end with a full stop (.) when you are done.**\n",
    "                Use clear, professional medical language.\n",
    "                Don't include a greeting or introduction.\n",
    "            \"\"\"),\n",
    "        }\n",
    "    ]\n",
    "\n",
    "    encoded = tokenizer.apply_chat_template(\n",
    "        messages,\n",
    "        add_generation_prompt = True,\n",
    "        tokenize = True,\n",
    "        padding = True,\n",
    "        max_length = 1024,\n",
    "        truncation = True,\n",
    "        return_tensors = \"pt\",\n",
    "    ).to(model.device)\n",
    "\n",
    "    with torch.no_grad():\n",
    "        generated = model.generate(\n",
    "            encoded,  \n",
    "            generation_config = gen_cfg, \n",
    "            return_dict_in_generate = False,\n",
    "        )\n",
    "    \n",
    "    summary = tokenizer.decode(generated[0], skip_special_tokens = True)\n",
    "    summary = summary.split('\\nmodel\\n')[-1]\n",
    "    \n",
    "    return summary"
   ]
  },
  {
   "cell_type": "code",
   "execution_count": null,
   "id": "70a9e134-231c-4bbf-840f-c60760a9eb75",
   "metadata": {},
   "outputs": [],
   "source": [
    "summarize(medical_text)"
   ]
  },
  {
   "cell_type": "code",
   "execution_count": null,
   "id": "e6a4860d-4328-4711-8797-a88a8c52597d",
   "metadata": {},
   "outputs": [],
   "source": [
    "import pandas as pd\n",
    "import csv\n",
    "df = pd.read_csv('./data/mtsamples.csv')\n",
    "df['transcription'] = df.transcription.astype(str)\n",
    "df['description'] = df.description.astype(str)"
   ]
  },
  {
   "cell_type": "code",
   "execution_count": null,
   "id": "7a269943-1b26-4c52-966e-9a2cdca451a1",
   "metadata": {},
   "outputs": [],
   "source": [
    "df['model-summary'] = df.transcription.apply(summarize)\n",
    "df['model-name'] = 'med-gemma'"
   ]
  },
  {
   "cell_type": "code",
   "execution_count": null,
   "id": "573d2516-d839-4d30-a178-bef713e979d9",
   "metadata": {},
   "outputs": [],
   "source": [
    "df.to_csv('./data/mtsamples_with_gemma.csv', index = False, quoting = csv.QUOTE_NONNUMERIC)"
   ]
  },
  {
   "cell_type": "markdown",
   "id": "42cf2ab5-07e6-4165-83bf-13f9f8cdd5f5",
   "metadata": {},
   "source": [
    "# Med-Llama 3.8b"
   ]
  },
  {
   "cell_type": "code",
   "execution_count": null,
   "id": "f5559117-b95f-4707-a701-ad8201bd0270",
   "metadata": {},
   "outputs": [],
   "source": [
    "import torch, textwrap\n",
    "from transformers import AutoTokenizer, AutoModelForCausalLM, GenerationConfig"
   ]
  },
  {
   "cell_type": "markdown",
   "id": "758a7889-6423-42e1-8f6e-aa918fdbd2d6",
   "metadata": {},
   "source": [
    "## Load model"
   ]
  },
  {
   "cell_type": "code",
   "execution_count": 7,
   "id": "93e454c0-1ffe-4e27-b18b-ae2a783d642a",
   "metadata": {},
   "outputs": [
    {
     "name": "stderr",
     "output_type": "stream",
     "text": [
      "Special tokens have been added in the vocabulary, make sure the associated word embeddings are fine-tuned or trained.\n",
      "W0806 21:41:56.799000 67140 site-packages/torch/distributed/elastic/multiprocessing/redirects.py:29] NOTE: Redirects are currently not supported in Windows or MacOs.\n",
      "Downloading shards: 100%|███████████████████████████████████████████████████████████████████████████████████████████████████████████████████████████████████████████████████████████████████████████████████████████████████████████████████████| 2/2 [02:50<00:00, 85.23s/it]\n",
      "Loading checkpoint shards: 100%|████████████████████████████████████████████████████████████████████████████████████████████████████████████████████████████████████████████████████████████████████████████████████████████████████████████████| 2/2 [00:17<00:00,  8.88s/it]\n"
     ]
    },
    {
     "data": {
      "text/plain": [
       "OptimizedModule(\n",
       "  (_orig_mod): LlamaForCausalLM(\n",
       "    (model): LlamaModel(\n",
       "      (embed_tokens): Embedding(128256, 4096)\n",
       "      (layers): ModuleList(\n",
       "        (0-31): 32 x LlamaDecoderLayer(\n",
       "          (self_attn): LlamaSdpaAttention(\n",
       "            (q_proj): Linear(in_features=4096, out_features=4096, bias=False)\n",
       "            (k_proj): Linear(in_features=4096, out_features=1024, bias=False)\n",
       "            (v_proj): Linear(in_features=4096, out_features=1024, bias=False)\n",
       "            (o_proj): Linear(in_features=4096, out_features=4096, bias=False)\n",
       "            (rotary_emb): LlamaRotaryEmbedding()\n",
       "          )\n",
       "          (mlp): LlamaMLP(\n",
       "            (gate_proj): Linear(in_features=4096, out_features=14336, bias=False)\n",
       "            (up_proj): Linear(in_features=4096, out_features=14336, bias=False)\n",
       "            (down_proj): Linear(in_features=14336, out_features=4096, bias=False)\n",
       "            (act_fn): SiLU()\n",
       "          )\n",
       "          (input_layernorm): LlamaRMSNorm()\n",
       "          (post_attention_layernorm): LlamaRMSNorm()\n",
       "        )\n",
       "      )\n",
       "      (norm): LlamaRMSNorm()\n",
       "    )\n",
       "    (lm_head): Linear(in_features=4096, out_features=128256, bias=False)\n",
       "  )\n",
       ")"
      ]
     },
     "execution_count": 7,
     "metadata": {},
     "output_type": "execute_result"
    }
   ],
   "source": [
    "MODEL_ID = \"johnsnowlabs/JSL-MedLlama-3-8B-v2.0\"\n",
    "tokenizer = AutoTokenizer.from_pretrained(\n",
    "    MODEL_ID,\n",
    "    return_tensors=\"pt\",\n",
    "    padding = True,\n",
    "    truncation = True)\n",
    "model = AutoModelForCausalLM.from_pretrained(MODEL_ID, \n",
    "                                            torch_dtype = torch.float16,\n",
    "                                            device_map = {\"\": 1},\n",
    "                                            trust_remote_code = True)\n",
    "tokenizer.pad_token = tokenizer.eos_token\n",
    "model.config.pad_token_id = tokenizer.pad_token_id\n",
    "model.generation_config.pad_token_id = tokenizer.pad_token_id\n",
    "\n",
    "torch.backends.cuda.matmul.allow_tf32 = True\n",
    "torch.backends.cudnn.allow_tf32 = True\n",
    "\n",
    "model = torch.compile(model, mode = \"reduce-overhead\",\n",
    "                      fullgraph = False,\n",
    "                      dynamic = True)\n",
    "model.eval()"
   ]
  },
  {
   "cell_type": "markdown",
   "id": "0a382cd6-9e74-43f1-aac4-0bdc50337055",
   "metadata": {},
   "source": [
    "## Some medical text"
   ]
  },
  {
   "cell_type": "code",
   "execution_count": null,
   "id": "2070b924-b54d-4c0f-b6c8-4697e382b858",
   "metadata": {},
   "outputs": [],
   "source": [
    "medical_text = \"\"\"\n",
    "Non-steroidal anti-inflammatory drugs are not only potent analgesics and antipyretics but also nephrotoxins, and may cause \n",
    "electrolyte disarray. In addition to the commonly expected effects, including hyperkalemia, hyponatremia, acute renal injury, \n",
    "renal cortical necrosis, and volume retention, glomerular disease with or without nephrotic syndrome or nephritis can occur as \n",
    "well including after years of seemingly safe administration. Minimal change disease, secondary membranous glomerulonephritis, \n",
    "and acute interstitial nephritis are all reported glomerular lesions seen with non-steroidal anti-inflammatory use. We report a \n",
    "patient who used non-steroidal anti-inflammatory drugs for years without diabetes, chronic kidney disease, or proteinuria; he \n",
    "then developed severe nephrotic range proteinuria with 7 g of daily urinary protein excretion. Renal biopsy showed minimal \n",
    "change nephropathy, a likely secondary membranous glomerulonephritis, and acute interstitial nephritis present simultaneously\n",
    "in one biopsy. \n",
    "\n",
    "\"\"\""
   ]
  },
  {
   "cell_type": "code",
   "execution_count": null,
   "id": "af1e51df-31ac-45a4-9541-ca6b8bcbf8f4",
   "metadata": {},
   "outputs": [],
   "source": [
    "gen_cfg = GenerationConfig(\n",
    "    max_new_tokens = 64,\n",
    "    temperature = 0.1,\n",
    "    top_p = 0.9,\n",
    "    repetition_penalty = 1.1,\n",
    "    do_sample = True,\n",
    "    no_repeat_ngram_size = 6,\n",
    ")\n",
    "\n",
    "if tokenizer.chat_template is None:\n",
    "    tokenizer.chat_template = textwrap.dedent(\"\"\"\n",
    "    <|im_start|>system\n",
    "    You are a concise, professional medical writing assistant. <|im_end|>\n",
    "    {% for m in messages %}\n",
    "    <|im_start|>{{ m['role'] }}\n",
    "    {{ m['content'] }}<|im_end|>\n",
    "    {% endfor %}\n",
    "    {% if add_generation_prompt %}<|im_start|>assistant\n",
    "    {% endif %}\n",
    "    \"\"\").strip()\n",
    "\n",
    "def summarize(medical_text):\n",
    "    messages = [\n",
    "        {\n",
    "            \"role\": \"user\",\n",
    "            \"content\": textwrap.dedent(f\"\"\"\n",
    "                Below is an abstract from a medical paper.\n",
    "    \n",
    "                ```text\n",
    "                {medical_text.strip()}\n",
    "                ```\n",
    "    \n",
    "                **Task:** Produce a 20-word summary **and end with a full stop (.) when you are done.**\n",
    "                Use clear, professional medical language.\n",
    "                Don't include a greeting or introduction.\n",
    "            \"\"\"),\n",
    "        }\n",
    "    ]\n",
    "    \n",
    "    prompt = tokenizer.apply_chat_template(\n",
    "        messages,\n",
    "        add_generation_prompt = True,\n",
    "        tokenize = False\n",
    "    )\n",
    "\n",
    "    encoded = tokenizer(\n",
    "        prompt,\n",
    "        return_tensors = \"pt\",\n",
    "        padding = True).to(model.device)\n",
    "    \n",
    "    with torch.no_grad():\n",
    "        generated = model.generate(\n",
    "            **encoded,\n",
    "            generation_config = gen_cfg, \n",
    "            return_dict_in_generate = False, \n",
    "            max_new_tokens = 64,\n",
    "        )\n",
    "    \n",
    "    summary = tokenizer.decode(generated[0], skip_special_tokens = True)\n",
    "    response_text = textwrap.fill(summary, 90).split('im_start|>assistant')[-1]\n",
    "    response_text = response_text.replace('<|im_end|>', '').replace(\"\\n\", \" \").strip()\n",
    "    return response_text"
   ]
  },
  {
   "cell_type": "markdown",
   "id": "e2fef415-5939-46b2-8a82-957d6ba9b343",
   "metadata": {},
   "source": [
    "## Inference"
   ]
  },
  {
   "cell_type": "code",
   "execution_count": null,
   "id": "b143490c-72ba-4088-a27d-e5c5f6e4de49",
   "metadata": {},
   "outputs": [],
   "source": [
    "summarize(medical_text)"
   ]
  },
  {
   "cell_type": "markdown",
   "id": "461500e3-e5e7-4bc4-964d-13841a2b49ec",
   "metadata": {},
   "source": [
    "## Persistence"
   ]
  },
  {
   "cell_type": "code",
   "execution_count": null,
   "id": "2435eb35-63b2-46fe-9035-91863ae2d346",
   "metadata": {},
   "outputs": [],
   "source": [
    "import pandas as pd\n",
    "import csv\n",
    "df = pd.read_csv('./data/mtsamples.csv')\n",
    "df['transcription'] = df.transcription.astype(str)\n",
    "df['description'] = df.description.astype(str)"
   ]
  },
  {
   "cell_type": "code",
   "execution_count": null,
   "id": "730687af-9551-4c6d-ab05-089bf1047c74",
   "metadata": {},
   "outputs": [],
   "source": [
    "df['model-summary'] = df.transcription.apply(summarize)\n",
    "df['model-name'] = 'med-llama'"
   ]
  },
  {
   "cell_type": "code",
   "execution_count": null,
   "id": "65638d1f-2ae5-4d3a-9778-fb12ffa1fb92",
   "metadata": {},
   "outputs": [],
   "source": [
    "df.to_csv('./data/mtsamples_with_llama.csv', index = False, quoting = csv.QUOTE_NONNUMERIC)"
   ]
  }
 ],
 "metadata": {
  "kernelspec": {
   "display_name": "Python 3 (ipykernel)",
   "language": "python",
   "name": "python3"
  },
  "language_info": {
   "codemirror_mode": {
    "name": "ipython",
    "version": 3
   },
   "file_extension": ".py",
   "mimetype": "text/x-python",
   "name": "python",
   "nbconvert_exporter": "python",
   "pygments_lexer": "ipython3",
   "version": "3.11.13"
  }
 },
 "nbformat": 4,
 "nbformat_minor": 5
}
