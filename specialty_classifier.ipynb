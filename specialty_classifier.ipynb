{
 "cells": [
  {
   "cell_type": "code",
   "execution_count": 1,
   "id": "bdb06fde",
   "metadata": {},
   "outputs": [],
   "source": [
    "import pandas as pd\n",
    "import matplotlib.pyplot as plt\n",
    "import seaborn as sns\n",
    "\n",
    "from sklearn.preprocessing import LabelEncoder\n",
    "from sklearn.model_selection import train_test_split\n",
    "\n",
    "import tensorflow as tf\n",
    "from keras import optimizers, layers, models"
   ]
  },
  {
   "cell_type": "markdown",
   "id": "dd89ec0a",
   "metadata": {},
   "source": [
    "**Data Exploration and Preprocessing**"
   ]
  },
  {
   "cell_type": "code",
   "execution_count": 2,
   "id": "b3a77958",
   "metadata": {},
   "outputs": [
    {
     "data": {
      "text/html": [
       "<div>\n",
       "<style scoped>\n",
       "    .dataframe tbody tr th:only-of-type {\n",
       "        vertical-align: middle;\n",
       "    }\n",
       "\n",
       "    .dataframe tbody tr th {\n",
       "        vertical-align: top;\n",
       "    }\n",
       "\n",
       "    .dataframe thead th {\n",
       "        text-align: right;\n",
       "    }\n",
       "</style>\n",
       "<table border=\"1\" class=\"dataframe\">\n",
       "  <thead>\n",
       "    <tr style=\"text-align: right;\">\n",
       "      <th></th>\n",
       "      <th>Unnamed: 0</th>\n",
       "      <th>description</th>\n",
       "      <th>medical_specialty</th>\n",
       "      <th>sample_name</th>\n",
       "      <th>transcription</th>\n",
       "      <th>keywords</th>\n",
       "    </tr>\n",
       "  </thead>\n",
       "  <tbody>\n",
       "    <tr>\n",
       "      <th>0</th>\n",
       "      <td>0</td>\n",
       "      <td>A 23-year-old white female presents with comp...</td>\n",
       "      <td>Allergy / Immunology</td>\n",
       "      <td>Allergic Rhinitis</td>\n",
       "      <td>SUBJECTIVE:,  This 23-year-old white female pr...</td>\n",
       "      <td>allergy / immunology, allergic rhinitis, aller...</td>\n",
       "    </tr>\n",
       "    <tr>\n",
       "      <th>1</th>\n",
       "      <td>1</td>\n",
       "      <td>Consult for laparoscopic gastric bypass.</td>\n",
       "      <td>Bariatrics</td>\n",
       "      <td>Laparoscopic Gastric Bypass Consult - 2</td>\n",
       "      <td>PAST MEDICAL HISTORY:, He has difficulty climb...</td>\n",
       "      <td>bariatrics, laparoscopic gastric bypass, weigh...</td>\n",
       "    </tr>\n",
       "    <tr>\n",
       "      <th>2</th>\n",
       "      <td>2</td>\n",
       "      <td>Consult for laparoscopic gastric bypass.</td>\n",
       "      <td>Bariatrics</td>\n",
       "      <td>Laparoscopic Gastric Bypass Consult - 1</td>\n",
       "      <td>HISTORY OF PRESENT ILLNESS: , I have seen ABC ...</td>\n",
       "      <td>bariatrics, laparoscopic gastric bypass, heart...</td>\n",
       "    </tr>\n",
       "    <tr>\n",
       "      <th>3</th>\n",
       "      <td>3</td>\n",
       "      <td>2-D M-Mode. Doppler.</td>\n",
       "      <td>Cardiovascular / Pulmonary</td>\n",
       "      <td>2-D Echocardiogram - 1</td>\n",
       "      <td>2-D M-MODE: , ,1.  Left atrial enlargement wit...</td>\n",
       "      <td>cardiovascular / pulmonary, 2-d m-mode, dopple...</td>\n",
       "    </tr>\n",
       "    <tr>\n",
       "      <th>4</th>\n",
       "      <td>4</td>\n",
       "      <td>2-D Echocardiogram</td>\n",
       "      <td>Cardiovascular / Pulmonary</td>\n",
       "      <td>2-D Echocardiogram - 2</td>\n",
       "      <td>1.  The left ventricular cavity size and wall ...</td>\n",
       "      <td>cardiovascular / pulmonary, 2-d, doppler, echo...</td>\n",
       "    </tr>\n",
       "  </tbody>\n",
       "</table>\n",
       "</div>"
      ],
      "text/plain": [
       "   Unnamed: 0                                        description  \\\n",
       "0           0   A 23-year-old white female presents with comp...   \n",
       "1           1           Consult for laparoscopic gastric bypass.   \n",
       "2           2           Consult for laparoscopic gastric bypass.   \n",
       "3           3                             2-D M-Mode. Doppler.     \n",
       "4           4                                 2-D Echocardiogram   \n",
       "\n",
       "             medical_specialty                                sample_name  \\\n",
       "0         Allergy / Immunology                         Allergic Rhinitis    \n",
       "1                   Bariatrics   Laparoscopic Gastric Bypass Consult - 2    \n",
       "2                   Bariatrics   Laparoscopic Gastric Bypass Consult - 1    \n",
       "3   Cardiovascular / Pulmonary                    2-D Echocardiogram - 1    \n",
       "4   Cardiovascular / Pulmonary                    2-D Echocardiogram - 2    \n",
       "\n",
       "                                       transcription  \\\n",
       "0  SUBJECTIVE:,  This 23-year-old white female pr...   \n",
       "1  PAST MEDICAL HISTORY:, He has difficulty climb...   \n",
       "2  HISTORY OF PRESENT ILLNESS: , I have seen ABC ...   \n",
       "3  2-D M-MODE: , ,1.  Left atrial enlargement wit...   \n",
       "4  1.  The left ventricular cavity size and wall ...   \n",
       "\n",
       "                                            keywords  \n",
       "0  allergy / immunology, allergic rhinitis, aller...  \n",
       "1  bariatrics, laparoscopic gastric bypass, weigh...  \n",
       "2  bariatrics, laparoscopic gastric bypass, heart...  \n",
       "3  cardiovascular / pulmonary, 2-d m-mode, dopple...  \n",
       "4  cardiovascular / pulmonary, 2-d, doppler, echo...  "
      ]
     },
     "execution_count": 2,
     "metadata": {},
     "output_type": "execute_result"
    }
   ],
   "source": [
    "ds_path = 'data/mtsamples.csv'\n",
    "dataset = pd.read_csv(ds_path)\n",
    "dataset.head()"
   ]
  },
  {
   "cell_type": "code",
   "execution_count": 3,
   "id": "b5f91676",
   "metadata": {},
   "outputs": [],
   "source": [
    "def check_class_distribution(df, target_col):\n",
    "    # Check the class distribution\n",
    "    print(\"===== Class Distribution =====\")\n",
    "    print(df[target_col].value_counts())\n",
    "    \n",
    "    # Visualize the imbalance\n",
    "    sns.countplot(x=target_col, data=df)\n",
    "    plt.title('Class Distribution')\n",
    "    plt.show()\n"
   ]
  },
  {
   "cell_type": "code",
   "execution_count": 4,
   "id": "5028b04d",
   "metadata": {},
   "outputs": [
    {
     "name": "stdout",
     "output_type": "stream",
     "text": [
      "<class 'pandas.core.frame.DataFrame'>\n",
      "RangeIndex: 4999 entries, 0 to 4998\n",
      "Data columns (total 6 columns):\n",
      " #   Column             Non-Null Count  Dtype \n",
      "---  ------             --------------  ----- \n",
      " 0   Unnamed: 0         4999 non-null   int64 \n",
      " 1   description        4999 non-null   object\n",
      " 2   medical_specialty  4999 non-null   object\n",
      " 3   sample_name        4999 non-null   object\n",
      " 4   transcription      4966 non-null   object\n",
      " 5   keywords           3931 non-null   object\n",
      "dtypes: int64(1), object(5)\n",
      "memory usage: 234.5+ KB\n",
      "None\n",
      "===== Null Summary =====\n",
      "Unnamed: 0              0\n",
      "description             0\n",
      "medical_specialty       0\n",
      "sample_name             0\n",
      "transcription          33\n",
      "keywords             1068\n",
      "dtype: int64\n",
      "Dropping rows with missing values...\n",
      "===== Duplicate Summary =====\n",
      "Count: 0\n",
      "===== Class Distribution =====\n",
      "medical_specialty\n",
      "Surgery                          1021\n",
      "Orthopedic                        303\n",
      "Cardiovascular / Pulmonary        280\n",
      "Radiology                         251\n",
      "Consult - History and Phy.        234\n",
      "Gastroenterology                  195\n",
      "Neurology                         168\n",
      "General Medicine                  146\n",
      "SOAP / Chart / Progress Notes     142\n",
      "Urology                           140\n",
      "Obstetrics / Gynecology           130\n",
      "ENT - Otolaryngology               84\n",
      "Neurosurgery                       81\n",
      "Ophthalmology                      79\n",
      "Discharge Summary                  77\n",
      "Nephrology                         63\n",
      "Hematology - Oncology              62\n",
      "Pain Management                    58\n",
      "Office Notes                       44\n",
      "Pediatrics - Neonatal              42\n",
      "Podiatry                           42\n",
      "Emergency Room Reports             31\n",
      "Dentistry                          25\n",
      "Cosmetic / Plastic Surgery         25\n",
      "Dermatology                        25\n",
      "Letters                            20\n",
      "Psychiatry / Psychology            19\n",
      "Sleep Medicine                     18\n",
      "Bariatrics                         18\n",
      "Endocrinology                      15\n",
      "Physical Medicine - Rehab          11\n",
      "Diets and Nutritions               10\n",
      "Lab Medicine - Pathology            8\n",
      "Speech - Language                   8\n",
      "Rheumatology                        7\n",
      "Hospice - Palliative Care           5\n",
      "IME-QME-Work Comp etc.              4\n",
      "Chiropractic                        4\n",
      "Allergy / Immunology                3\n",
      "Name: count, dtype: int64\n"
     ]
    },
    {
     "data": {
      "image/png": "[encoded data removed]",
      "text/plain": [
       "<Figure size 640x480 with 1 Axes>"
      ]
     },
     "metadata": {},
     "output_type": "display_data"
    }
   ],
   "source": [
    "def preprocess_data(df):\n",
    "    # Handling Missing Values\n",
    "    null_summary = df.isnull().sum()\n",
    "    print(f\"===== Null Summary =====\\n{null_summary}\")\n",
    "    if null_summary.any():\n",
    "        print(\"Dropping rows with missing values...\")\n",
    "        df = df.dropna()\n",
    "\n",
    "    # Checking for Duplicate Values\n",
    "    duplicate_count = df.duplicated().sum()\n",
    "    print(f\"===== Duplicate Summary =====\\nCount: {duplicate_count}\")\n",
    "    if duplicate_count > 0:\n",
    "        print(\"Dropping duplicate rows...\")\n",
    "        df = df.drop_duplicates()\n",
    "\n",
    "    check_class_distribution(df, 'medical_specialty')\n",
    "    return df\n",
    "\n",
    "print(dataset.info())\n",
    "dataset = preprocess_data(dataset)"
   ]
  },
  {
   "cell_type": "code",
   "execution_count": 5,
   "id": "247c2322",
   "metadata": {},
   "outputs": [],
   "source": [
    "MAX_SEQ_LEN = 200\n",
    "EMBEDDING_DIM = 32\n",
    "BATCH_SIZE = 32\n",
    "DS_SPLIT = 0.15\n",
    "MIN_SPECIALITY_THRESHOLD = 100"
   ]
  },
  {
   "cell_type": "code",
   "execution_count": 6,
   "id": "35468d6c",
   "metadata": {},
   "outputs": [
    {
     "data": {
      "text/plain": [
       "medical_specialty\n",
       "Surgery                          1021\n",
       "Orthopedic                        303\n",
       "Cardiovascular / Pulmonary        280\n",
       "Radiology                         251\n",
       "Consult - History and Phy.        234\n",
       "Gastroenterology                  195\n",
       "Neurology                         168\n",
       "General Medicine                  146\n",
       "SOAP / Chart / Progress Notes     142\n",
       "Urology                           140\n",
       "Obstetrics / Gynecology           130\n",
       "Name: count, dtype: int64"
      ]
     },
     "execution_count": 6,
     "metadata": {},
     "output_type": "execute_result"
    }
   ],
   "source": [
    "sub_ds = dataset[['medical_specialty', 'transcription',]]\n",
    "speciality_count = sub_ds.medical_specialty.value_counts()\n",
    "\n",
    "filtered_ds = sub_ds[sub_ds.medical_specialty.isin(speciality_count[speciality_count >= MIN_SPECIALITY_THRESHOLD].index)]\n",
    "filtered_ds.medical_specialty.value_counts()"
   ]
  },
  {
   "cell_type": "code",
   "execution_count": 7,
   "id": "003ccb87",
   "metadata": {},
   "outputs": [
    {
     "name": "stdout",
     "output_type": "stream",
     "text": [
      "Train set size: 2558, Test set size: 452\n"
     ]
    }
   ],
   "source": [
    "train_df, test_df = train_test_split(filtered_ds, test_size=DS_SPLIT, random_state=42)\n",
    "print(f\"Train set size: {len(train_df)}, Test set size: {len(test_df)}\")"
   ]
  },
  {
   "cell_type": "code",
   "execution_count": 8,
   "id": "d6d36c0b",
   "metadata": {},
   "outputs": [
    {
     "name": "stdout",
     "output_type": "stream",
     "text": [
      "Classes: [' Cardiovascular / Pulmonary' ' Consult - History and Phy.'\n",
      " ' Gastroenterology' ' General Medicine' ' Neurology'\n",
      " ' Obstetrics / Gynecology' ' Orthopedic' ' Radiology'\n",
      " ' SOAP / Chart / Progress Notes' ' Surgery' ' Urology']\n"
     ]
    }
   ],
   "source": [
    "# Label encoding\n",
    "le = LabelEncoder()\n",
    "le.fit(train_df.medical_specialty)\n",
    "train_y = le.transform(train_df.medical_specialty)\n",
    "test_y = le.transform(test_df.medical_specialty)\n",
    "num_classes = len(le.classes_)\n",
    "print(f\"Classes: {le.classes_}\")"
   ]
  },
  {
   "cell_type": "code",
   "execution_count": 9,
   "id": "8c706cc4",
   "metadata": {},
   "outputs": [],
   "source": [
    "# Character-level vectorization\n",
    "raw_train_text = tf.data.Dataset.from_tensor_slices(train_df.transcription.values)\n",
    "\n",
    "vectorizer = tf.keras.layers.TextVectorization(\n",
    "    standardize=None,\n",
    "    split=\"character\",\n",
    "    max_tokens=None,\n",
    "    output_mode=\"int\",\n",
    "    output_sequence_length=MAX_SEQ_LEN\n",
    ")\n",
    "\n",
    "vectorizer.adapt(raw_train_text)\n",
    "vocab_size = vectorizer.vocabulary_size()"
   ]
  },
  {
   "cell_type": "code",
   "execution_count": 10,
   "id": "b8c54565",
   "metadata": {},
   "outputs": [],
   "source": [
    "AUTOTUNE = tf.data.AUTOTUNE\n",
    "\n",
    "def make_dataset(texts, labels, shuffle=False):\n",
    "    ds = tf.data.Dataset.from_tensor_slices((texts, labels))\n",
    "    if shuffle:\n",
    "        ds = ds.shuffle(buffer_size=len(texts))\n",
    "    ds = ds.map(\n",
    "        lambda txt, lbl: (vectorizer(txt), lbl),\n",
    "        num_parallel_calls=AUTOTUNE\n",
    "    )\n",
    "    return ds.batch(BATCH_SIZE).prefetch(AUTOTUNE)\n",
    "\n",
    "train_ds = make_dataset(train_df.transcription.values, train_y, shuffle=True)\n",
    "test_ds = make_dataset(test_df.transcription.values, test_y)"
   ]
  },
  {
   "cell_type": "markdown",
   "id": "1878385b",
   "metadata": {},
   "source": [
    "**Build RNN model**"
   ]
  },
  {
   "cell_type": "code",
   "execution_count": 11,
   "id": "ff4363fd",
   "metadata": {},
   "outputs": [],
   "source": [
    "def build_rnn_model(rnn_layer, opt, lr=0.001, em_dim=EMBEDDING_DIM):\n",
    "    model = models.Sequential([\n",
    "        layers.Input(shape=(MAX_SEQ_LEN,)),\n",
    "        layers.Embedding(input_dim=vocab_size, output_dim=em_dim, mask_zero=True),\n",
    "        rnn_layer,\n",
    "        layers.Dense(num_classes, activation='softmax')\n",
    "    ])\n",
    "\n",
    "    model.compile(\n",
    "        optimizer=opt(learning_rate=lr),\n",
    "        loss='sparse_categorical_crossentropy',\n",
    "        metrics=['accuracy'])\n",
    "    return model"
   ]
  },
  {
   "cell_type": "code",
   "execution_count": 12,
   "id": "f34fee1e",
   "metadata": {},
   "outputs": [],
   "source": [
    "early_stopping = tf.keras.callbacks.EarlyStopping(monitor='val_loss', patience=5, mode='min', restore_best_weights=True)\n",
    "\n",
    "def train_and_eval(model, epochs=20, callable=[early_stopping]):\n",
    "    history = model.fit(\n",
    "        train_ds,\n",
    "        validation_data=test_ds,\n",
    "        epochs=epochs,\n",
    "        callbacks=callable\n",
    "    )\n",
    "\n",
    "    test_loss, test_accuracy = model.evaluate(test_ds)\n",
    "    print(f\"Test Accuracy: {test_accuracy}, Test Loss: {test_loss}\")\n",
    "    return history"
   ]
  },
  {
   "cell_type": "code",
   "execution_count": 13,
   "id": "f182ddf6",
   "metadata": {},
   "outputs": [
    {
     "data": {
      "text/html": [
       "<pre style=\"white-space:pre;overflow-x:auto;line-height:normal;font-family:Menlo,'DejaVu Sans Mono',consolas,'Courier New',monospace\"><span style=\"font-weight: bold\">Model: \"sequential\"</span>\n",
       "</pre>\n"
      ],
      "text/plain": [
       "\u001b[1mModel: \"sequential\"\u001b[0m\n"
      ]
     },
     "metadata": {},
     "output_type": "display_data"
    },
    {
     "data": {
      "text/html": [
       "<pre style=\"white-space:pre;overflow-x:auto;line-height:normal;font-family:Menlo,'DejaVu Sans Mono',consolas,'Courier New',monospace\">┏━━━━━━━━━━━━━━━━━━━━━━━━━━━━━━━━━┳━━━━━━━━━━━━━━━━━━━━━━━━┳━━━━━━━━━━━━━━━┓\n",
       "┃<span style=\"font-weight: bold\"> Layer (type)                    </span>┃<span style=\"font-weight: bold\"> Output Shape           </span>┃<span style=\"font-weight: bold\">       Param # </span>┃\n",
       "┡━━━━━━━━━━━━━━━━━━━━━━━━━━━━━━━━━╇━━━━━━━━━━━━━━━━━━━━━━━━╇━━━━━━━━━━━━━━━┩\n",
       "│ embedding (<span style=\"color: #0087ff; text-decoration-color: #0087ff\">Embedding</span>)           │ (<span style=\"color: #00d7ff; text-decoration-color: #00d7ff\">None</span>, <span style=\"color: #00af00; text-decoration-color: #00af00\">200</span>, <span style=\"color: #00af00; text-decoration-color: #00af00\">32</span>)        │         <span style=\"color: #00af00; text-decoration-color: #00af00\">3,232</span> │\n",
       "├─────────────────────────────────┼────────────────────────┼───────────────┤\n",
       "│ bidirectional (<span style=\"color: #0087ff; text-decoration-color: #0087ff\">Bidirectional</span>)   │ (<span style=\"color: #00d7ff; text-decoration-color: #00d7ff\">None</span>, <span style=\"color: #00af00; text-decoration-color: #00af00\">64</span>)             │        <span style=\"color: #00af00; text-decoration-color: #00af00\">16,640</span> │\n",
       "├─────────────────────────────────┼────────────────────────┼───────────────┤\n",
       "│ dense (<span style=\"color: #0087ff; text-decoration-color: #0087ff\">Dense</span>)                   │ (<span style=\"color: #00d7ff; text-decoration-color: #00d7ff\">None</span>, <span style=\"color: #00af00; text-decoration-color: #00af00\">11</span>)             │           <span style=\"color: #00af00; text-decoration-color: #00af00\">715</span> │\n",
       "└─────────────────────────────────┴────────────────────────┴───────────────┘\n",
       "</pre>\n"
      ],
      "text/plain": [
       "┏━━━━━━━━━━━━━━━━━━━━━━━━━━━━━━━━━┳━━━━━━━━━━━━━━━━━━━━━━━━┳━━━━━━━━━━━━━━━┓\n",
       "┃\u001b[1m \u001b[0m\u001b[1mLayer (type)                   \u001b[0m\u001b[1m \u001b[0m┃\u001b[1m \u001b[0m\u001b[1mOutput Shape          \u001b[0m\u001b[1m \u001b[0m┃\u001b[1m \u001b[0m\u001b[1m      Param #\u001b[0m\u001b[1m \u001b[0m┃\n",
       "┡━━━━━━━━━━━━━━━━━━━━━━━━━━━━━━━━━╇━━━━━━━━━━━━━━━━━━━━━━━━╇━━━━━━━━━━━━━━━┩\n",
       "│ embedding (\u001b[38;5;33mEmbedding\u001b[0m)           │ (\u001b[38;5;45mNone\u001b[0m, \u001b[38;5;34m200\u001b[0m, \u001b[38;5;34m32\u001b[0m)        │         \u001b[38;5;34m3,232\u001b[0m │\n",
       "├─────────────────────────────────┼────────────────────────┼───────────────┤\n",
       "│ bidirectional (\u001b[38;5;33mBidirectional\u001b[0m)   │ (\u001b[38;5;45mNone\u001b[0m, \u001b[38;5;34m64\u001b[0m)             │        \u001b[38;5;34m16,640\u001b[0m │\n",
       "├─────────────────────────────────┼────────────────────────┼───────────────┤\n",
       "│ dense (\u001b[38;5;33mDense\u001b[0m)                   │ (\u001b[38;5;45mNone\u001b[0m, \u001b[38;5;34m11\u001b[0m)             │           \u001b[38;5;34m715\u001b[0m │\n",
       "└─────────────────────────────────┴────────────────────────┴───────────────┘\n"
      ]
     },
     "metadata": {},
     "output_type": "display_data"
    },
    {
     "data": {
      "text/html": [
       "<pre style=\"white-space:pre;overflow-x:auto;line-height:normal;font-family:Menlo,'DejaVu Sans Mono',consolas,'Courier New',monospace\"><span style=\"font-weight: bold\"> Total params: </span><span style=\"color: #00af00; text-decoration-color: #00af00\">20,587</span> (80.42 KB)\n",
       "</pre>\n"
      ],
      "text/plain": [
       "\u001b[1m Total params: \u001b[0m\u001b[38;5;34m20,587\u001b[0m (80.42 KB)\n"
      ]
     },
     "metadata": {},
     "output_type": "display_data"
    },
    {
     "data": {
      "text/html": [
       "<pre style=\"white-space:pre;overflow-x:auto;line-height:normal;font-family:Menlo,'DejaVu Sans Mono',consolas,'Courier New',monospace\"><span style=\"font-weight: bold\"> Trainable params: </span><span style=\"color: #00af00; text-decoration-color: #00af00\">20,587</span> (80.42 KB)\n",
       "</pre>\n"
      ],
      "text/plain": [
       "\u001b[1m Trainable params: \u001b[0m\u001b[38;5;34m20,587\u001b[0m (80.42 KB)\n"
      ]
     },
     "metadata": {},
     "output_type": "display_data"
    },
    {
     "data": {
      "text/html": [
       "<pre style=\"white-space:pre;overflow-x:auto;line-height:normal;font-family:Menlo,'DejaVu Sans Mono',consolas,'Courier New',monospace\"><span style=\"font-weight: bold\"> Non-trainable params: </span><span style=\"color: #00af00; text-decoration-color: #00af00\">0</span> (0.00 B)\n",
       "</pre>\n"
      ],
      "text/plain": [
       "\u001b[1m Non-trainable params: \u001b[0m\u001b[38;5;34m0\u001b[0m (0.00 B)\n"
      ]
     },
     "metadata": {},
     "output_type": "display_data"
    }
   ],
   "source": [
    "bilstm_layer = layers.Bidirectional(layers.LSTM(32))\n",
    "lstm_model = build_rnn_model(bilstm_layer, optimizers.Adam)\n",
    "lstm_model.summary()"
   ]
  },
  {
   "cell_type": "code",
   "execution_count": 14,
   "id": "87041cb1",
   "metadata": {},
   "outputs": [
    {
     "name": "stdout",
     "output_type": "stream",
     "text": [
      "Epoch 1/40\n",
      "\u001b[1m80/80\u001b[0m \u001b[32m━━━━━━━━━━━━━━━━━━━━\u001b[0m\u001b[37m\u001b[0m \u001b[1m13s\u001b[0m 106ms/step - accuracy: 0.3128 - loss: 2.2169 - val_accuracy: 0.3872 - val_loss: 1.8380\n",
      "Epoch 2/40\n",
      "\u001b[1m80/80\u001b[0m \u001b[32m━━━━━━━━━━━━━━━━━━━━\u001b[0m\u001b[37m\u001b[0m \u001b[1m9s\u001b[0m 115ms/step - accuracy: 0.4115 - loss: 1.8498 - val_accuracy: 0.4204 - val_loss: 1.7856\n",
      "Epoch 3/40\n",
      "\u001b[1m80/80\u001b[0m \u001b[32m━━━━━━━━━━━━━━━━━━━━\u001b[0m\u001b[37m\u001b[0m \u001b[1m9s\u001b[0m 109ms/step - accuracy: 0.4416 - loss: 1.7538 - val_accuracy: 0.4270 - val_loss: 1.7430\n",
      "Epoch 4/40\n",
      "\u001b[1m80/80\u001b[0m \u001b[32m━━━━━━━━━━━━━━━━━━━━\u001b[0m\u001b[37m\u001b[0m \u001b[1m9s\u001b[0m 109ms/step - accuracy: 0.4368 - loss: 1.7311 - val_accuracy: 0.4248 - val_loss: 1.7276\n",
      "Epoch 5/40\n",
      "\u001b[1m80/80\u001b[0m \u001b[32m━━━━━━━━━━━━━━━━━━━━\u001b[0m\u001b[37m\u001b[0m \u001b[1m9s\u001b[0m 109ms/step - accuracy: 0.4429 - loss: 1.6774 - val_accuracy: 0.4314 - val_loss: 1.7135\n",
      "Epoch 6/40\n",
      "\u001b[1m80/80\u001b[0m \u001b[32m━━━━━━━━━━━━━━━━━━━━\u001b[0m\u001b[37m\u001b[0m \u001b[1m9s\u001b[0m 112ms/step - accuracy: 0.4634 - loss: 1.6443 - val_accuracy: 0.4381 - val_loss: 1.6946\n",
      "Epoch 7/40\n",
      "\u001b[1m80/80\u001b[0m \u001b[32m━━━━━━━━━━━━━━━━━━━━\u001b[0m\u001b[37m\u001b[0m \u001b[1m9s\u001b[0m 113ms/step - accuracy: 0.4696 - loss: 1.6157 - val_accuracy: 0.4425 - val_loss: 1.7066\n",
      "Epoch 8/40\n",
      "\u001b[1m80/80\u001b[0m \u001b[32m━━━━━━━━━━━━━━━━━━━━\u001b[0m\u001b[37m\u001b[0m \u001b[1m9s\u001b[0m 109ms/step - accuracy: 0.4487 - loss: 1.6522 - val_accuracy: 0.4447 - val_loss: 1.6954\n",
      "Epoch 9/40\n",
      "\u001b[1m80/80\u001b[0m \u001b[32m━━━━━━━━━━━━━━━━━━━━\u001b[0m\u001b[37m\u001b[0m \u001b[1m9s\u001b[0m 112ms/step - accuracy: 0.4604 - loss: 1.6293 - val_accuracy: 0.4403 - val_loss: 1.6886\n",
      "Epoch 10/40\n",
      "\u001b[1m80/80\u001b[0m \u001b[32m━━━━━━━━━━━━━━━━━━━━\u001b[0m\u001b[37m\u001b[0m \u001b[1m10s\u001b[0m 118ms/step - accuracy: 0.4615 - loss: 1.6006 - val_accuracy: 0.4425 - val_loss: 1.6887\n",
      "Epoch 11/40\n",
      "\u001b[1m80/80\u001b[0m \u001b[32m━━━━━━━━━━━━━━━━━━━━\u001b[0m\u001b[37m\u001b[0m \u001b[1m9s\u001b[0m 113ms/step - accuracy: 0.4807 - loss: 1.5627 - val_accuracy: 0.4425 - val_loss: 1.6860\n",
      "Epoch 12/40\n",
      "\u001b[1m80/80\u001b[0m \u001b[32m━━━━━━━━━━━━━━━━━━━━\u001b[0m\u001b[37m\u001b[0m \u001b[1m9s\u001b[0m 114ms/step - accuracy: 0.4734 - loss: 1.5671 - val_accuracy: 0.4358 - val_loss: 1.6704\n",
      "Epoch 13/40\n",
      "\u001b[1m80/80\u001b[0m \u001b[32m━━━━━━━━━━━━━━━━━━━━\u001b[0m\u001b[37m\u001b[0m \u001b[1m9s\u001b[0m 115ms/step - accuracy: 0.4659 - loss: 1.5655 - val_accuracy: 0.4403 - val_loss: 1.6693\n",
      "Epoch 14/40\n",
      "\u001b[1m80/80\u001b[0m \u001b[32m━━━━━━━━━━━━━━━━━━━━\u001b[0m\u001b[37m\u001b[0m \u001b[1m9s\u001b[0m 112ms/step - accuracy: 0.4716 - loss: 1.5439 - val_accuracy: 0.4558 - val_loss: 1.6807\n",
      "Epoch 15/40\n",
      "\u001b[1m80/80\u001b[0m \u001b[32m━━━━━━━━━━━━━━━━━━━━\u001b[0m\u001b[37m\u001b[0m \u001b[1m9s\u001b[0m 112ms/step - accuracy: 0.4775 - loss: 1.5410 - val_accuracy: 0.4558 - val_loss: 1.6752\n",
      "Epoch 16/40\n",
      "\u001b[1m80/80\u001b[0m \u001b[32m━━━━━━━━━━━━━━━━━━━━\u001b[0m\u001b[37m\u001b[0m \u001b[1m9s\u001b[0m 114ms/step - accuracy: 0.4831 - loss: 1.5040 - val_accuracy: 0.4469 - val_loss: 1.6813\n",
      "Epoch 17/40\n",
      "\u001b[1m80/80\u001b[0m \u001b[32m━━━━━━━━━━━━━━━━━━━━\u001b[0m\u001b[37m\u001b[0m \u001b[1m9s\u001b[0m 115ms/step - accuracy: 0.4919 - loss: 1.4912 - val_accuracy: 0.4491 - val_loss: 1.6760\n",
      "Epoch 18/40\n",
      "\u001b[1m80/80\u001b[0m \u001b[32m━━━━━━━━━━━━━━━━━━━━\u001b[0m\u001b[37m\u001b[0m \u001b[1m10s\u001b[0m 121ms/step - accuracy: 0.4718 - loss: 1.5244 - val_accuracy: 0.4558 - val_loss: 1.6808\n",
      "\u001b[1m15/15\u001b[0m \u001b[32m━━━━━━━━━━━━━━━━━━━━\u001b[0m\u001b[37m\u001b[0m \u001b[1m1s\u001b[0m 40ms/step - accuracy: 0.4179 - loss: 1.7474\n",
      "Test Accuracy: 0.4402654767036438, Test Loss: 1.6692649126052856\n"
     ]
    }
   ],
   "source": [
    "lstm_history = train_and_eval(lstm_model, epochs=40)"
   ]
  },
  {
   "cell_type": "code",
   "execution_count": null,
   "id": "81b25e8c",
   "metadata": {},
   "outputs": [],
   "source": [
    "# def plot_history(history, target_metric):\n",
    "#     title = target_metric[0].upper() + target_metric[1:]\n",
    "#     plt.figure(figsize=(10, 6))\n",
    "#     plt.plot(history.history[target_metric], label=f'Train {title}')\n",
    "#     plt.plot(history.history[f'val_{target_metric}'], label=f'Test {title}')\n",
    "#     plt.xlabel('Epochs')\n",
    "#     plt.ylabel(title)\n",
    "#     plt.title(f'{title} Trajectory')\n",
    "#     plt.legend()\n",
    "#     plt.show()"
   ]
  },
  {
   "cell_type": "code",
   "execution_count": 16,
   "id": "b83ac42a",
   "metadata": {},
   "outputs": [],
   "source": [
    "# print(\"LSTM Accuracy and Loss Trajectory\")\n",
    "# plot_history(lstm_history, 'accuracy')\n",
    "# plot_history(lstm_history, 'loss')  "
   ]
  },
  {
   "cell_type": "code",
   "execution_count": 17,
   "id": "63360473",
   "metadata": {},
   "outputs": [],
   "source": [
    "# def classify(model, text, verbose=False):\n",
    "#     seq = vectorizer(tf.constant([text]))\n",
    "#     probs = model.predict(seq)[0]\n",
    "#     lang_id = tf.argmax(probs).numpy()\n",
    "#     prediction = le.inverse_transform([lang_id])[0]\n",
    "#     if verbose:\n",
    "#         print(f\"Input Text: {text}\")\n",
    "#         print(f\"Prediction: {prediction}\")\n",
    "#     return prediction\n",
    "\n",
    "# sample_text_1 = \"\"\n",
    "# classify(lstm_model, sample_text_1, verbose=True)"
   ]
  }
 ],
 "metadata": {
  "kernelspec": {
   "display_name": "venv",
   "language": "python",
   "name": "python3"
  },
  "language_info": {
   "codemirror_mode": {
    "name": "ipython",
    "version": 3
   },
   "file_extension": ".py",
   "mimetype": "text/x-python",
   "name": "python",
   "nbconvert_exporter": "python",
   "pygments_lexer": "ipython3",
   "version": "3.10.11"
  }
 },
 "nbformat": 4,
 "nbformat_minor": 5
}
