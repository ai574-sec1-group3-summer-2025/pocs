{
 "cells": [
  {
   "cell_type": "code",
   "execution_count": null,
   "id": "c23eacff-9ca9-4e89-8ea6-8e1741591d49",
   "metadata": {},
   "outputs": [],
   "source": [
    "import torch\n",
    "from transformers import AutoTokenizer, AutoModelForSeq2SeqLM"
   ]
  },
  {
   "cell_type": "markdown",
   "id": "d43d1222-0ae4-4960-9988-ce83adfac22f",
   "metadata": {},
   "source": [
    "# Use GPU if available"
   ]
  },
  {
   "cell_type": "code",
   "execution_count": null,
   "id": "a88156d5-0fc9-466c-81a0-2ddd3a5b5bf9",
   "metadata": {},
   "outputs": [],
   "source": [
    "device = torch.device(\"cuda\" if torch.cuda.is_available() else \"cpu\")"
   ]
  },
  {
   "cell_type": "markdown",
   "id": "71b07fcc-f092-4871-b2d8-86ed3ff10c23",
   "metadata": {},
   "source": [
    "# Load Clinical-T5-Large model and tokenizer"
   ]
  },
  {
   "cell_type": "code",
   "execution_count": null,
   "id": "f117557e-0ffa-4a1e-880e-92a56ad49417",
   "metadata": {},
   "outputs": [],
   "source": [
    "model_name = \"luqh/ClinicalT5-large\"\n",
    "tokenizer = AutoTokenizer.from_pretrained(model_name)\n",
    "model = AutoModelForSeq2SeqLM.from_pretrained(model_name, from_flax = True)"
   ]
  },
  {
   "cell_type": "markdown",
   "id": "cc30782d-3ee1-48f7-b001-39872d082046",
   "metadata": {},
   "source": [
    "# Example medical text"
   ]
  },
  {
   "cell_type": "code",
   "execution_count": null,
   "id": "1459190e-d1c4-4365-b879-5cc0c4baf968",
   "metadata": {},
   "outputs": [],
   "source": [
    "medical_text = \"\"\"\n",
    "She does have asthma but doest not require daily medication for this and does not think it is flaring up.,\n",
    "MEDICATIONS: , Her only medication currently is Ortho Tri-Cyclen and the Allegra.,\n",
    "ALLERGIES: , She has no known medicine allergies.,\n",
    "OBJECTIVE:,Vitals:  Weight was 130 pounds and blood pressure 124/78.,\n",
    "HEENT:  Her throat was mildly erythematous without exudate. \n",
    "Nasal mucosa was erythematous and swollen.  Only clear drainage was seen.  \n",
    "TMs were clear.,\n",
    "Neck:  Supple without adenopathy.,\n",
    "Lungs:  Clear.,\n",
    "ASSESSMENT:,  Allergic rhinitis.,PLAN:,1. \n",
    "\"\"\""
   ]
  },
  {
   "cell_type": "markdown",
   "id": "7f750c77-67e4-46dc-85d4-2de0b60091c8",
   "metadata": {},
   "source": [
    "# Inference"
   ]
  },
  {
   "cell_type": "code",
   "execution_count": null,
   "id": "978af984-cb36-4d58-8ce7-8462cd63a417",
   "metadata": {},
   "outputs": [],
   "source": [
    "inputs = tokenizer.encode(\"summarize in 20 words: \" + medical_text, return_tensors=\"pt\", max_length=512, truncation=True)\n",
    "summary_ids = model.generate(inputs, max_length=50, min_length=10, length_penalty=2.0, num_beams=4, early_stopping=True)\n",
    "summary = tokenizer.decode(summary_ids[0], skip_special_tokens=True)\n",
    "print(summary)"
   ]
  },
  {
   "cell_type": "code",
   "execution_count": null,
   "id": "393ecc48-b1b6-45aa-a7ee-c0611b3345d6",
   "metadata": {},
   "outputs": [],
   "source": []
  }
 ],
 "metadata": {
  "kernelspec": {
   "display_name": "Python 3 (ipykernel)",
   "language": "python",
   "name": "python3"
  },
  "language_info": {
   "codemirror_mode": {
    "name": "ipython",
    "version": 3
   },
   "file_extension": ".py",
   "mimetype": "text/x-python",
   "name": "python",
   "nbconvert_exporter": "python",
   "pygments_lexer": "ipython3",
   "version": "3.11.13"
  }
 },
 "nbformat": 4,
 "nbformat_minor": 5
}
