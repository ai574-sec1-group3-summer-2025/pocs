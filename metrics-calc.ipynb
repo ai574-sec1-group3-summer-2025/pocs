{
 "cells": [
  {
   "cell_type": "code",
   "execution_count": 1,
   "id": "709fc424-02af-466b-a728-0dd4067dfbfd",
   "metadata": {},
   "outputs": [
    {
     "name": "stderr",
     "output_type": "stream",
     "text": [
      "2025-07-13 19:31:02.767947: I tensorflow/core/util/port.cc:113] oneDNN custom operations are on. You may see slightly different numerical results due to floating-point round-off errors from different computation orders. To turn them off, set the environment variable `TF_ENABLE_ONEDNN_OPTS=0`.\n",
      "2025-07-13 19:31:02.800192: E external/local_xla/xla/stream_executor/cuda/cuda_dnn.cc:9261] Unable to register cuDNN factory: Attempting to register factory for plugin cuDNN when one has already been registered\n",
      "2025-07-13 19:31:02.800219: E external/local_xla/xla/stream_executor/cuda/cuda_fft.cc:607] Unable to register cuFFT factory: Attempting to register factory for plugin cuFFT when one has already been registered\n",
      "2025-07-13 19:31:02.801128: E external/local_xla/xla/stream_executor/cuda/cuda_blas.cc:1515] Unable to register cuBLAS factory: Attempting to register factory for plugin cuBLAS when one has already been registered\n",
      "2025-07-13 19:31:02.806743: I tensorflow/core/platform/cpu_feature_guard.cc:182] This TensorFlow binary is optimized to use available CPU instructions in performance-critical operations.\n",
      "To enable the following instructions: AVX2 AVX_VNNI FMA, in other operations, rebuild TensorFlow with the appropriate compiler flags.\n",
      "2025-07-13 19:31:03.386799: W tensorflow/compiler/tf2tensorrt/utils/py_utils.cc:38] TF-TRT Warning: Could not find TensorRT\n",
      "/home/kilnaar/anaconda3/envs/ai574-pocs/lib/python3.11/site-packages/tqdm/auto.py:21: TqdmWarning: IProgress not found. Please update jupyter and ipywidgets. See https://ipywidgets.readthedocs.io/en/stable/user_install.html\n",
      "  from .autonotebook import tqdm as notebook_tqdm\n"
     ]
    }
   ],
   "source": [
    "import dotenv\n",
    "dotenv.load_dotenv()\n",
    "import tensorflow as tf\n",
    "import pandas as pd\n",
    "from rouge_score import rouge_scorer\n",
    "import evaluate\n",
    "import os\n",
    "import csv"
   ]
  },
  {
   "cell_type": "code",
   "execution_count": 2,
   "id": "e2ed0a42-0b09-41f2-914d-67d672689bf6",
   "metadata": {},
   "outputs": [],
   "source": [
    "test_model_name = 'gemma'"
   ]
  },
  {
   "cell_type": "code",
   "execution_count": 3,
   "id": "a7e1dc64",
   "metadata": {},
   "outputs": [
    {
     "data": {
      "text/html": [
       "<div>\n",
       "<style scoped>\n",
       "    .dataframe tbody tr th:only-of-type {\n",
       "        vertical-align: middle;\n",
       "    }\n",
       "\n",
       "    .dataframe tbody tr th {\n",
       "        vertical-align: top;\n",
       "    }\n",
       "\n",
       "    .dataframe thead th {\n",
       "        text-align: right;\n",
       "    }\n",
       "</style>\n",
       "<table border=\"1\" class=\"dataframe\">\n",
       "  <thead>\n",
       "    <tr style=\"text-align: right;\">\n",
       "      <th></th>\n",
       "      <th>Unnamed: 0</th>\n",
       "      <th>description</th>\n",
       "      <th>medical_specialty</th>\n",
       "      <th>sample_name</th>\n",
       "      <th>transcription</th>\n",
       "      <th>keywords</th>\n",
       "      <th>med-gemma-summary</th>\n",
       "    </tr>\n",
       "  </thead>\n",
       "  <tbody>\n",
       "    <tr>\n",
       "      <th>0</th>\n",
       "      <td>0</td>\n",
       "      <td>A 23-year-old white female presents with comp...</td>\n",
       "      <td>Allergy / Immunology</td>\n",
       "      <td>Allergic Rhinitis</td>\n",
       "      <td>SUBJECTIVE:,  This 23-year-old white female pr...</td>\n",
       "      <td>allergy / immunology, allergic rhinitis, aller...</td>\n",
       "      <td>Young woman reports worsening seasonal allergi...</td>\n",
       "    </tr>\n",
       "    <tr>\n",
       "      <th>1</th>\n",
       "      <td>1</td>\n",
       "      <td>Consult for laparoscopic gastric bypass.</td>\n",
       "      <td>Bariatrics</td>\n",
       "      <td>Laparoscopic Gastric Bypass Consult - 2</td>\n",
       "      <td>PAST MEDICAL HISTORY:, He has difficulty climb...</td>\n",
       "      <td>bariatrics, laparoscopic gastric bypass, weigh...</td>\n",
       "      <td>Obese male with multiple comorbidities, includ...</td>\n",
       "    </tr>\n",
       "    <tr>\n",
       "      <th>2</th>\n",
       "      <td>2</td>\n",
       "      <td>Consult for laparoscopic gastric bypass.</td>\n",
       "      <td>Bariatrics</td>\n",
       "      <td>Laparoscopic Gastric Bypass Consult - 1</td>\n",
       "      <td>HISTORY OF PRESENT ILLNESS: , I have seen ABC ...</td>\n",
       "      <td>bariatrics, laparoscopic gastric bypass, heart...</td>\n",
       "      <td>user\\nBelow is an abstract from a medical pape...</td>\n",
       "    </tr>\n",
       "    <tr>\n",
       "      <th>3</th>\n",
       "      <td>3</td>\n",
       "      <td>2-D M-Mode. Doppler.</td>\n",
       "      <td>Cardiovascular / Pulmonary</td>\n",
       "      <td>2-D Echocardiogram - 1</td>\n",
       "      <td>2-D M-MODE: , ,1.  Left atrial enlargement wit...</td>\n",
       "      <td>cardiovascular / pulmonary, 2-d m-mode, dopple...</td>\n",
       "      <td>The study reveals mild mitral/tricuspid regurg...</td>\n",
       "    </tr>\n",
       "    <tr>\n",
       "      <th>4</th>\n",
       "      <td>4</td>\n",
       "      <td>2-D Echocardiogram</td>\n",
       "      <td>Cardiovascular / Pulmonary</td>\n",
       "      <td>2-D Echocardiogram - 2</td>\n",
       "      <td>1.  The left ventricular cavity size and wall ...</td>\n",
       "      <td>cardiovascular / pulmonary, 2-d, doppler, echo...</td>\n",
       "      <td>Hyperdynamic LV function, mild MR/LA enlargeme...</td>\n",
       "    </tr>\n",
       "    <tr>\n",
       "      <th>...</th>\n",
       "      <td>...</td>\n",
       "      <td>...</td>\n",
       "      <td>...</td>\n",
       "      <td>...</td>\n",
       "      <td>...</td>\n",
       "      <td>...</td>\n",
       "      <td>...</td>\n",
       "    </tr>\n",
       "    <tr>\n",
       "      <th>4994</th>\n",
       "      <td>4994</td>\n",
       "      <td>Patient having severe sinusitis about two to ...</td>\n",
       "      <td>Allergy / Immunology</td>\n",
       "      <td>Chronic Sinusitis</td>\n",
       "      <td>HISTORY:,  I had the pleasure of meeting and e...</td>\n",
       "      <td>NaN</td>\n",
       "      <td>user\\nBelow is an abstract from a medical pape...</td>\n",
       "    </tr>\n",
       "    <tr>\n",
       "      <th>4995</th>\n",
       "      <td>4995</td>\n",
       "      <td>This is a 14-month-old baby boy Caucasian who...</td>\n",
       "      <td>Allergy / Immunology</td>\n",
       "      <td>Kawasaki Disease - Discharge Summary</td>\n",
       "      <td>ADMITTING DIAGNOSIS: , Kawasaki disease.,DISCH...</td>\n",
       "      <td>allergy / immunology, mucous membranes, conjun...</td>\n",
       "      <td>A 14-month old male presented with suspected K...</td>\n",
       "    </tr>\n",
       "    <tr>\n",
       "      <th>4996</th>\n",
       "      <td>4996</td>\n",
       "      <td>A female for a complete physical and follow u...</td>\n",
       "      <td>Allergy / Immunology</td>\n",
       "      <td>Followup on Asthma</td>\n",
       "      <td>SUBJECTIVE: , This is a 42-year-old white fema...</td>\n",
       "      <td>NaN</td>\n",
       "      <td>user\\nBelow is an abstract from a medical pape...</td>\n",
       "    </tr>\n",
       "    <tr>\n",
       "      <th>4997</th>\n",
       "      <td>4997</td>\n",
       "      <td>Mother states he has been wheezing and coughing.</td>\n",
       "      <td>Allergy / Immunology</td>\n",
       "      <td>Asthma in a 5-year-old</td>\n",
       "      <td>CHIEF COMPLAINT: , This 5-year-old male presen...</td>\n",
       "      <td>NaN</td>\n",
       "      <td>A 5yo male presented w/wheezing,coughing,vomit...</td>\n",
       "    </tr>\n",
       "    <tr>\n",
       "      <th>4998</th>\n",
       "      <td>4998</td>\n",
       "      <td>Acute allergic reaction, etiology uncertain, ...</td>\n",
       "      <td>Allergy / Immunology</td>\n",
       "      <td>Allergy Evaluation Consult</td>\n",
       "      <td>HISTORY: , A 34-year-old male presents today s...</td>\n",
       "      <td>NaN</td>\n",
       "      <td>A 34-year old male presented with suspected Ke...</td>\n",
       "    </tr>\n",
       "  </tbody>\n",
       "</table>\n",
       "<p>4999 rows × 7 columns</p>\n",
       "</div>"
      ],
      "text/plain": [
       "      Unnamed: 0                                        description  \\\n",
       "0              0   A 23-year-old white female presents with comp...   \n",
       "1              1           Consult for laparoscopic gastric bypass.   \n",
       "2              2           Consult for laparoscopic gastric bypass.   \n",
       "3              3                             2-D M-Mode. Doppler.     \n",
       "4              4                                 2-D Echocardiogram   \n",
       "...          ...                                                ...   \n",
       "4994        4994   Patient having severe sinusitis about two to ...   \n",
       "4995        4995   This is a 14-month-old baby boy Caucasian who...   \n",
       "4996        4996   A female for a complete physical and follow u...   \n",
       "4997        4997   Mother states he has been wheezing and coughing.   \n",
       "4998        4998   Acute allergic reaction, etiology uncertain, ...   \n",
       "\n",
       "                medical_specialty                                sample_name  \\\n",
       "0            Allergy / Immunology                         Allergic Rhinitis    \n",
       "1                      Bariatrics   Laparoscopic Gastric Bypass Consult - 2    \n",
       "2                      Bariatrics   Laparoscopic Gastric Bypass Consult - 1    \n",
       "3      Cardiovascular / Pulmonary                    2-D Echocardiogram - 1    \n",
       "4      Cardiovascular / Pulmonary                    2-D Echocardiogram - 2    \n",
       "...                           ...                                        ...   \n",
       "4994         Allergy / Immunology                         Chronic Sinusitis    \n",
       "4995         Allergy / Immunology      Kawasaki Disease - Discharge Summary    \n",
       "4996         Allergy / Immunology                        Followup on Asthma    \n",
       "4997         Allergy / Immunology                    Asthma in a 5-year-old    \n",
       "4998         Allergy / Immunology                Allergy Evaluation Consult    \n",
       "\n",
       "                                          transcription  \\\n",
       "0     SUBJECTIVE:,  This 23-year-old white female pr...   \n",
       "1     PAST MEDICAL HISTORY:, He has difficulty climb...   \n",
       "2     HISTORY OF PRESENT ILLNESS: , I have seen ABC ...   \n",
       "3     2-D M-MODE: , ,1.  Left atrial enlargement wit...   \n",
       "4     1.  The left ventricular cavity size and wall ...   \n",
       "...                                                 ...   \n",
       "4994  HISTORY:,  I had the pleasure of meeting and e...   \n",
       "4995  ADMITTING DIAGNOSIS: , Kawasaki disease.,DISCH...   \n",
       "4996  SUBJECTIVE: , This is a 42-year-old white fema...   \n",
       "4997  CHIEF COMPLAINT: , This 5-year-old male presen...   \n",
       "4998  HISTORY: , A 34-year-old male presents today s...   \n",
       "\n",
       "                                               keywords  \\\n",
       "0     allergy / immunology, allergic rhinitis, aller...   \n",
       "1     bariatrics, laparoscopic gastric bypass, weigh...   \n",
       "2     bariatrics, laparoscopic gastric bypass, heart...   \n",
       "3     cardiovascular / pulmonary, 2-d m-mode, dopple...   \n",
       "4     cardiovascular / pulmonary, 2-d, doppler, echo...   \n",
       "...                                                 ...   \n",
       "4994                                                NaN   \n",
       "4995  allergy / immunology, mucous membranes, conjun...   \n",
       "4996                                                NaN   \n",
       "4997                                                NaN   \n",
       "4998                                                NaN   \n",
       "\n",
       "                                      med-gemma-summary  \n",
       "0     Young woman reports worsening seasonal allergi...  \n",
       "1     Obese male with multiple comorbidities, includ...  \n",
       "2     user\\nBelow is an abstract from a medical pape...  \n",
       "3     The study reveals mild mitral/tricuspid regurg...  \n",
       "4     Hyperdynamic LV function, mild MR/LA enlargeme...  \n",
       "...                                                 ...  \n",
       "4994  user\\nBelow is an abstract from a medical pape...  \n",
       "4995  A 14-month old male presented with suspected K...  \n",
       "4996  user\\nBelow is an abstract from a medical pape...  \n",
       "4997  A 5yo male presented w/wheezing,coughing,vomit...  \n",
       "4998  A 34-year old male presented with suspected Ke...  \n",
       "\n",
       "[4999 rows x 7 columns]"
      ]
     },
     "execution_count": 3,
     "metadata": {},
     "output_type": "execute_result"
    }
   ],
   "source": [
    "df = pd.read_csv(f'mtsamples_with_{test_model_name}.csv')\n",
    "df['transcription'] = df.transcription.astype(str)\n",
    "df"
   ]
  },
  {
   "cell_type": "markdown",
   "id": "e9b23adc",
   "metadata": {},
   "source": [
    "# ROUGE F1 Scores\n",
    "\n",
    "An older-fashioned statistical set of metrics for similarity, typically used for summarizations."
   ]
  },
  {
   "cell_type": "code",
   "execution_count": 4,
   "id": "81f840d0",
   "metadata": {},
   "outputs": [],
   "source": [
    "rouge_calcer = rouge_scorer.RougeScorer([\n",
    "    'rougeL'\n",
    "], use_stemmer = True)\n",
    "\n",
    "def calc_rouge(short_text, full_text):\n",
    "    try:\n",
    "        rouges = rouge_calcer.score(short_text, full_text)\n",
    "        return rouges['rougeL'][2]\n",
    "    except Exception as e:\n",
    "        return 0.0\n",
    "\n",
    "def calc_rouge_pair(row):\n",
    "    return calc_rouge(row['description'], row['transcription']), calc_rouge(row[f'med-{test_model_name}-summary'], row['transcription'])"
   ]
  },
  {
   "cell_type": "code",
   "execution_count": 5,
   "id": "050cd334",
   "metadata": {},
   "outputs": [],
   "source": [
    "df[['rougeL_f1_source', 'rougeL_f1_dest']] = df.apply(calc_rouge_pair, axis = 1, result_type = 'expand')"
   ]
  },
  {
   "cell_type": "markdown",
   "id": "d7f1139a",
   "metadata": {},
   "source": [
    "# BERTScore\n",
    "\n",
    "Uses embeddings from the BERT transformer model to judge similarity."
   ]
  },
  {
   "cell_type": "code",
   "execution_count": 6,
   "id": "f6182766",
   "metadata": {},
   "outputs": [],
   "source": [
    "bertscore = evaluate.load(\"bertscore\")\n",
    "\n",
    "def calc_bertscore(short_text, full_text):\n",
    "    try:\n",
    "        result = bertscore.compute(\n",
    "                predictions = [short_text],\n",
    "                references = [full_text],\n",
    "                model_type = \"microsoft/deberta-large-mnli\",\n",
    "                lang = \"en\")\n",
    "\n",
    "        return result[\"f1\"][0]\n",
    "    except:\n",
    "        return 0.0\n",
    "\n",
    "def calc_bertscore_pair(row):\n",
    "    return pd.Series([calc_bertscore(row['description'], row['transcription']), calc_bertscore(row[f'med-{test_model_name}-summary'], row['transcription'])])"
   ]
  },
  {
   "cell_type": "code",
   "execution_count": 7,
   "id": "8a550384",
   "metadata": {},
   "outputs": [
    {
     "name": "stderr",
     "output_type": "stream",
     "text": [
      "Warning: Empty candidate sentence detected; setting raw BERTscores to 0.\n",
      "Warning: Empty candidate sentence detected; setting raw BERTscores to 0.\n",
      "Warning: Empty candidate sentence detected; setting raw BERTscores to 0.\n",
      "Warning: Empty candidate sentence detected; setting raw BERTscores to 0.\n",
      "Warning: Empty candidate sentence detected; setting raw BERTscores to 0.\n",
      "Warning: Empty candidate sentence detected; setting raw BERTscores to 0.\n"
     ]
    }
   ],
   "source": [
    "df[['bertscore_f1_source', 'bertscore_f1_dest']] = df.apply(calc_bertscore_pair, axis = 1)"
   ]
  },
  {
   "cell_type": "markdown",
   "id": "fa8b2599",
   "metadata": {},
   "source": [
    "# BLEURT\n",
    "\n",
    "A regression model based on BERT."
   ]
  },
  {
   "cell_type": "code",
   "execution_count": 8,
   "id": "a72664ec",
   "metadata": {},
   "outputs": [
    {
     "name": "stdout",
     "output_type": "stream",
     "text": [
      "INFO:tensorflow:Reading checkpoint /mnt/data/hf/metrics/bleurt/bleurt-tiny-128/downloads/extracted/599cd3ff6a3bbad54e145d867ccea405bb98c2b832fb29b50fb02089a1026530/bleurt-tiny-128.\n"
     ]
    },
    {
     "name": "stderr",
     "output_type": "stream",
     "text": [
      "INFO:tensorflow:Reading checkpoint /mnt/data/hf/metrics/bleurt/bleurt-tiny-128/downloads/extracted/599cd3ff6a3bbad54e145d867ccea405bb98c2b832fb29b50fb02089a1026530/bleurt-tiny-128.\n"
     ]
    },
    {
     "name": "stdout",
     "output_type": "stream",
     "text": [
      "INFO:tensorflow:Config file found, reading.\n"
     ]
    },
    {
     "name": "stderr",
     "output_type": "stream",
     "text": [
      "INFO:tensorflow:Config file found, reading.\n"
     ]
    },
    {
     "name": "stdout",
     "output_type": "stream",
     "text": [
      "INFO:tensorflow:Will load checkpoint bert_custom\n"
     ]
    },
    {
     "name": "stderr",
     "output_type": "stream",
     "text": [
      "INFO:tensorflow:Will load checkpoint bert_custom\n"
     ]
    },
    {
     "name": "stdout",
     "output_type": "stream",
     "text": [
      "INFO:tensorflow:Loads full paths and checks that files exists.\n"
     ]
    },
    {
     "name": "stderr",
     "output_type": "stream",
     "text": [
      "INFO:tensorflow:Loads full paths and checks that files exists.\n"
     ]
    },
    {
     "name": "stdout",
     "output_type": "stream",
     "text": [
      "INFO:tensorflow:... name:bert_custom\n"
     ]
    },
    {
     "name": "stderr",
     "output_type": "stream",
     "text": [
      "INFO:tensorflow:... name:bert_custom\n"
     ]
    },
    {
     "name": "stdout",
     "output_type": "stream",
     "text": [
      "INFO:tensorflow:... vocab_file:vocab.txt\n"
     ]
    },
    {
     "name": "stderr",
     "output_type": "stream",
     "text": [
      "INFO:tensorflow:... vocab_file:vocab.txt\n"
     ]
    },
    {
     "name": "stdout",
     "output_type": "stream",
     "text": [
      "INFO:tensorflow:... bert_config_file:bert_config.json\n"
     ]
    },
    {
     "name": "stderr",
     "output_type": "stream",
     "text": [
      "INFO:tensorflow:... bert_config_file:bert_config.json\n"
     ]
    },
    {
     "name": "stdout",
     "output_type": "stream",
     "text": [
      "INFO:tensorflow:... do_lower_case:True\n"
     ]
    },
    {
     "name": "stderr",
     "output_type": "stream",
     "text": [
      "INFO:tensorflow:... do_lower_case:True\n"
     ]
    },
    {
     "name": "stdout",
     "output_type": "stream",
     "text": [
      "INFO:tensorflow:... max_seq_length:128\n"
     ]
    },
    {
     "name": "stderr",
     "output_type": "stream",
     "text": [
      "INFO:tensorflow:... max_seq_length:128\n"
     ]
    },
    {
     "name": "stdout",
     "output_type": "stream",
     "text": [
      "INFO:tensorflow:Creating BLEURT scorer.\n"
     ]
    },
    {
     "name": "stderr",
     "output_type": "stream",
     "text": [
      "INFO:tensorflow:Creating BLEURT scorer.\n"
     ]
    },
    {
     "name": "stdout",
     "output_type": "stream",
     "text": [
      "INFO:tensorflow:Creating WordPiece tokenizer.\n"
     ]
    },
    {
     "name": "stderr",
     "output_type": "stream",
     "text": [
      "INFO:tensorflow:Creating WordPiece tokenizer.\n"
     ]
    },
    {
     "name": "stdout",
     "output_type": "stream",
     "text": [
      "INFO:tensorflow:WordPiece tokenizer instantiated.\n"
     ]
    },
    {
     "name": "stderr",
     "output_type": "stream",
     "text": [
      "INFO:tensorflow:WordPiece tokenizer instantiated.\n"
     ]
    },
    {
     "name": "stdout",
     "output_type": "stream",
     "text": [
      "INFO:tensorflow:Creating Eager Mode predictor.\n"
     ]
    },
    {
     "name": "stderr",
     "output_type": "stream",
     "text": [
      "INFO:tensorflow:Creating Eager Mode predictor.\n"
     ]
    },
    {
     "name": "stdout",
     "output_type": "stream",
     "text": [
      "INFO:tensorflow:Loading model.\n"
     ]
    },
    {
     "name": "stderr",
     "output_type": "stream",
     "text": [
      "INFO:tensorflow:Loading model.\n",
      "2025-07-13 19:49:49.379024: I external/local_xla/xla/stream_executor/cuda/cuda_executor.cc:901] successful NUMA node read from SysFS had negative value (-1), but there must be at least one NUMA node, so returning NUMA node zero. See more at https://github.com/torvalds/linux/blob/v6.0/Documentation/ABI/testing/sysfs-bus-pci#L344-L355\n",
      "2025-07-13 19:49:49.379197: I external/local_xla/xla/stream_executor/cuda/cuda_executor.cc:901] successful NUMA node read from SysFS had negative value (-1), but there must be at least one NUMA node, so returning NUMA node zero. See more at https://github.com/torvalds/linux/blob/v6.0/Documentation/ABI/testing/sysfs-bus-pci#L344-L355\n",
      "2025-07-13 19:49:49.380133: W tensorflow/core/common_runtime/gpu/gpu_device.cc:2256] Cannot dlopen some GPU libraries. Please make sure the missing libraries mentioned above are installed properly if you would like to use GPU. Follow the guide at https://www.tensorflow.org/install/gpu for how to download and setup the required libraries for your platform.\n",
      "Skipping registering GPU devices...\n"
     ]
    },
    {
     "name": "stdout",
     "output_type": "stream",
     "text": [
      "INFO:tensorflow:BLEURT initialized.\n"
     ]
    },
    {
     "name": "stderr",
     "output_type": "stream",
     "text": [
      "INFO:tensorflow:BLEURT initialized.\n"
     ]
    }
   ],
   "source": [
    "bleurt = evaluate.load(\"bleurt\", config_name = \"bleurt-tiny-128\")\n",
    "\n",
    "def calc_bleu(short_text, full_text):\n",
    "    # this was slower on GPU, I think it doesn't paralleize well because of how small the model is\n",
    "    with tf.device(\"/CPU:0\"):\n",
    "        try:\n",
    "            result = bleurt.compute(\n",
    "                    predictions = [short_text],\n",
    "                    references = [full_text],\n",
    "                    )\n",
    "            return result[\"scores\"][0]\n",
    "        except:\n",
    "            return 0.0\n",
    "\n",
    "def calc_bleu_pair(row):\n",
    "    return pd.Series([calc_bleu(row['description'], row['transcription']), calc_bleu(row[f'med-{test_model_name}-summary'], row['transcription'])])"
   ]
  },
  {
   "cell_type": "code",
   "execution_count": 9,
   "id": "fd078da4",
   "metadata": {},
   "outputs": [],
   "source": [
    "df[['bleurt_source', 'bleurt_dest']] = df.apply(calc_bleu_pair, axis = 1)"
   ]
  },
  {
   "cell_type": "markdown",
   "id": "efc12339-0ead-4d4d-b529-bf074b6ca203",
   "metadata": {},
   "source": [
    "#  HHEM 2.1 model from Vectara (WIP)\n",
    "\n",
    "Languaged-model-based system for detecting hallucinations in other LM operations."
   ]
  },
  {
   "cell_type": "code",
   "execution_count": 10,
   "id": "3d6eb47e-1abb-406c-92b6-35c6d62bbbba",
   "metadata": {},
   "outputs": [
    {
     "name": "stderr",
     "output_type": "stream",
     "text": [
      "\u001b[34m\u001b[1mwandb\u001b[0m: Downloading large artifact hallucination_hhem_scorer:v0, 421.31MB. 8 files... \n",
      "\u001b[34m\u001b[1mwandb\u001b[0m:   8 of 8 files downloaded.  \n",
      "Done. 0:0:0.9 (444.0MB/s)\n",
      "Device set to use cuda\n"
     ]
    }
   ],
   "source": [
    "os.environ[\"WANDB_BASE_URL\"] = \"https://api.wandb.ai\"\n",
    "from weave.scorers import WeaveHallucinationScorerV1\n",
    "\n",
    "hallucination_scorer = WeaveHallucinationScorerV1(device = 'cuda')\n",
    "\n",
    "def hallucination_score(query, context, output):\n",
    "    try:\n",
    "        result = hallucination_scorer.score(\n",
    "            query = query,\n",
    "            context = context,\n",
    "            output = output,            \n",
    "        )\n",
    "    \n",
    "        return result.metadata['score']\n",
    "    except:\n",
    "        return 1.0"
   ]
  },
  {
   "cell_type": "code",
   "execution_count": 11,
   "id": "8c673ab5-7334-4a8f-bed4-7f410cfc987c",
   "metadata": {},
   "outputs": [
    {
     "name": "stderr",
     "output_type": "stream",
     "text": [
      "WARNING:weave.trace.op:Warning: Traces will not be logged. Call weave.init to log your traces to a project.\n",
      " (subsequent messages of this type will be suppressed)\n",
      "Token indices sequence length is longer than the specified maximum sequence length for this model (711 > 512). Running this sequence through the model will result in indexing errors\n",
      "You seem to be using the pipelines sequentially on GPU. In order to maximize efficiency please use a dataset\n"
     ]
    }
   ],
   "source": [
    "df[f'med-{test_model_name}-summary-hallucination-score'] = df.apply(lambda x: hallucination_score(x.transcription, x.description, x[f'med-{test_model_name}-summary']), axis = 1)"
   ]
  },
  {
   "cell_type": "markdown",
   "id": "7713af02-7125-4ccc-b7a4-9870074add55",
   "metadata": {},
   "source": [
    "# Coherence\n",
    "\n",
    "A fine-tuned deberta-small-long-nli Small Language Model that ensures the writing doesn't contradict itself. "
   ]
  },
  {
   "cell_type": "code",
   "execution_count": 12,
   "id": "7f6864fe-f1d0-4d09-9ea4-46518aa94a16",
   "metadata": {},
   "outputs": [
    {
     "name": "stderr",
     "output_type": "stream",
     "text": [
      "\u001b[34m\u001b[1mwandb\u001b[0m: Downloading large artifact coherence_scorer:v0, 549.59MB. 21 files... \n",
      "\u001b[34m\u001b[1mwandb\u001b[0m:   21 of 21 files downloaded.  \n",
      "Done. 0:0:1.2 (441.3MB/s)\n",
      "Device set to use cuda\n"
     ]
    }
   ],
   "source": [
    "import tensorflow as tf\n",
    "os.environ[\"USE_TF\"] = \"0\"\n",
    "os.environ[\"WANDB_BASE_URL\"] = \"https://api.wandb.ai\"\n",
    "from weave.scorers import WeaveCoherenceScorerV1\n",
    "\n",
    "coherence_scorer = WeaveCoherenceScorerV1(device = 'cuda')\n",
    "\n",
    "def coherence_score(query, output):\n",
    "    try:\n",
    "        result = coherence_scorer.score(\n",
    "            query = query,\n",
    "            output = output\n",
    "        )\n",
    "    \n",
    "        return result.metadata['score']\n",
    "    except:\n",
    "        return 0.0"
   ]
  },
  {
   "cell_type": "code",
   "execution_count": 13,
   "id": "faad04fa-0acc-4900-aa16-82b736bc5e35",
   "metadata": {},
   "outputs": [],
   "source": [
    "df[f'med-{test_model_name}-summary-coherence-score_source'] = df.apply(lambda x: coherence_score(x.transcription, x['description']), axis = 1)\n",
    "df[f'med-{test_model_name}-summary-coherence-score_dest'] = df.apply(lambda x: coherence_score(x.transcription, x[f'med-{test_model_name}-summary']), axis = 1)"
   ]
  },
  {
   "cell_type": "markdown",
   "id": "dd006a82-899f-4ca5-90b2-6f48152d00bb",
   "metadata": {},
   "source": [
    "# Save"
   ]
  },
  {
   "cell_type": "code",
   "execution_count": 14,
   "id": "85af01cd-0902-412f-8a45-512c34d63a9a",
   "metadata": {},
   "outputs": [],
   "source": [
    "df.to_csv(f'mtsamples_with_{test_model_name}_model_scores.csv', index = False, quoting = csv.QUOTE_NONNUMERIC)"
   ]
  },
  {
   "cell_type": "code",
   "execution_count": null,
   "id": "eb165956-9272-4c31-8cba-19aa9c41e776",
   "metadata": {},
   "outputs": [],
   "source": []
  }
 ],
 "metadata": {
  "kernelspec": {
   "display_name": "Python 3 (ipykernel)",
   "language": "python",
   "name": "python3"
  },
  "language_info": {
   "codemirror_mode": {
    "name": "ipython",
    "version": 3
   },
   "file_extension": ".py",
   "mimetype": "text/x-python",
   "name": "python",
   "nbconvert_exporter": "python",
   "pygments_lexer": "ipython3",
   "version": "3.11.13"
  }
 },
 "nbformat": 4,
 "nbformat_minor": 5
}
