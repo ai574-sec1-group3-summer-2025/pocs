{
 "cells": [
  {
   "cell_type": "code",
   "execution_count": 34,
   "id": "fd3e7489-c1bc-44d4-8544-ee478e1e6c15",
   "metadata": {},
   "outputs": [],
   "source": [
    "import pandas as pd\n",
    "import nltk\n",
    "from nltk.tokenize import RegexpTokenizer"
   ]
  },
  {
   "cell_type": "code",
   "execution_count": 29,
   "id": "67963cd3-972f-4b1b-8836-b38b17aa13e2",
   "metadata": {},
   "outputs": [
    {
     "name": "stderr",
     "output_type": "stream",
     "text": [
      "[nltk_data] Downloading package punkt_tab to\n",
      "[nltk_data]     /home/kilnaar/nltk_data...\n",
      "[nltk_data]   Package punkt_tab is already up-to-date!\n"
     ]
    },
    {
     "data": {
      "text/plain": [
       "True"
      ]
     },
     "execution_count": 29,
     "metadata": {},
     "output_type": "execute_result"
    }
   ],
   "source": [
    "df = pd.read_csv('./mtsamples.csv')\n",
    "df['transcription'] = df.transcription.astype(str)\n",
    "df['description'] = df.description.astype(str)\n",
    "\n",
    "nltk.download('punkt_tab')"
   ]
  },
  {
   "cell_type": "code",
   "execution_count": 38,
   "id": "635fe517-4622-4ff1-bd3e-8bf2cf5989a2",
   "metadata": {},
   "outputs": [],
   "source": [
    "tokenizer = RegexpTokenizer(r'\\w+')"
   ]
  },
  {
   "cell_type": "code",
   "execution_count": 39,
   "id": "05b8abed-7108-427e-8b89-63d045006a72",
   "metadata": {},
   "outputs": [],
   "source": [
    "df['description_wordcount'] =  df.description.apply(lambda x: len(tokenizer.tokenize(x)))"
   ]
  },
  {
   "cell_type": "code",
   "execution_count": 40,
   "id": "96cc7b7e-754b-4a94-b1cf-b2abff350a62",
   "metadata": {},
   "outputs": [
    {
     "data": {
      "text/plain": [
       "19.047009401880377"
      ]
     },
     "execution_count": 40,
     "metadata": {},
     "output_type": "execute_result"
    }
   ],
   "source": [
    "float(df['description_wordcount'].mean())"
   ]
  },
  {
   "cell_type": "code",
   "execution_count": null,
   "id": "4bee5495-b28d-4ed6-bbbd-ad271851fe05",
   "metadata": {},
   "outputs": [],
   "source": []
  }
 ],
 "metadata": {
  "kernelspec": {
   "display_name": "Python 3 (ipykernel)",
   "language": "python",
   "name": "python3"
  },
  "language_info": {
   "codemirror_mode": {
    "name": "ipython",
    "version": 3
   },
   "file_extension": ".py",
   "mimetype": "text/x-python",
   "name": "python",
   "nbconvert_exporter": "python",
   "pygments_lexer": "ipython3",
   "version": "3.11.13"
  }
 },
 "nbformat": 4,
 "nbformat_minor": 5
}
