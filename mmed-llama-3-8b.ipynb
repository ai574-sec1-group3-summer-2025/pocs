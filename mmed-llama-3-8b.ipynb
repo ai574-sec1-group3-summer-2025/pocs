{
 "cells": [
  {
   "cell_type": "code",
   "execution_count": null,
   "id": "11b94e5e-f11d-4e9d-a8e8-8a33cd0ee513",
   "metadata": {},
   "outputs": [],
   "source": [
    "import torch, textwrap\n",
    "from transformers import (\n",
    "    AutoTokenizer,\n",
    "    AutoModelForCausalLM,\n",
    "    GenerationConfig,\n",
    ")"
   ]
  },
  {
   "cell_type": "markdown",
   "id": "8d53d08d-381b-4294-a007-2f76e596bda2",
   "metadata": {},
   "source": [
    "# Load model"
   ]
  },
  {
   "cell_type": "code",
   "execution_count": null,
   "id": "330d4652-91ef-4236-9561-adefae7bbe94",
   "metadata": {},
   "outputs": [],
   "source": [
    "MODEL_ID = \"Henrychur/MMed-Llama-3-8B-EnIns\"    # instruction-tuned\n",
    "DEVICE   = \"cuda\" if torch.cuda.is_available() else \"CPU\"\n",
    "tokenizer = AutoTokenizer.from_pretrained(MODEL_ID)\n",
    "model = AutoModelForCausalLM.from_pretrained(MODEL_ID, load_in_8bit = True, device_map = \"auto\")"
   ]
  },
  {
   "cell_type": "markdown",
   "id": "cdbb4e9a-264c-452f-be37-942fa046df1f",
   "metadata": {},
   "source": [
    "# Some medical text"
   ]
  },
  {
   "cell_type": "code",
   "execution_count": null,
   "id": "855802c7-43b2-42ab-ab91-3c7dd7eda3d7",
   "metadata": {},
   "outputs": [],
   "source": [
    "medical_text = \"\"\"\n",
    "Non-steroidal anti-inflammatory drugs are not only potent analgesics and antipyretics but also nephrotoxins, and may cause \n",
    "electrolyte disarray. In addition to the commonly expected effects, including hyperkalemia, hyponatremia, acute renal injury, \n",
    "renal cortical necrosis, and volume retention, glomerular disease with or without nephrotic syndrome or nephritis can occur as \n",
    "well including after years of seemingly safe administration. Minimal change disease, secondary membranous glomerulonephritis, \n",
    "and acute interstitial nephritis are all reported glomerular lesions seen with non-steroidal anti-inflammatory use. We report a \n",
    "patient who used non-steroidal anti-inflammatory drugs for years without diabetes, chronic kidney disease, or proteinuria; he \n",
    "then developed severe nephrotic range proteinuria with 7 g of daily urinary protein excretion. Renal biopsy showed minimal \n",
    "change nephropathy, a likely secondary membranous glomerulonephritis, and acute interstitial nephritis present simultaneously\n",
    "in one biopsy. \n",
    "\n",
    "\"\"\""
   ]
  },
  {
   "cell_type": "code",
   "execution_count": null,
   "id": "bd6997bb-5a48-48c0-ae8e-a4eaff1ce5d8",
   "metadata": {},
   "outputs": [],
   "source": [
    "SYSTEM = \"You are a helpful medical AI that produces clear, accurate summaries.\"\n",
    "TEXT = medical_text\n",
    "USER = f\"Summarise the following passage in no more than three sentences:\\n{TEXT.strip()}\""
   ]
  },
  {
   "cell_type": "markdown",
   "id": "003683cb-8d15-454c-afdf-79efd9b9fa87",
   "metadata": {},
   "source": [
    "# Inference"
   ]
  },
  {
   "cell_type": "code",
   "execution_count": null,
   "id": "553b91f2-43f1-44ce-9328-0bdceb14a10a",
   "metadata": {},
   "outputs": [],
   "source": [
    "inputs = tok(prompt, return_tensors=\"pt\").to(model.device)\n",
    "\n",
    "gen_cfg = GenerationConfig(\n",
    "    max_new_tokens      = 200,\n",
    "    temperature         = 0.7,\n",
    "    top_p               = 0.9,\n",
    "    repetition_penalty  = 1.1,\n",
    ")\n",
    "\n",
    "with torch.no_grad():\n",
    "    out_ids = model.generate(**inputs, **gen_cfg.to_dict())\n",
    "\n",
    "summary = tok.decode(out_ids[0], skip_special_tokens=True)\n",
    "print(textwrap.fill(summary, 90))"
   ]
  }
 ],
 "metadata": {
  "kernelspec": {
   "display_name": "Python 3 (ipykernel)",
   "language": "python",
   "name": "python3"
  },
  "language_info": {
   "codemirror_mode": {
    "name": "ipython",
    "version": 3
   },
   "file_extension": ".py",
   "mimetype": "text/x-python",
   "name": "python",
   "nbconvert_exporter": "python",
   "pygments_lexer": "ipython3",
   "version": "3.11.13"
  }
 },
 "nbformat": 4,
 "nbformat_minor": 5
}
