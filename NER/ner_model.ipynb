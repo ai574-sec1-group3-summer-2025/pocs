{
 "cells": [
  {
   "cell_type": "markdown",
   "id": "e7bff816",
   "metadata": {},
   "source": [
    "# NER using SPACY and BERT on medical transcriptions\n",
    "\n",
    "# Purpose\n",
    "Take a Medical transcription data set and identify named entities from that data set. Named entities are typically \"tags\" that provide more contextual meaning to different words in a natural language corpus. For example \"tools\" imply collection of items like \"hammer\", \"nail\", \"saw\", etc. Similarly, \"organization\" implies a collection of commercial and non-profit companies like \"Google\", \"Netflix\", \"FDA\", etc.\n",
    "\n",
    "As applicable to medical transcription, a perusal of the data set (presented in upcoming sections) provide for certain groups that are fairly distinct from other \"biological\" terms (though there maybe some overlap). Typically medical terms can be classified as symptoms, conditions (or ailments), affected parts, etc. \n",
    "\n",
    "Such classification is important to analyze more macro trends - for example, how many symptoms are typically associated with conditions? Is there a relationship between affected parts and certain conditions or are some procedures more commonly used than others given certain conditions? While the topic of such analysis and relationship extraction is not the focus of these models, named entity recognition (NER) models address the first part of the problem, i.e., first identifying and classifying the given corpus into different domain-specific tags.\n",
    "\n",
    "So in these models, we will take the same set of medical transcription data, but illustrate how another NLP task of named-entity recognition (NER) can be applied for the same."
   ]
  },
  {
   "cell_type": "code",
   "execution_count": 2,
   "id": "ddb05f2d",
   "metadata": {},
   "outputs": [],
   "source": [
    "import pkgutil\n",
    "import importlib.util\n",
    "import sys\n",
    "import os\n",
    "import argparse\n",
    "import ast\n",
    "\n",
    "_test_individual_blocks = True\n",
    "required_modules_list = [[\"torch\", \"\"],\n",
    "                             [\"pandas\", \"\"],\n",
    "                             [\"numpy\", \"\"],\n",
    "                             [\"sklearn\", \"\"],\n",
    "                             [\"matplotlib\", \"\"],\n",
    "                             [\"nltk\", \"\"],\n",
    "                             [\"spacy\", \"3.7.5\"],\n",
    "                             [\"tqdm\", \"\"]]\n",
    "# Spacy version 3.8.7 which is the latest does not work with NVCR.IO Tensorflow: 25.02-tf2-py3"
   ]
  },
  {
   "cell_type": "code",
   "execution_count": 3,
   "id": "c0abb3b4",
   "metadata": {},
   "outputs": [],
   "source": [
    "skip_spacy_model = False\n",
    "skip_spacy_model_download = True\n",
    "skip_bert_model = False"
   ]
  },
  {
   "cell_type": "code",
   "execution_count": 4,
   "id": "2e4da03b",
   "metadata": {},
   "outputs": [],
   "source": [
    "from IPython.core.magic import register_cell_magic\n",
    "from IPython import get_ipython\n",
    "\n",
    "@register_cell_magic\n",
    "def skip_if(line, cell):\n",
    "    if not eval(line):  # Execute cell only if condition is False\n",
    "        return get_ipython().run_cell(cell)"
   ]
  },
  {
   "cell_type": "code",
   "execution_count": 5,
   "id": "a65d985e",
   "metadata": {},
   "outputs": [],
   "source": [
    "%%skip_if skip_spacy_model_download\n",
    "\n",
    "!python -m spacy download en_core_web_lg"
   ]
  },
  {
   "cell_type": "code",
   "execution_count": 6,
   "id": "d475c673",
   "metadata": {},
   "outputs": [
    {
     "name": "stdout",
     "output_type": "stream",
     "text": [
      "Checking Package Availability:\n",
      "\t'torch' is available\n",
      "\t'pandas' is available\n",
      "\t'numpy' is available\n",
      "\t'sklearn' is available\n",
      "\t'matplotlib' is available\n",
      "\t'nltk' is available\n",
      "\t'spacy' is available\n",
      "\t'tqdm' is available\n"
     ]
    }
   ],
   "source": [
    "def check_module_availability():\n",
    "    print(\"Checking Package Availability:\")\n",
    "    for module_name, version in required_modules_list:\n",
    "        if (spec := importlib.util.find_spec(module_name)) is not None:\n",
    "            print(\"\\t\\'%s\\' is available\" % (module_name))            \n",
    "        else:\n",
    "            print(\"\\tCannot find \\'%s\\'\" %(module_name))\n",
    "            return False\n",
    "    return True\n",
    "\n",
    "if check_module_availability() is False:\n",
    "    exit()\n",
    "\n"
   ]
  },
  {
   "cell_type": "code",
   "execution_count": 7,
   "id": "8d2cd4db",
   "metadata": {},
   "outputs": [
    {
     "name": "stdout",
     "output_type": "stream",
     "text": [
      "Importing Libraries after checking presence\n"
     ]
    }
   ],
   "source": [
    "print(\"Importing Libraries after checking presence\")\n",
    "from tqdm import tqdm\n",
    "import pandas as pd\n",
    "from string import punctuation\n",
    "import numpy as np\n",
    "import torch\n",
    "import matplotlib.pyplot as plt\n",
    "import re\n",
    "import string\n",
    "import nltk\n",
    "from nltk import word_tokenize, pos_tag, ne_chunk, sent_tokenize\n",
    "from nltk.tree import Tree\n",
    "from nltk.corpus import stopwords\n",
    "from collections import Counter\n"
   ]
  },
  {
   "cell_type": "code",
   "execution_count": 8,
   "id": "44b00eb1",
   "metadata": {},
   "outputs": [
    {
     "name": "stdout",
     "output_type": "stream",
     "text": [
      "Checking for GPU availability:\n",
      "GPU is available!\n",
      "Number of GPUs: 1\n",
      "Current GPU device name: NVIDIA GeForce RTX 4070 Ti\n"
     ]
    }
   ],
   "source": [
    "def check_gpu_availability():\n",
    "   print(\"Checking for GPU availability:\")\n",
    "   if torch.cuda.is_available():\n",
    "      print(\"GPU is available!\")\n",
    "      print(f\"Number of GPUs: {torch.cuda.device_count()}\")\n",
    "      print(f\"Current GPU device name: {torch.cuda.get_device_name(0)}\") # Get name of the first GPU\n",
    "   else:\n",
    "      print(\"GPU is not available. PyTorch will use CPU.\")\n",
    "    \n",
    "check_gpu_availability()"
   ]
  },
  {
   "cell_type": "markdown",
   "id": "5a2ddc8f",
   "metadata": {},
   "source": [
    "## Data set overview\n",
    "The below section provides a quick preview of the data file that we have. As can be seen on this, it is clear that the dataset has multiple columns. Of these, for the NER task, we will use the transcrption column.  "
   ]
  },
  {
   "cell_type": "code",
   "execution_count": null,
   "id": "3cfa6278",
   "metadata": {},
   "outputs": [
    {
     "name": "stdout",
     "output_type": "stream",
     "text": [
      "Dataset Columns:\n",
      "\tIndex(['id', 'description', 'medical_specialty', 'sample_name',\n",
      "       'transcription', 'keywords'],\n",
      "      dtype='object')\n",
      "Dataset has 3898 rows\n"
     ]
    }
   ],
   "source": [
    "sample_df = pd.read_excel('dataset/mtsamples.xlsx').dropna()\n",
    "sample_df.rename(columns ={'Unnamed: 0': 'id'}, inplace = True)\n",
    "print(f\"Dataset Columns:\\n\\t{sample_df.columns}\")\n",
    "print(f\"Dataset has {len(sample_df)} rows\")\n"
   ]
  },
  {
   "cell_type": "markdown",
   "id": "5cca2dba",
   "metadata": {},
   "source": [
    "## High level approach\n",
    "1. Annotate Data: Prepare 2x(5) sentences such that there are atleast 50 labels of each type.\n",
    "2. Build Model:\n",
    "    1. Train Model with Training set from above.\n",
    "    2. Test Model based on Training.\n",
    "    3. Run predition on a new set of inputs.\n",
    "3. Use 2 models for NER:\n",
    "    1. Spacy based model\n",
    "    2. BERT based model\n"
   ]
  },
  {
   "cell_type": "markdown",
   "id": "1069c029",
   "metadata": {},
   "source": [
    "## Annotating data\n",
    "* To annotate data, convert dataframe (Transcription) into the CoNLL BIO format, i.e.,:\n",
    "    * Entity that at the beginning of a potential multi-word entity: Beginning (B)\n",
    "    * Entity that is part of a multi-word entity, but not at the beginning: Inside (I)\n",
    "    * Any pord that is not an Entity: Outside (O)\n",
    "* Use following 5 Labels for this project:\n",
    "    * Affected Part (AP)\n",
    "    * Symptiom (SYM)\n",
    "    * Condition (COND)\n",
    "    * Procedure (PROC)\n",
    "    * Medication (MED)\n",
    "    * Tool (TOOL)\n",
    "\n",
    "The above implies that on this custom annotation, we will have a \"B-AP\", \"I-AP\", \"B-SYM\", \"I-SYM\", and so on as the label set. The next cell shows the actual labels used for these models.\n"
   ]
  },
  {
   "cell_type": "code",
   "execution_count": 10,
   "id": "fe03e5fa",
   "metadata": {},
   "outputs": [],
   "source": [
    "id2label = {\n",
    "    0: 'O',\n",
    "    1: 'B-AP',\n",
    "    2: 'I-AP',\n",
    "    3: 'B-SYM',\n",
    "    4: 'I-SYM',\n",
    "    5: 'B-COND',\n",
    "    6: 'I-COND', \n",
    "    7: 'B-PROC',\n",
    "    8: 'I-PROC',\n",
    "    9: 'B-MED',\n",
    "    10: 'I-MED',\n",
    "    11: 'B-TOOL',\n",
    "    12: 'I-TOOL',\n",
    "}\n",
    "\n",
    "label2id = {\n",
    "    'O'      :0,\n",
    "    'B-AP'   :1,\n",
    "    'I-AP'   :2,\n",
    "    'B-SYM'  :3,\n",
    "    'I-SYM'  :4,\n",
    "    'B-COND' :5,\n",
    "    'I-COND' :6, \n",
    "    'B-PROC' :7,\n",
    "    'I-PROC' :8,\n",
    "    'B-MED'  :9,\n",
    "    'I-MED'  :10,\n",
    "    'B-TOOL' :11,\n",
    "    'I-TOOL' :12,\n",
    "}\n"
   ]
  },
  {
   "cell_type": "markdown",
   "id": "ecb4b884",
   "metadata": {},
   "source": [
    "### Traditional approach of using NLTK and then manually tagging transcriptions.\n",
    "In this approach we try annotatibe the training set using NLTK.\n",
    "* Pros:\n",
    "    * Easy to start\n",
    "    * No sophisticated tools other than deciding the tokens and then manually perusing the transcripts.\n",
    "* Cons:\n",
    "    * Time consuming, exhausting and error prone. Each transcription had 20 plus lines!\n",
    "    * Complexity in terms of technical (medical) jargon\n",
    "    * Transcripts were quite complex and overpowering for someone not directly involved in these procedures."
   ]
  },
  {
   "cell_type": "code",
   "execution_count": 11,
   "id": "76bdd5ba",
   "metadata": {},
   "outputs": [
    {
     "name": "stderr",
     "output_type": "stream",
     "text": [
      "[nltk_data] Downloading collection 'popular'\n",
      "[nltk_data]    | \n",
      "[nltk_data]    | Downloading package cmudict to\n",
      "[nltk_data]    |     /home/bala/nltk_data...\n",
      "[nltk_data]    |   Package cmudict is already up-to-date!\n",
      "[nltk_data]    | Downloading package gazetteers to\n",
      "[nltk_data]    |     /home/bala/nltk_data...\n",
      "[nltk_data]    |   Package gazetteers is already up-to-date!\n",
      "[nltk_data]    | Downloading package genesis to\n",
      "[nltk_data]    |     /home/bala/nltk_data...\n",
      "[nltk_data]    |   Package genesis is already up-to-date!\n",
      "[nltk_data]    | Downloading package gutenberg to\n",
      "[nltk_data]    |     /home/bala/nltk_data...\n",
      "[nltk_data]    |   Package gutenberg is already up-to-date!\n",
      "[nltk_data]    | Downloading package inaugural to\n",
      "[nltk_data]    |     /home/bala/nltk_data...\n",
      "[nltk_data]    |   Package inaugural is already up-to-date!\n",
      "[nltk_data]    | Downloading package movie_reviews to\n",
      "[nltk_data]    |     /home/bala/nltk_data...\n",
      "[nltk_data]    |   Package movie_reviews is already up-to-date!\n",
      "[nltk_data]    | Downloading package names to /home/bala/nltk_data...\n",
      "[nltk_data]    |   Package names is already up-to-date!\n",
      "[nltk_data]    | Downloading package shakespeare to\n",
      "[nltk_data]    |     /home/bala/nltk_data...\n",
      "[nltk_data]    |   Package shakespeare is already up-to-date!\n",
      "[nltk_data]    | Downloading package stopwords to\n",
      "[nltk_data]    |     /home/bala/nltk_data...\n",
      "[nltk_data]    |   Package stopwords is already up-to-date!\n",
      "[nltk_data]    | Downloading package treebank to\n",
      "[nltk_data]    |     /home/bala/nltk_data...\n",
      "[nltk_data]    |   Package treebank is already up-to-date!\n",
      "[nltk_data]    | Downloading package twitter_samples to\n",
      "[nltk_data]    |     /home/bala/nltk_data...\n",
      "[nltk_data]    |   Package twitter_samples is already up-to-date!\n",
      "[nltk_data]    | Downloading package omw to /home/bala/nltk_data...\n",
      "[nltk_data]    |   Package omw is already up-to-date!\n",
      "[nltk_data]    | Downloading package omw-1.4 to\n",
      "[nltk_data]    |     /home/bala/nltk_data...\n",
      "[nltk_data]    |   Package omw-1.4 is already up-to-date!\n",
      "[nltk_data]    | Downloading package wordnet to\n",
      "[nltk_data]    |     /home/bala/nltk_data...\n",
      "[nltk_data]    |   Package wordnet is already up-to-date!\n",
      "[nltk_data]    | Downloading package wordnet2021 to\n",
      "[nltk_data]    |     /home/bala/nltk_data...\n",
      "[nltk_data]    |   Package wordnet2021 is already up-to-date!\n",
      "[nltk_data]    | Downloading package wordnet31 to\n",
      "[nltk_data]    |     /home/bala/nltk_data...\n",
      "[nltk_data]    |   Package wordnet31 is already up-to-date!\n",
      "[nltk_data]    | Downloading package wordnet_ic to\n",
      "[nltk_data]    |     /home/bala/nltk_data...\n",
      "[nltk_data]    |   Package wordnet_ic is already up-to-date!\n",
      "[nltk_data]    | Downloading package words to /home/bala/nltk_data...\n",
      "[nltk_data]    |   Package words is already up-to-date!\n",
      "[nltk_data]    | Downloading package maxent_ne_chunker to\n",
      "[nltk_data]    |     /home/bala/nltk_data...\n",
      "[nltk_data]    |   Package maxent_ne_chunker is already up-to-date!\n",
      "[nltk_data]    | Downloading package punkt to /home/bala/nltk_data...\n",
      "[nltk_data]    |   Package punkt is already up-to-date!\n",
      "[nltk_data]    | Downloading package snowball_data to\n",
      "[nltk_data]    |     /home/bala/nltk_data...\n",
      "[nltk_data]    |   Package snowball_data is already up-to-date!\n",
      "[nltk_data]    | Downloading package averaged_perceptron_tagger to\n",
      "[nltk_data]    |     /home/bala/nltk_data...\n",
      "[nltk_data]    |   Package averaged_perceptron_tagger is already up-\n",
      "[nltk_data]    |       to-date!\n",
      "[nltk_data]    | \n",
      "[nltk_data]  Done downloading collection popular\n",
      "[nltk_data] Downloading package punkt_tab to /home/bala/nltk_data...\n",
      "[nltk_data]   Package punkt_tab is already up-to-date!\n",
      "[nltk_data] Downloading package averaged_perceptron_tagger_eng to\n",
      "[nltk_data]     /home/bala/nltk_data...\n",
      "[nltk_data]   Package averaged_perceptron_tagger_eng is already up-to-\n",
      "[nltk_data]       date!\n",
      "[nltk_data] Downloading package maxent_ne_chunker_tab to\n",
      "[nltk_data]     /home/bala/nltk_data...\n",
      "[nltk_data]   Package maxent_ne_chunker_tab is already up-to-date!\n",
      "[nltk_data] Downloading package words to /home/bala/nltk_data...\n",
      "[nltk_data]   Package words is already up-to-date!\n",
      "[nltk_data] Downloading package stopwords to /home/bala/nltk_data...\n",
      "[nltk_data]   Package stopwords is already up-to-date!\n"
     ]
    },
    {
     "name": "stdout",
     "output_type": "stream",
     "text": [
      "25\n",
      "25\n"
     ]
    }
   ],
   "source": [
    "nltk.download('popular')\n",
    "nltk.download('punkt_tab')\n",
    "nltk.download('averaged_perceptron_tagger_eng')\n",
    "nltk.download ('maxent_ne_chunker_tab')\n",
    "nltk.download('words')\n",
    "nltk.download('stopwords')\n",
    "english_stopwords = set(stopwords.words('english'))\n",
    "\n",
    "\n",
    "def convert_to_bio(sent):\n",
    "    tkns = word_tokenize(sent)\n",
    "    pos_tags = pos_tag(tkns)\n",
    "    named_entities = ne_chunk(pos_tags)\n",
    "\n",
    "    BIO_tags = []\n",
    "    for entity in named_entities:\n",
    "        if isinstance(entity, Tree):\n",
    "            entity_label = entity.label()\n",
    "            for i, (token, pos) in enumerate(entity.leaves()):\n",
    "                if i == 0:\n",
    "                    BIO_tags.append((token, f\"B-{entity_label}\"))\n",
    "                else:\n",
    "                    BIO_tags.append((token, f\"I-{entity_label}\"))\n",
    "        else:\n",
    "            token, po = entity\n",
    "            BIO_tags.append((token, \"O\"))\n",
    "    return BIO_tags\n",
    "\n",
    "\n",
    "sample_df.reset_index()\n",
    "\n",
    "def create_first_pass_annotation(file_name, num, start_idx):\n",
    "    sent_list = []\n",
    "    for i in range(num):\n",
    "        sent_list.append(str(convert_to_bio(sample_df.iloc[start_idx + i]['transcription'])))\n",
    "\n",
    "    print(len(sent_list))\n",
    "    with open(file_name, \"w\") as file:\n",
    "        for i in range(len(sent_list)):\n",
    "            file.write(sent_list[i] + '\\n')\n",
    "\n",
    "create_first_pass_annotation(\"nltk_tagging_train_file.txt\", 25, 0)\n",
    "create_first_pass_annotation(\"nltk_tagging_test_file.txt\", 25, 100)"
   ]
  },
  {
   "cell_type": "code",
   "execution_count": 12,
   "id": "3ac6d8c3",
   "metadata": {},
   "outputs": [],
   "source": [
    "transcripts_as_sentences_df = pd.DataFrame(columns=['sentence', 'annotated_sentence'])\n",
    "\n",
    "def convert_transcripts_to_sentences(paragraph, df):\n",
    "    sentences = sent_tokenize(paragraph)\n",
    "    tmp_df = pd.DataFrame(sentences, columns=['sentence'])\n",
    "    tmp_df['annotated_sentence'] = ''\n",
    "    df = pd.concat([df, tmp_df])\n",
    "    return df\n",
    "\n",
    "for i in range(100):\n",
    "    transcripts_as_sentences_df = convert_transcripts_to_sentences(sample_df.iloc[i]['transcription'], transcripts_as_sentences_df)\n",
    "\n",
    "\n",
    "train_size = int(0.67 * len(transcripts_as_sentences_df))\n",
    "transcripts_as_sentences_test_df = transcripts_as_sentences_df.iloc[train_size:, :]\n",
    "transcripts_as_sentences_train_df = transcripts_as_sentences_df.iloc[:train_size, :]\n"
   ]
  },
  {
   "cell_type": "code",
   "execution_count": 48,
   "id": "80b4986b",
   "metadata": {},
   "outputs": [],
   "source": [
    "word_count_df = pd.DataFrame(columns=['transcription', 'word_counts'])\n",
    "\n",
    "for idx, row in sample_df.iterrows():\n",
    "    transcript = row['transcription']\n",
    "    temp_df = pd.DataFrame({'transcription': [row['transcription']], 'word_counts': [len(word_tokenize(row['transcription']))]})\n",
    "    # print(len(word_tokenize(row['transcription'])))\n",
    "    # temp_df['sent_counts'] = len(word_tokenize(row['transcription']))\n",
    "    word_count_df = pd.concat([word_count_df, temp_df])\n"
   ]
  },
  {
   "cell_type": "code",
   "execution_count": 54,
   "id": "25f4cb0a",
   "metadata": {},
   "outputs": [
    {
     "name": "stdout",
     "output_type": "stream",
     "text": [
      "Average Word Count across transcripts: 479.668034889687\n",
      "Min Word Count across transcripts: 3\n",
      "Max Word Count across transcripts: 2222\n"
     ]
    }
   ],
   "source": [
    "\n",
    "print(f\"Average Word Count across transcripts: {word_count_df['word_counts'].mean()}\")\n",
    "print(f\"Min Word Count across transcripts: {word_count_df['word_counts'].min()}\")\n",
    "print(f\"Max Word Count across transcripts: {word_count_df['word_counts'].max()}\")\n"
   ]
  },
  {
   "cell_type": "markdown",
   "id": "6f1505de",
   "metadata": {},
   "source": [
    "### Chat GPT approach for annotation\n",
    "While the above approach is useful for manual annotation, annotating the data set manually was identified as being extemely laborious. Instead, a simpler approach of generating the first pass annotation with the help of an LLM, ChatGPT / OpenAI in this case, resulted in a much quicker turnaround. The below section identifies the code to query the same automatically. The call to this is however commented to limit the number of queries to OpenAI."
   ]
  },
  {
   "cell_type": "code",
   "execution_count": null,
   "id": "7f5ce33f",
   "metadata": {},
   "outputs": [],
   "source": [
    "from openai import OpenAI\n",
    "# client = OpenAI() # Add your credentials here\n",
    "\n",
    "def query_openai(file_name, df):\n",
    "    labeled_list = []\n",
    "    sent_list = []\n",
    "    for i in range(len(df)):\n",
    "        response = client.chat.completions.create(\n",
    "            model=\"gpt-3.5-turbo\",  # Or other models like gpt-4o, gpt-4\n",
    "            messages=[\n",
    "                {\"role\": \"system\", \"content\": \"\"\"You are an annotation agent for medical transcriptions who will label entities following the BIO (Begin, Inside, Outside) scheme with the additional customization of:\n",
    "                            1. Affected Part (AP) - hence labels such as B-AP or I-AP.\n",
    "                            2. Symptom (SYM)-  hence labels such as B-SYM or I-SYM.\n",
    "                            3. Condition (COND) - hence labels such as B-COND or I-COND.\n",
    "                            4. Procedure (PROC) - hence labels such as B-PROC or I-PROC.0\n",
    "                            5. Medication (MED) - hence labels such as B-MED or I-MED.\n",
    "                            6. Tool (TOOL) - hence labels such as B-TOOL or I-TOOL.\n",
    "                            Also, in the transcript, do not split words during tokenization.\n",
    "                            Provide the output as a string in a single line with the following format:\n",
    "                            [(\"Token\", \"label\"), (\"Token, \"label\")]. Verify that the labels are of the form B-AP, I-AP, etc.\n",
    "                            Do not truncate the output as this will be used for modeling inputs.\"\"\"},\n",
    "                {\"role\": \"user\", \"content\": \"Generate annotations for the following transcript: \" + df.iloc[i, 0]}\n",
    "            ]\n",
    "        )\n",
    "        df.iloc[i,1] = response.choices[0].message.content   \n",
    "    df.to_excel(file_name)\n",
    "\n",
    "\n",
    "# query_openai(\"dataset/train.xlsx\", transcripts_as_sentences_train_df)\n",
    "# query_openai(\"dataset/test.xlsx\", transcripts_as_sentences_test_df)\n",
    "    "
   ]
  },
  {
   "cell_type": "code",
   "execution_count": null,
   "id": "9d7c3f2d",
   "metadata": {},
   "outputs": [],
   "source": []
  },
  {
   "cell_type": "code",
   "execution_count": null,
   "id": "3df5677c",
   "metadata": {},
   "outputs": [
    {
     "name": "stdout",
     "output_type": "stream",
     "text": [
      "['Unnamed: 0', 'sentence', 'annotated_sentence']\n",
      "Unnamed: 0                                                            0\n",
      "sentence              SUBJECTIVE:,  This 23-year-old white female pr...\n",
      "annotated_sentence    [(\"SUBJECTIVE\", \"O\"), (\":\", \"O\"), (\",\", \"O\"), ...\n",
      "Name: 0, dtype: object\n",
      "['Unnamed: 0', 'sentence', 'annotated_sentence']\n",
      "Unnamed: 0                                                            0\n",
      "sentence              SUBJECTIVE:,  This 23-year-old white female pr...\n",
      "annotated_sentence    [(\"SUBJECTIVE\", \"O\"), (\":\", \"O\"), (\",\", \"O\"), ...\n",
      "Name: 0, dtype: object\n"
     ]
    }
   ],
   "source": [
    "\n",
    "train_df = pd.read_excel('dataset/train.xlsx').dropna()\n",
    "train_df_NER = train_df['annotated_sentence']\n",
    "print(train_df.columns.tolist())\n",
    "print(train_df.loc[0])\n",
    "\n",
    "test_df = pd.read_excel('dataset/test.xlsx').dropna()\n",
    "test_df_NER = test_df['annotated_sentence']\n",
    "print(train_df.columns.tolist())\n",
    "print(train_df.loc[0])\n",
    "\n"
   ]
  },
  {
   "cell_type": "code",
   "execution_count": 10,
   "id": "11561e5c",
   "metadata": {},
   "outputs": [
    {
     "data": {
      "text/plain": [
       "<ExecutionResult object at 7f47b413c950, execution_count=None error_before_exec=None error_in_exec=None info=<ExecutionInfo object at 7f47b413e4b0, raw_cell=\"\n",
       "import spacy\n",
       "from spacy.lang.en import English\n",
       "im..\" transformed_cell=\"import spacy\n",
       "from spacy.lang.en import English\n",
       "imp..\" store_history=False silent=False shell_futures=True cell_id=None> result=None>"
      ]
     },
     "execution_count": 10,
     "metadata": {},
     "output_type": "execute_result"
    }
   ],
   "source": [
    "%%skip_if skip_spacy_model\n",
    "\n",
    "import spacy\n",
    "from spacy.lang.en import English\n",
    "import en_core_web_lg\n",
    "model = \"en_core_web_lg\""
   ]
  },
  {
   "cell_type": "markdown",
   "id": "270bec73",
   "metadata": {},
   "source": [
    "For named entity recognition, it is important to have annotated dataset. However, from the dataset output above, while we have the inputs and outputs clearly defined, we do not have an annotated dataset for training the model!\n",
    "\n",
    "* Inputs: Transcription\n",
    "* Outputs: List of NERs\n",
    "* Labels/Tags of NERs in the dataset.\n",
    "\n",
    "We do this annotation using ChatGPT for a small set of the transcripts. The labels used for NER are as below.\n"
   ]
  },
  {
   "cell_type": "markdown",
   "id": "4be12cea",
   "metadata": {},
   "source": [
    "## Using annotated dataset created using ChatGPT\n",
    "An annotated dataset was created using ChatGPT. These are available in train.xlsx and test.xlsx respectively with the annotations in the form of a comma separated list."
   ]
  },
  {
   "cell_type": "code",
   "execution_count": null,
   "id": "3554f559",
   "metadata": {},
   "outputs": [
    {
     "name": "stdout",
     "output_type": "stream",
     "text": [
      "Training Set\n",
      "['Unnamed: 0', 'sentence', 'annotated_sentence']\n",
      "\n",
      "\n",
      "Testing Set\n",
      "['Unnamed: 0', 'sentence', 'annotated_sentence']\n"
     ]
    }
   ],
   "source": [
    "\n",
    "train_df = pd.read_excel('dataset/train.xlsx').dropna()\n",
    "train_df_NER = train_df['annotated_sentence']\n",
    "\n",
    "\n",
    "test_df = pd.read_excel('dataset/test.xlsx').dropna()\n",
    "test_df_NER = test_df['annotated_sentence']\n",
    "\n",
    "label_list = ['O', 'B-AP', 'I-AP', 'B-SYM', 'I-SYM','B-COND', 'I-COND', 'B-PROC', 'I-PROC', 'B-MED', 'I-MED', 'B-TOOL', 'I-TOOL']\n",
    "\n",
    "print(\"Training Set\")\n",
    "print(train_df.columns.tolist())\n",
    "# print(train_df.loc[0])\n",
    "print(\"\\n\\nTesting Set\")\n",
    "print(test_df.columns.tolist())\n",
    "# print(test_df.loc[0])\n",
    "\n"
   ]
  },
  {
   "cell_type": "markdown",
   "id": "63c24e95",
   "metadata": {},
   "source": [
    "# Spacy based Model for NER\n",
    "Spacy is a popular NLP library with easy-to-use API with easy extensibility."
   ]
  },
  {
   "cell_type": "markdown",
   "id": "c82d88d3",
   "metadata": {},
   "source": [
    "## Conversion of annotated data for use by the Spacy Model\n",
    "\n",
    "Spacy expects BIO tagged information to be provided it in the form of:\n",
    "* Sentence\n",
    "* NER Token type with start and end index of the specific word that needs to be learnt.\n",
    "For example, the following sentence:\n",
    "\n",
    "    ***Tooth was removed in several pieces followed by the removal of the remnants of the follicle.***\n",
    "\n",
    "MUST have annotations of the form:\n",
    "\n",
    "        {'entities': [(0, 5, 'B-AP'), (83, 91, 'B-AP')]}\n",
    "        where (0, 5, 'B-AP') represents tooth\n",
    "        and (83,91, 'B-AP') represents follicle.\n"
   ]
  },
  {
   "cell_type": "code",
   "execution_count": 16,
   "id": "05f54d31",
   "metadata": {},
   "outputs": [
    {
     "name": "stdout",
     "output_type": "stream",
     "text": [
      "Tooth was removed in several pieces followed by the removal of the remnants of the follicle. \n",
      "\t {'entities': [(0, 5, 'B-AP'), (83, 91, 'B-AP')]}\n"
     ]
    },
    {
     "data": {
      "text/plain": [
       "<ExecutionResult object at 7f47b09984d0, execution_count=None error_before_exec=None error_in_exec=None info=<ExecutionInfo object at 7f47a2813170, raw_cell=\"\n",
       "def build_next_entity(split_string, last_idx, wor..\" transformed_cell=\"def build_next_entity(split_string, last_idx, word..\" store_history=False silent=False shell_futures=True cell_id=None> result=None>"
      ]
     },
     "execution_count": 16,
     "metadata": {},
     "output_type": "execute_result"
    }
   ],
   "source": [
    "%%skip_if skip_spacy_model\n",
    "    \n",
    "def build_next_entity(split_string, last_idx, word_to_find, label):\n",
    "    start_index = split_string.find(word_to_find)\n",
    "    # print(f\"\\t\\tFound--- {word_to_find} --- start index: {start_index} length: {len(word_to_find)} prev idx: {last_idx}\")\n",
    "    entity = []\n",
    "    word_end_idx = last_idx\n",
    "    chars_to_remove = 0\n",
    "    # Calculate the ending index (exclusive) and create the entity\n",
    "\n",
    "    if start_index != -1:  # Check if the word was found\n",
    "        word_start_idx = last_idx + start_index\n",
    "        word_end_idx = word_start_idx + len(word_to_find)\n",
    "        chars_to_remove = start_index + len(word_to_find)\n",
    "        entity.append(word_start_idx)\n",
    "        entity.append(word_end_idx)\n",
    "        entity.append(label)\n",
    "   \n",
    "    if label == 'O':\n",
    "        entity = []\n",
    "\n",
    "    #Remove the word from the string for next iteration\n",
    "    split_string = split_string[chars_to_remove:]\n",
    "\n",
    "    return split_string, entity, word_end_idx\n",
    "\n",
    "def create_spacy_style_entities(input_sentence, annotated_sentence):\n",
    "    split_string = input_sentence\n",
    "    last_idx = 0\n",
    "    ent_dict = {}\n",
    "    entities = []\n",
    "\n",
    "    matches = re.findall(r\"\\((.*?)\\)\" , annotated_sentence)\n",
    "    for match in matches:\n",
    "        ner_token_pair = re.findall(r'\\\"(.*?)\\\"', match)\n",
    "        if (len(ner_token_pair) == 0):\n",
    "            ner_token_pair = re.findall(r'\\'(.*?)\\'', match)\n",
    "\n",
    "        if (len(ner_token_pair) == 0):\n",
    "            continue\n",
    "\n",
    "        word = ner_token_pair[0]\n",
    "\n",
    "        try:\n",
    "            if ner_token_pair[1] not in label2id:\n",
    "                index = 0\n",
    "                label = 'O'\n",
    "            else:\n",
    "                index = label2id[ner_token_pair[1]]\n",
    "                label = ner_token_pair[1]\n",
    "        except ValueError:\n",
    "            index = 0\n",
    "            label = 'O'\n",
    "\n",
    "        # print(f\"Before build entity: {split_string} with next index = {last_idx}\")\n",
    "        split_string, entity, last_idx = build_next_entity(split_string, last_idx, word, label)\n",
    "        # print(f\"post build entity: {split_string} with next index = {last_idx}\")\n",
    "        if len(entity):\n",
    "            entities.append(tuple(entity))\n",
    "    ent_dict['entities'] = entities\n",
    "    return ent_dict\n",
    "\n",
    "sample_input = \"Tooth was removed in several pieces followed by the removal of the remnants of the follicle.\" \n",
    "sample_annot_str = \"[(\\\"Tooth\\\", \\\"B-AP\\\"), (\\\"was\\\", \\\"O\\\"), (\\\"removed\\\", \\\"O\\\"), (\\\"in\\\", \\\"O\\\"), (\\\"several\\\", \\\"O\\\"), (\\\"pieces\\\", \\\"O\\\"), (\\\"followed\\\", \\\"O\\\"), (\\\"by\\\", \\\"O\\\"), (\\\"the\\\", \\\"O\\\"), (\\\"removal\\\", \\\"O\\\"), (\\\"of\\\", \\\"O\\\"), (\\\"the\\\", \\\"O\\\"), (\\\"remnants\\\", \\\"O\\\"), (\\\"of\\\", \\\"O\\\"), (\\\"the\\\", \\\"O\\\"), (\\\"follicle\\\", \\\"B-AP\\\"), (\\\".\\\", \\\"O\\\")]\"\n",
    "entities = create_spacy_style_entities(sample_input, sample_annot_str)\n",
    "print(sample_input, \"\\n\\t\", entities)\n",
    "\n",
    "def create_list_data(df):\n",
    "    ip_list = []\n",
    "    for idx, row in df.iterrows():\n",
    "            ip_element = []\n",
    "            ip_dict = {}\n",
    "            ip_element.append(row['sentence'])\n",
    "            split_string = row['sentence']\n",
    "            entities = {}\n",
    "            entities = create_spacy_style_entities(row['sentence'], row['annotated_sentence'])\n",
    "            ip_element.append(entities)\n",
    "            ip_list.append(ip_element)\n",
    "    return ip_list\n",
    "\n",
    "\n",
    "train_list_for_spacy = create_list_data(train_df)\n",
    "test_list_for_spacy = create_list_data(test_df)\n"
   ]
  },
  {
   "cell_type": "markdown",
   "id": "b177a324",
   "metadata": {},
   "source": [
    "### Training\n",
    "Training the Spacy Model involves ensuring any tags identified in the previous step are aligned with the Spacy tokenization engine. So there was some reiterations between the previous step of converting annotated data and this step.\n",
    "Once the alignment errors were fixed, training of the model was done over 75 epochs, where the loss rate significantly reduced and settled to around 12%. For this model, the default learning rate of 0.001 was used. Also the default stochastic gradient descent (SGD) optimizer was used. In addition, a dropout rate of 5% is used during training to avoid overfit.\n",
    "Another significant point worthy of note is that the model was started with a \"blank\" model based on the English language. A future optimization could be to start from Spacy's pretrained large corpus."
   ]
  },
  {
   "cell_type": "code",
   "execution_count": 24,
   "id": "1a485b0b",
   "metadata": {},
   "outputs": [
    {
     "name": "stdout",
     "output_type": "stream",
     "text": [
      "Create blank 'en' model\n",
      "Epoch 0: Loss: 93.23101177553968\n",
      "Epoch 1: Loss: 74.92132892040026\n",
      "Epoch 2: Loss: 66.23184210339548\n",
      "Epoch 3: Loss: 60.64705807575135\n",
      "Epoch 4: Loss: 56.11306328443912\n",
      "Epoch 5: Loss: 53.7980497930908\n",
      "Epoch 6: Loss: 49.86719651476986\n",
      "Epoch 7: Loss: 46.41182486550834\n",
      "Epoch 8: Loss: 43.58733858657035\n",
      "Epoch 9: Loss: 41.84670017308337\n",
      "Epoch 10: Loss: 39.308899382912315\n",
      "Epoch 11: Loss: 37.9338117688822\n",
      "Epoch 12: Loss: 35.61529403802766\n",
      "Epoch 13: Loss: 34.8165126419497\n",
      "Epoch 14: Loss: 32.39334982410746\n",
      "Epoch 15: Loss: 31.295499569517457\n",
      "Epoch 16: Loss: 30.41211793554853\n",
      "Epoch 17: Loss: 29.493821038542315\n",
      "Epoch 18: Loss: 28.606496705339577\n",
      "Epoch 19: Loss: 27.098424201638228\n",
      "Epoch 20: Loss: 26.407455234695085\n",
      "Epoch 21: Loss: 24.679661846040744\n",
      "Epoch 22: Loss: 25.39861311389809\n",
      "Epoch 23: Loss: 24.72909305646691\n",
      "Epoch 24: Loss: 23.546330953228548\n",
      "Epoch 25: Loss: 22.463131669890814\n",
      "Epoch 26: Loss: 22.431102204778455\n",
      "Epoch 27: Loss: 22.43616184182413\n",
      "Epoch 28: Loss: 22.420023190313028\n",
      "Epoch 29: Loss: 20.244880179528604\n",
      "Epoch 30: Loss: 20.089498737406807\n",
      "Epoch 31: Loss: 20.187943632291844\n",
      "Epoch 32: Loss: 19.994961248764447\n",
      "Epoch 33: Loss: 19.486962413084967\n",
      "Epoch 34: Loss: 19.17004293447705\n",
      "Epoch 35: Loss: 18.85912435729632\n",
      "Epoch 36: Loss: 18.6628060465546\n",
      "Epoch 37: Loss: 19.31059762677463\n",
      "Epoch 38: Loss: 17.639144187333837\n",
      "Epoch 39: Loss: 17.426099496797335\n",
      "Epoch 40: Loss: 18.30762516866998\n",
      "Epoch 41: Loss: 17.2594145920579\n",
      "Epoch 42: Loss: 18.722126748229865\n",
      "Epoch 43: Loss: 16.462580713990693\n",
      "Epoch 44: Loss: 16.49297135506581\n",
      "Epoch 45: Loss: 16.68345572802812\n",
      "Epoch 46: Loss: 16.023386742646686\n",
      "Epoch 47: Loss: 16.33823183363727\n",
      "Epoch 48: Loss: 15.410172690507627\n",
      "Epoch 49: Loss: 15.416726275511499\n",
      "Epoch 50: Loss: 14.714390410446626\n",
      "Epoch 51: Loss: 14.825924744732422\n",
      "Epoch 52: Loss: 15.721582646547182\n",
      "Epoch 53: Loss: 14.258584506216142\n",
      "Epoch 54: Loss: 14.482606071999856\n",
      "Epoch 55: Loss: 14.298011343913561\n",
      "Epoch 56: Loss: 14.264478160555136\n",
      "Epoch 57: Loss: 14.649195407025395\n",
      "Epoch 58: Loss: 13.490647746441228\n",
      "Epoch 59: Loss: 14.513295917119033\n",
      "Epoch 60: Loss: 14.740135573072717\n",
      "Epoch 61: Loss: 13.595784906518423\n",
      "Epoch 62: Loss: 14.84574469418022\n",
      "Epoch 63: Loss: 13.432690884439108\n",
      "Epoch 64: Loss: 13.458906394159383\n",
      "Epoch 65: Loss: 13.387601099299768\n",
      "Epoch 66: Loss: 12.247045728887567\n",
      "Epoch 67: Loss: 13.061494112039716\n",
      "Epoch 68: Loss: 13.07773005979433\n",
      "Epoch 69: Loss: 12.857893401179645\n",
      "Epoch 70: Loss: 12.762049876201326\n",
      "Epoch 71: Loss: 12.984791161046246\n",
      "Epoch 72: Loss: 12.250314417390713\n",
      "Epoch 73: Loss: 12.481026299360133\n",
      "Epoch 74: Loss: 13.184083173874944\n",
      "Some rows were misaligned. Ave: 23.0 out of 1612 rows\n",
      "\n",
      "\n",
      "Sample Test:\n",
      "\tEntities in The abdomen was then prepped and draped in standard sterile surgical fashion.\n",
      "\t\tabdomen \t:\t B-AP\n",
      "\t\tprepped \t:\t B-PROC\n",
      "\tEntities in Moist wound towels and a Bookwalter retractor were placed for exposure.\n",
      "\t\tMoist \t:\t B-TOOL\n",
      "\t\twound \t:\t I-TOOL\n",
      "\t\ttowels \t:\t I-TOOL\n",
      "\t\tBookwalter \t:\t B-TOOL\n",
      "\t\tretractor \t:\t I-TOOL\n",
      "\tEntities in Cystoscopy in the office demonstrated a 2.5- to 3-cm left lateral wall bladder tumor.\n",
      "\t\tCystoscopy \t:\t B-PROC\n",
      "\t\tleft \t:\t B-AP\n",
      "\t\tlateral \t:\t I-AP\n",
      "\t\twall \t:\t I-AP\n",
      "\t\tbladder \t:\t I-AP\n",
      "\t\ttumor \t:\t B-COND\n",
      "\tEntities in The patient has attended our bariatric seminar and met with our dietician and psychologist.\n",
      "\t\tbariatric \t:\t B-AP\n",
      "\t\tseminar \t:\t I-AP\n",
      "\t\tdietician \t:\t B-PROC\n",
      "\t\tpsychologist \t:\t B-PROC\n",
      "\tEntities in Sequentially, each major calyx was inspected under direct vision and irrigated.\n",
      "\t\tcalyx \t:\t B-AP\n",
      "\tEntities in Blood group was A, Rh positive, Hemoglobin 13, Hematocrit 32.1, Prothrombin time 12.6 seconds, PTT 37.1.\n",
      "\t\tA \t:\t B-AP\n",
      "\t\tHemoglobin \t:\t B-AP\n",
      "\t\t13 \t:\t I-AP\n",
      "\t\tHematocrit \t:\t B-AP\n",
      "\t\t32.1 \t:\t I-AP\n",
      "\t\tProthrombin \t:\t B-PROC\n",
      "\t\ttime \t:\t I-PROC\n",
      "\t\t12.6 \t:\t B-AP\n",
      "\t\tPTT \t:\t B-PROC\n",
      "\t\t37.1 \t:\t B-AP\n",
      "\tEntities in Left spermatocele.,2.\n",
      "\t\tLeft \t:\t B-AP\n",
      "\t\tspermatocele \t:\t I-AP\n",
      "\tEntities in There was no apparent testicular tissue.\n",
      "\t\ttesticular \t:\t B-AP\n",
      "\t\ttissue \t:\t I-AP\n",
      "\tEntities in We have reviewed with her any potential other issues and I have answered her questions.\n",
      "\tEntities in The patient was intubated and it was felt that she should be observed to see if the airway would improve upon which she could be extubated.\n",
      "\t\tintubated \t:\t B-PROC\n",
      "\t\tairway \t:\t B-AP\n",
      "\t\textubated \t:\t B-PROC\n"
     ]
    },
    {
     "data": {
      "text/plain": [
       "<ExecutionResult object at 7f479ff86270, execution_count=None error_before_exec=None error_in_exec=None info=<ExecutionInfo object at 7f479ff84950, raw_cell=\"from spacy.training.example import Example\n",
       "from sp..\" transformed_cell=\"from spacy.training.example import Example\n",
       "from sp..\" store_history=False silent=False shell_futures=True cell_id=None> result=None>"
      ]
     },
     "execution_count": 24,
     "metadata": {},
     "output_type": "execute_result"
    }
   ],
   "source": [
    "%%skip_if skip_spacy_model\n",
    "from spacy.training.example import Example\n",
    "from spacy.util import minibatch, compounding\n",
    "from spacy.lookups import Lookups\n",
    "import random\n",
    "import warnings\n",
    "\n",
    "def check_misaligned_tags(raw_text, entity_offsets, misaligned_input_count):\n",
    "    biluo_tags = spacy.training.offsets_to_biluo_tags(nlp_med.make_doc(raw_text), entity_offsets['entities'])\n",
    "    if '-' in biluo_tags:\n",
    "        misaligned_input_count +=1\n",
    "    return misaligned_input_count\n",
    "\n",
    "print(\"Create blank 'en' model\")\n",
    "nlp_med = spacy.blank(\"en\")\n",
    "reset_flags = False\n",
    "\n",
    "# Add entity recognizer to model if it's not in the pipeline\n",
    "if \"ner\" not in nlp_med.pipe_names:\n",
    "    ner_med = nlp_med.add_pipe(\"ner\")\n",
    "    reset_flags = True\n",
    "else: # otherwise, get it, so we can add labels to it\n",
    "    ner_med = nlp_med.get_pipe(\"ner\")\n",
    "\n",
    "for label in label_list:\n",
    "    if label == 'O':\n",
    "        continue\n",
    "    ner_med.add_label(label)\n",
    "\n",
    "optimizer = nlp_med.begin_training()\n",
    "move_names = list(ner_med.move_names)\n",
    "\n",
    "# get names of other pipes to disable them during training\n",
    "pipe_exceptions = [\"ner\", \"trf_wordpiecer\", \"trf_tok2vec\"]\n",
    "other_pipes = [pipe for pipe in nlp_med.pipe_names if pipe not in pipe_exceptions]\n",
    "\n",
    "num_epochs = 75\n",
    "loss_over_epochs = []\n",
    "with nlp_med.disable_pipes(*other_pipes), warnings.catch_warnings():\n",
    "    #Ignore warning - we will catch them via misaligned input counts.\n",
    "    warnings.filterwarnings(\"ignore\", category=UserWarning, module='spacy')\n",
    "    sizes=compounding(1.0, 4.0, 1.001)\n",
    "    misaligned_input_count = 0\n",
    "\n",
    "    for epoch in range(num_epochs):\n",
    "        random.shuffle(train_list_for_spacy)\n",
    "        losses = {}\n",
    "        batches = minibatch(train_list_for_spacy, size=sizes)\n",
    "        for batch in batches:\n",
    "            for raw_text, entity_offsets in batch:\n",
    "                doc = nlp_med.make_doc(raw_text)\n",
    "                misaligned_input_count = check_misaligned_tags(raw_text, entity_offsets, misaligned_input_count)            \n",
    "                example = Example.from_dict(doc, entity_offsets)\n",
    "                nlp_med.update([example], sgd=optimizer, drop=0.05, losses=losses)\n",
    "        loss_over_epochs.append(losses)\n",
    "        print(f\"Epoch {epoch}: Loss: {losses['ner']/100}\")\n",
    "    if (misaligned_input_count > 0):\n",
    "        print(f\"Some rows were misaligned. Ave: {misaligned_input_count/num_epochs} out of {len(train_list_for_spacy)} rows\")\n",
    "\n",
    "print(\"\\n\\nSample Test:\")\n",
    "count = 0\n",
    "for text, _ in train_list_for_spacy:\n",
    "    if count > 9:\n",
    "        continue\n",
    "    count = count + 1\n",
    "    doc = nlp_med(text)\n",
    "    print(f\"\\tEntities in {text}\")\n",
    "    for ent in doc.ents:\n",
    "        print(f\"\\t\\t{ent.text} \\t:\\t {ent.label_}\")\n",
    "\n",
    "nlp_med.to_disk('spacy_ner_v1.0')"
   ]
  },
  {
   "cell_type": "markdown",
   "id": "a0058ae5",
   "metadata": {},
   "source": [
    "#### Loss Rate for NER Training using Spacy\n",
    "Based on loss information collected over 75 epochs, we can see that the loss rate continually decreases, and then settles around 10%. After 75 epochs, to avoid overfitting, we stop the training as it does not change significantly.\n"
   ]
  },
  {
   "cell_type": "code",
   "execution_count": 21,
   "id": "822ca1df",
   "metadata": {},
   "outputs": [
    {
     "data": {
      "image/png": "[encoded data removed]",
      "text/plain": [
       "<Figure size 640x480 with 1 Axes>"
      ]
     },
     "metadata": {},
     "output_type": "display_data"
    }
   ],
   "source": [
    "# plt.plot(loss_over_epochs)\n",
    "loss = []\n",
    "for i in range(len(loss_over_epochs)):\n",
    "    loss.append(loss_over_epochs[i]['ner'] / 100)\n",
    "\n",
    "plt.plot(loss)\n",
    "plt.xlabel('Epochs')\n",
    "plt.ylabel('Loss %')\n",
    "plt.show()"
   ]
  },
  {
   "cell_type": "code",
   "execution_count": 22,
   "id": "0247cc82",
   "metadata": {},
   "outputs": [
    {
     "name": "stdout",
     "output_type": "stream",
     "text": [
      "HISTORY:,  A 55-year-old female presents self-referred for the possibility of evaluation and treatment of allergies, diminished taste, xerostomia, gastroesophageal reflux disease, possible food allergies, chronic GI irritability, asthma, and environmental inhalant allergies.\n",
      "[('55-year-old', 'B-TOOL'), ('allergies', 'B-COND'), ('diminished', 'B-SYM'), ('taste', 'I-SYM'), ('gastroesophageal', 'B-COND'), ('reflux', 'I-COND'), ('disease', 'I-COND'), ('food', 'B-AP'), ('allergies', 'I-AP'), ('irritability', 'I-AP'), ('asthma', 'B-COND')]\n"
     ]
    },
    {
     "data": {
      "text/plain": [
       "<ExecutionResult object at 7f47a1e16390, execution_count=None error_before_exec=None error_in_exec=None info=<ExecutionInfo object at 7f47a1e160f0, raw_cell=\"nlp_updated = spacy.load(\"spacy_ner_v1.0\")\n",
       "text = ..\" transformed_cell=\"nlp_updated = spacy.load(\"spacy_ner_v1.0\")\n",
       "text = ..\" store_history=False silent=False shell_futures=True cell_id=None> result=None>"
      ]
     },
     "execution_count": 22,
     "metadata": {},
     "output_type": "execute_result"
    }
   ],
   "source": [
    "%%skip_if skip_spacy_model\n",
    "nlp_updated = spacy.load(\"spacy_ner_v1.0\")\n",
    "text = \"HISTORY:,  A 55-year-old female presents self-referred for the possibility of evaluation and treatment of allergies, diminished taste, xerostomia, gastroesophageal reflux disease, possible food allergies, chronic GI irritability, asthma, and environmental inhalant allergies.\"\n",
    "doc = nlp_updated(text)\n",
    "print(doc)\n",
    "print([(ent.text, ent.label_) for ent in doc.ents])\n"
   ]
  },
  {
   "cell_type": "markdown",
   "id": "efbf497f",
   "metadata": {},
   "source": [
    "### Metrics - SPACY model\n",
    "Typical metrics for classification tasks are Confusion Matrices which measure the accuracy, error and F1 score of a model. Traditionally, these measures are taken as a \"complete\" comparison of the entire prediction w.r.t the original input. However, it should be noted that in the case of NER, the model's accuracy can be better measured by comparing the prediction of individual tokens rather than the map as a whole.\n",
    "To account for this, a custom metric measurement function was creatd per below. This metric function compares each token predicted against the original value to determine if it is:\n",
    "* True Positive: If predicted tag == original tag.\n",
    "* False Positive: If predicted tag is a valid label that is not the \"Outside\" label even if the original label was an \"Outside\" label.\n",
    "* True Negative: If predicted tag != original tag and original tag is not \"Outside\" label.\n",
    "* False Negative: If predicted tag is a non-outside label, and the original label was marked as \"Outside\".\n"
   ]
  },
  {
   "cell_type": "code",
   "execution_count": null,
   "id": "ca55e62d",
   "metadata": {},
   "outputs": [],
   "source": [
    "\n",
    "\n",
    "def init_metric_dict(metric_dict):\n",
    "    metric_dict['tp'] = 0\n",
    "    metric_dict['fp'] = 0\n",
    "    metric_dict['fn'] = 0\n",
    "    metric_dict['tn'] = 0\n",
    "    return metric_dict\n"
   ]
  },
  {
   "cell_type": "code",
   "execution_count": 200,
   "id": "a6f2ba23",
   "metadata": {},
   "outputs": [],
   "source": [
    "def string_to_list_of_tuples(input_string):\n",
    "  try:\n",
    "    result = ast.literal_eval(input_string)\n",
    "    if isinstance(result, list) and all(isinstance(item, tuple) for item in result):\n",
    "      return result\n",
    "    else:\n",
    "      raise ValueError(\"Input string is not a valid list of tuples.\")\n",
    "  except (ValueError, SyntaxError) as e:\n",
    "    print(input_string)\n",
    "    raise ValueError(f\"Error converting string to list of tuples: {e}\")\n",
    "\n",
    "def count_errors(filt_orig_tuple_list, pred_tuple_list, orig_tuple_list, metric_dict):\n",
    "  for orig_tuple, pred_tuple in zip(filt_orig_tuple_list, pred_tuple_list):\n",
    "    if (orig_tuple[1] == pred_tuple[1]):\n",
    "      metric_dict['tp'] += 1\n",
    "    elif (orig_tuple[1] !='O' and pred_tuple[1] != 'O'):\n",
    "      metric_dict['fp'] += 1\n",
    "    elif (pred_tuple[1] == 'O' and orig_tuple[1] != 'O'):\n",
    "      metric_dict['fn'] += 1\n",
    "  \n",
    "  metric_dict['tn'] += (len(orig_tuple_list) - abs(len(filt_orig_tuple_list) - len(pred_tuple_list)))\n",
    "  return metric_dict\n"
   ]
  },
  {
   "cell_type": "code",
   "execution_count": 199,
   "id": "b9b5a497",
   "metadata": {},
   "outputs": [],
   "source": [
    "def plot_metrics(metric_array, metrics):\n",
    "    plt.matshow(metric_array.reshape((2, 2)))\n",
    "    plt.xlabel(\"Predicted Value\")\n",
    "    plt.xticks(ticks = [0, 1], labels=[\"True\", \"False\"])\n",
    "    plt.yticks(ticks = [0, 1], labels=[\"True\", \"False\"])\n",
    "    plt.ylabel(\"Actual Value\")\n",
    "    plt.colorbar()\n",
    "\n",
    "    accuracy = (metrics['tp'] + metrics['tn'])/ (metrics['tp'] + metrics ['fp'] + metrics['fn'] + metrics['tn'])\n",
    "    precision = metrics['tp'] / (metrics['tp'] + metrics ['fp'])\n",
    "    sensitivity = metrics['tp'] / (metrics['tp'] + metrics ['fn'])\n",
    "    f1_score = 2 * (precision * sensitivity) / (precision + sensitivity)\n",
    "\n",
    "    print(f\"TP = {metrics['tp']}\\tFN = {metrics['fn']}\")\n",
    "    print(f\"FP = {metrics['fp']}\\tTN = {metrics['tn']}\")\n",
    "    print(f\"Accuracy = {accuracy}\\nPrecision = {precision}\\nSensitivity (aka Recall) = {sensitivity}\\nF1-score = {f1_score}\")"
   ]
  },
  {
   "cell_type": "code",
   "execution_count": 202,
   "id": "282b965d",
   "metadata": {},
   "outputs": [
    {
     "name": "stdout",
     "output_type": "stream",
     "text": [
      "TP = 1742\tFN = 0\n",
      "FP = 1877\tTN = 15435\n",
      "Accuracy = 0.9014905006822714\n",
      "Precision = 0.4813484387952473\n",
      "Sensitivity (aka Recall) = 1.0\n",
      "F1-score = 0.6498787539638127\n"
     ]
    },
    {
     "data": {
      "image/png": "[encoded data removed]",
      "text/plain": [
       "<Figure size 480x480 with 2 Axes>"
      ]
     },
     "metadata": {},
     "output_type": "display_data"
    }
   ],
   "source": [
    "metric_dict_spacy = dict()\n",
    "metric_dict_spacy = init_metric_dict(metric_dict_spacy)\n",
    "\n",
    "def calc_confusion_matrix_spacy():\n",
    "    for _, row in test_df.iterrows():\n",
    "        orig_text = row['sentence']\n",
    "        orig_list_of_tuples_as_str = row['annotated_sentence']\n",
    "        doc = nlp_med(orig_text)\n",
    "        \n",
    "        orig_list_of_tuples = string_to_list_of_tuples(orig_list_of_tuples_as_str)\n",
    "        filt_orig_list_of_tuples = [tup for tup in orig_list_of_tuples if tup[1] != 'O']\n",
    "        pred_list_of_tuples = [(str(ent), ent.label_) for ent in doc.ents]   \n",
    "        count_errors(filt_orig_list_of_tuples, pred_list_of_tuples, orig_list_of_tuples, metric_dict_spacy)\n",
    "\n",
    "    np_metric_array = np.array(list(metric_dict_spacy.values()))\n",
    "    plot_metrics(np_metric_array, metric_dict_spacy)\n",
    "\n",
    "calc_confusion_matrix_spacy()\n"
   ]
  },
  {
   "cell_type": "markdown",
   "id": "2165cbba",
   "metadata": {},
   "source": [
    "## Summary\n",
    "Based on the above, we see that Spacy has a compelling approach towards building an NER model.\n",
    "* Highlights of the Model:\n",
    "    * Easy to build\n",
    "    * Primary focus on creating dataset aligned to the Spacy format - but easy once we have a BIO annotated dataset.\n",
    "    * Training iterations are easy and extensible.\n",
    "    * More improvements in newer Spacy Models where the above is rolled into more NLP pipelines including relationship extraction\n",
    "    * Model shows high accuracy (~90%)\n",
    "* Lowlights:\n",
    "    * Current model does not include distinction between BIO tags separately (Newer versions of spacy can utilise BIO tags separately from labels).\n",
    "    * Model shows low precision (~60%)\n",
    "* F1-score = 0.64. Given that this is greater than 0.5, indicates that the model performs reasonably well and while the model can miss classifying information that could potentially be classed, any classes that are identified can be relied on. "
   ]
  },
  {
   "cell_type": "markdown",
   "id": "43b636ca",
   "metadata": {},
   "source": [
    "# BERT Model"
   ]
  },
  {
   "cell_type": "markdown",
   "id": "68fc3a2e",
   "metadata": {},
   "source": [
    "## Dataset creation\n",
    "For this model, we will use the Transformers models to build from a pre-trained BERT model. Given this approach, we will first need to convert the data that we have on hand into a Transformers Dataset. For the NER task, there are certain aspects needed for the dataset. These include identifying the key features for this token classification problem. Hence the data set has the following features:\n",
    "1. An identifier for each element of the Dataset.\n",
    "2. Specific NER Tags taht are identified by the list of labels that we identified.\n",
    "3. Tokenized value of the string."
   ]
  },
  {
   "cell_type": "code",
   "execution_count": 109,
   "id": "a9864ee4",
   "metadata": {},
   "outputs": [
    {
     "name": "stdout",
     "output_type": "stream",
     "text": [
      "\n",
      "Training Dataset:\n",
      " Dataset({\n",
      "    features: ['id', 'ner_tags', 'tokens'],\n",
      "    num_rows: 1607\n",
      "})\n",
      "Sample training data:\n",
      "\t {'id': 0, 'ner_tags': [0, 0, 0, 0, 0, 0, 0, 0, 0, 0, 0, 5, 0], 'tokens': ['subjective', ':', ',', 'this', '23-year-old', 'white', 'female', 'presents', 'with', 'complaint', 'of', 'allergies', '.']}\n",
      "\n",
      "Test Dataset:\n",
      " Dataset({\n",
      "    features: ['id', 'ner_tags', 'tokens'],\n",
      "    num_rows: 792\n",
      "})\n",
      "Sample test data:\n",
      "\t {'id': 0, 'ner_tags': [0, 11, 0, 0, 0, 0, 0, 1, 0], 'tokens': ['the', 'hemostat', 'was', 'then', 'passed', 'through', 'the', 'incision', '.']}\n"
     ]
    },
    {
     "data": {
      "text/plain": [
       "<ExecutionResult object at 7f476b347ad0, execution_count=None error_before_exec=None error_in_exec=None info=<ExecutionInfo object at 7f476b347aa0, raw_cell=\"import re\n",
       "from datasets import Dataset, Features, ..\" transformed_cell=\"import re\n",
       "from datasets import Dataset, Features, ..\" store_history=False silent=False shell_futures=True cell_id=None> result=None>"
      ]
     },
     "execution_count": 109,
     "metadata": {},
     "output_type": "execute_result"
    }
   ],
   "source": [
    "%%skip_if skip_bert_model\n",
    "import re\n",
    "from datasets import Dataset, Features, Value, ClassLabel, Sequence\n",
    "import string\n",
    "\n",
    "# Example for a text classification dataset\n",
    "ner_tag_features = Features({\n",
    "    'id': Value('int32'),\n",
    "    'ner_tags': Sequence(ClassLabel(names=['O', 'B-AP', 'I-AP', 'B-SYM', 'I-SYM','B-COND', 'I-COND', 'B-PROC', 'I-PROC', 'B-MED', 'I-MED', 'B-TOOL', 'I-TOOL'])),\n",
    "    'tokens': [Value('string')]  \n",
    "})\n",
    "\n",
    "def extract_ner_token_pairs(sentence, id, ignore_punctuation_and_stop_words=False):\n",
    "    sentenced_ner_token_dict = []\n",
    "        \n",
    "    sample_dict = {}\n",
    "    ner_tag_list = []\n",
    "    token_list = []\n",
    "\n",
    "    matches = re.findall(r\"\\((.*?)\\)\" , sentence)\n",
    "    for match in matches:\n",
    "        ner_token_pair = re.findall(r'\\\"(.*?)\\\"', match)\n",
    "        if (len(ner_token_pair) == 0):\n",
    "            ner_token_pair = re.findall(r'\\'(.*?)\\'', match)\n",
    "\n",
    "        if (len(ner_token_pair) == 0):\n",
    "            continue\n",
    "\n",
    "        word = ner_token_pair[0].lower()\n",
    "\n",
    "        if (ignore_punctuation_and_stop_words == True):\n",
    "            if (len(word) == 1 and any(char in string.punctuation for char in word)):\n",
    "                continue\n",
    "            if (word in english_stopwords):\n",
    "                continue\n",
    "        try:\n",
    "            index = label_list.index(ner_token_pair[1])\n",
    "            label = ner_token_pair[1]\n",
    "        except ValueError:\n",
    "            index = 0\n",
    "            label = 'O'\n",
    "\n",
    "        if word is None or index is None:\n",
    "            continue\n",
    "        token_list.append(word)\n",
    "        ner_tag_list.append(index)\n",
    "\n",
    "    if (len(ner_tag_list)>= 1):\n",
    "        sample_dict.update([('id', str(id)), ('ner_tags', ner_tag_list), ('tokens', token_list)])\n",
    "        id = id+1\n",
    "        sentenced_ner_token_dict.append(sample_dict)\n",
    "    \n",
    "    return sentenced_ner_token_dict, id\n",
    "\n",
    "def get_ner_tokens_as_ds(df, ignore_punctuations_and_stop_words = False):\n",
    "    ner_tok_dict=[]\n",
    "    last_id = 0\n",
    "    for i in range(len(df)):\n",
    "        sentenced_token_dict, last_id = extract_ner_token_pairs(df.loc[i], last_id, ignore_punctuations_and_stop_words)\n",
    "        for element in sentenced_token_dict:\n",
    "            ner_tok_dict.append(element)\n",
    "    temp_df = pd.DataFrame(ner_tok_dict)\n",
    "    temp_df.replace(' ', np.nan, inplace=True)\n",
    "    ds = Dataset.from_pandas(temp_df, features=ner_tag_features)\n",
    "    return ds\n",
    "\n",
    "train_ds = get_ner_tokens_as_ds(train_df_NER)\n",
    "print(\"\\nTraining Dataset:\\n\", train_ds)\n",
    "print(\"Sample training data:\\n\\t\", train_ds[0])\n",
    "\n",
    "test_ds = get_ner_tokens_as_ds(test_df_NER)\n",
    "print(\"\\nTest Dataset:\\n\", test_ds)\n",
    "print(\"Sample test data:\\n\\t\", test_ds[0])\n"
   ]
  },
  {
   "cell_type": "markdown",
   "id": "01c80555",
   "metadata": {},
   "source": [
    "## Tokenization\n",
    "For the BERT model to operate, it is important to tokenize and enumerate"
   ]
  },
  {
   "cell_type": "code",
   "execution_count": 111,
   "id": "81d93914",
   "metadata": {},
   "outputs": [
    {
     "name": "stdout",
     "output_type": "stream",
     "text": [
      "['O', 'B-AP', 'I-AP', 'B-SYM', 'I-SYM', 'B-COND', 'I-COND', 'B-PROC', 'I-PROC', 'B-MED', 'I-MED', 'B-TOOL', 'I-TOOL']\n",
      "Tokens:  ['normal', 'lv', 'diastolic', 'function', '.', ',', '5', '.']\n",
      "Tokenized input:  {'input_ids': [101, 2999, 181, 1964, 4267, 12788, 14987, 3053, 119, 117, 126, 119, 102], 'token_type_ids': [0, 0, 0, 0, 0, 0, 0, 0, 0, 0, 0, 0, 0], 'attention_mask': [1, 1, 1, 1, 1, 1, 1, 1, 1, 1, 1, 1, 1]}\n",
      "Tokens converted back from ids: ['[CLS]', 'normal', 'l', '##v', 'di', '##ast', '##olic', 'function', '.', ',', '5', '.', '[SEP]']\n",
      "Word_ids:  [None, 0, 1, 1, 2, 2, 2, 3, 4, 5, 6, 7, None]\n",
      "Enumeration: 0 0 O\n",
      "Enumeration: 1 1 B-AP\n",
      "Enumeration: 2 2 I-AP\n",
      "Enumeration: 3 2 I-AP\n",
      "Enumeration: 4 0 O\n",
      "Enumeration: 5 0 O\n",
      "Enumeration: 6 0 O\n",
      "Enumeration: 7 0 O\n",
      "[-100, 0, 1, 1, 2, 2, 2, 2, 0, 0, 0, 0, -100]\n",
      "Tokenized_input: {'input_ids': [101, 2999, 181, 1964, 4267, 12788, 14987, 3053, 119, 117, 126, 119, 102], 'token_type_ids': [0, 0, 0, 0, 0, 0, 0, 0, 0, 0, 0, 0, 0], 'attention_mask': [1, 1, 1, 1, 1, 1, 1, 1, 1, 1, 1, 1, 1], 'labels': [-100, 0, 1, 1, 2, 2, 2, 2, 0, 0, 0, 0, -100]}\n"
     ]
    },
    {
     "data": {
      "text/plain": [
       "<ExecutionResult object at 7f476a8c3dd0, execution_count=None error_before_exec=None error_in_exec=None info=<ExecutionInfo object at 7f476a8c2540, raw_cell=\"\n",
       "from transformers import AutoTokenizer, BertToken..\" transformed_cell=\"from transformers import AutoTokenizer, BertTokeni..\" store_history=False silent=False shell_futures=True cell_id=None> result=None>"
      ]
     },
     "execution_count": 111,
     "metadata": {},
     "output_type": "execute_result"
    }
   ],
   "source": [
    "%%skip_if skip_bert_model\n",
    "\n",
    "from transformers import AutoTokenizer, BertTokenizerFast\n",
    "example = train_ds[97]\n",
    "labels_list = train_ds.features[f\"ner_tags\"].feature.names\n",
    "print(labels_list)\n",
    "tokenizer = BertTokenizerFast.from_pretrained(\"dmis-lab/biobert-v1.1\")\n",
    "print(\"Tokens: \", example[\"tokens\"])\n",
    "tokenized_input = tokenizer(example[\"tokens\"], is_split_into_words=True)\n",
    "print(\"Tokenized input: \", tokenized_input)\n",
    "# print(len(example[\"tokens\"]))\n",
    "\n",
    "tokens = tokenizer.convert_ids_to_tokens(tokenized_input[\"input_ids\"])\n",
    "print(\"Tokens converted back from ids:\", tokens)\n",
    "\n",
    "word_ids = tokenized_input.word_ids()\n",
    "print(\"Word_ids: \", word_ids)\n",
    "word_tags = []\n",
    "for i, label in enumerate (example[f\"ner_tags\"]):\n",
    "    print(\"Enumeration:\", i, label, labels_list[label])\n",
    "    word_tags.append(label)\n",
    "\n",
    "label_ids=[]\n",
    "previous_word_idx = None\n",
    "for word_idx in word_ids:\n",
    "    if word_idx is None:\n",
    "        label_ids.append(-100)\n",
    "    else:\n",
    "        label_ids.append(word_tags[word_idx])\n",
    "print(label_ids)\n",
    "tokenized_input[\"labels\"] = label_ids\n",
    "print(\"Tokenized_input:\", tokenized_input)"
   ]
  },
  {
   "cell_type": "markdown",
   "id": "bdc34b2a",
   "metadata": {},
   "source": [
    "### Align labels\n",
    "Tokenization typically involves breaking words into different tokens which includes sub-tokens. It is important to align this token with the right tag as part of Dataset preparation for the training step. The below function and the subsequent calls allow for the same."
   ]
  },
  {
   "cell_type": "code",
   "execution_count": 112,
   "id": "dc9038e3",
   "metadata": {},
   "outputs": [
    {
     "data": {
      "text/plain": [
       "<ExecutionResult object at 7f476554e2d0, execution_count=None error_before_exec=None error_in_exec=None info=<ExecutionInfo object at 7f476554e5a0, raw_cell=\"\n",
       "def tokenize_and_align_labels(example):\n",
       "    token..\" transformed_cell=\"def tokenize_and_align_labels(example):\n",
       "    tokeni..\" store_history=False silent=False shell_futures=True cell_id=None> result=None>"
      ]
     },
     "execution_count": 112,
     "metadata": {},
     "output_type": "execute_result"
    }
   ],
   "source": [
    "%%skip_if skip_bert_model\n",
    "\n",
    "def tokenize_and_align_labels(example):\n",
    "    tokenized_input = tokenizer(example[\"tokens\"], is_split_into_words=True)\n",
    "    tokens = tokenizer.convert_ids_to_tokens(tokenized_input[\"input_ids\"])\n",
    "    word_ids = tokenized_input.word_ids()\n",
    "    word_tags = []\n",
    "    for i, label in enumerate (example[f\"ner_tags\"]):\n",
    "        word_tags.append(label)\n",
    "\n",
    "    label_ids=[]\n",
    "    previous_word_idx = None\n",
    "    for word_idx in word_ids:\n",
    "        if word_idx is None:\n",
    "            label_ids.append(-100)\n",
    "        else:\n",
    "            label_ids.append(word_tags[word_idx])\n",
    "    tokenized_input[\"labels\"] = label_ids\n",
    "    return tokenized_input\n"
   ]
  },
  {
   "cell_type": "code",
   "execution_count": 113,
   "id": "0812d671",
   "metadata": {},
   "outputs": [
    {
     "data": {
      "application/vnd.jupyter.widget-view+json": {
       "model_id": "d7d053fa574b4a278460fc557aa9e668",
       "version_major": 2,
       "version_minor": 0
      },
      "text/plain": [
       "Map:   0%|          | 0/1607 [00:00<?, ? examples/s]"
      ]
     },
     "metadata": {},
     "output_type": "display_data"
    },
    {
     "data": {
      "application/vnd.jupyter.widget-view+json": {
       "model_id": "1aaa189d6f4946eca94cf6d5fbc5f8ac",
       "version_major": 2,
       "version_minor": 0
      },
      "text/plain": [
       "Map:   0%|          | 0/792 [00:00<?, ? examples/s]"
      ]
     },
     "metadata": {},
     "output_type": "display_data"
    },
    {
     "name": "stdout",
     "output_type": "stream",
     "text": [
      "Dataset({\n",
      "    features: ['id', 'ner_tags', 'tokens', 'input_ids', 'token_type_ids', 'attention_mask', 'labels'],\n",
      "    num_rows: 1607\n",
      "})\n",
      "Dataset({\n",
      "    features: ['id', 'ner_tags', 'tokens', 'input_ids', 'token_type_ids', 'attention_mask', 'labels'],\n",
      "    num_rows: 792\n",
      "})\n"
     ]
    }
   ],
   "source": [
    "tokenized_train = train_ds.map(tokenize_and_align_labels, batched=False)\n",
    "tokenized_test = test_ds.map(tokenize_and_align_labels, batched=False)\n",
    "print(tokenized_train)\n",
    "print(tokenized_test)\n",
    "# for i in range(len(tokenized_train['ner_tags'][0])):\n",
    "#     print(tokenized_train['ner_tags'][0][i], \":\", tokenized_train['tokens'][0][i])"
   ]
  },
  {
   "cell_type": "markdown",
   "id": "e8e2709c",
   "metadata": {},
   "source": [
    "## Pre-training dataset distribution analysis\n",
    "For training with the BERT model, it is important to have a good balanced distribution of the dataset. We hence inspect the distribution of labels in the training dataset and the testing dataset. \n"
   ]
  },
  {
   "cell_type": "code",
   "execution_count": 153,
   "id": "8a8034f3",
   "metadata": {},
   "outputs": [
    {
     "name": "stdout",
     "output_type": "stream",
     "text": [
      "Class distribution: {0: 23430, 1: 2141, 2: 1831, 3: 166, 4: 129, 5: 515, 6: 446, 7: 498, 8: 371, 9: 273, 10: 217, 11: 506, 12: 400}\n",
      "Class distribution: {0: 12275, 1: 1176, 2: 1050, 3: 53, 4: 24, 5: 225, 6: 159, 7: 329, 8: 260, 9: 204, 10: 167, 11: 334, 12: 291}\n"
     ]
    }
   ],
   "source": [
    "from collections import Counter\n",
    "\n",
    "# Inspect class distribution\n",
    "train_labels = [label for sample in train_ds[\"ner_tags\"] for label in sample]\n",
    "counts = Counter(train_labels)\n",
    "train_label_counts = dict(sorted(counts.items()))\n",
    "print(\"Class distribution:\", train_label_counts)\n",
    "\n",
    "test_labels = [label for sample in test_ds[\"ner_tags\"] for label in sample]\n",
    "counts = Counter(test_labels)\n",
    "test_label_counts = dict(sorted(counts.items()))\n",
    "print(\"Class distribution:\", test_label_counts)"
   ]
  },
  {
   "cell_type": "code",
   "execution_count": 169,
   "id": "2b2b3ade",
   "metadata": {},
   "outputs": [
    {
     "data": {
      "image/png": "[encoded data removed]",
      "text/plain": [
       "<Figure size 640x480 with 1 Axes>"
      ]
     },
     "metadata": {},
     "output_type": "display_data"
    },
    {
     "data": {
      "image/png": "[encoded data removed]",
      "text/plain": [
       "<Figure size 640x480 with 1 Axes>"
      ]
     },
     "metadata": {},
     "output_type": "display_data"
    }
   ],
   "source": [
    "import matplotlib.pyplot as plt\n",
    "\n",
    "def plot_data_counts(counts, title):\n",
    "\tsorted_counts = dict(sorted(counts.items()))\n",
    "\tlabels = list(sorted_counts.keys())\n",
    "\tlabel_counts = list(sorted_counts.values())\n",
    "\tplt.plot(labels, label_counts)\n",
    "\tplt.xlabel('Labels')\n",
    "\tplt.ylabel('Counts')\n",
    "\tplt.title('Simple counts for: ' + title)\n",
    "\tplt.show()\n",
    "\n",
    "\n",
    "plot_data_counts(train_label_counts, \"Train data label distribution\")\n",
    "plot_data_counts(test_label_counts, \"Test data label distribution\")\n",
    "\n",
    "# count_all_labels(labels, train_corpus, \"Training Data\")\n",
    "# count_all_labels(labels, dev_corpus, \"Development Data\")"
   ]
  },
  {
   "cell_type": "markdown",
   "id": "6b4c9aa5",
   "metadata": {},
   "source": [
    "From the above plots, it can be noted that on first glance, the dataset looks like it is unbalanced with a lot more skew towards \"Outside\" tag data. However, this information is actually useful as it allows the models to not mis-classify items like punctuations and conjunctions into named entities."
   ]
  },
  {
   "cell_type": "code",
   "execution_count": 170,
   "id": "5dd7c4d8",
   "metadata": {},
   "outputs": [
    {
     "data": {
      "image/png": "[encoded data removed]",
      "text/plain": [
       "<Figure size 640x480 with 1 Axes>"
      ]
     },
     "metadata": {},
     "output_type": "display_data"
    },
    {
     "data": {
      "image/png": "[encoded data removed]",
      "text/plain": [
       "<Figure size 640x480 with 1 Axes>"
      ]
     },
     "metadata": {},
     "output_type": "display_data"
    }
   ],
   "source": [
    "train_label_counts_filtered = {key: train_label_counts[key] for key in train_label_counts if key != 0}\n",
    "plot_data_counts(train_label_counts_filtered, \"Train data label distribution\")\n",
    "\n",
    "test_label_counts_filtered = {key: test_label_counts[key] for key in test_label_counts if key != 0}\n",
    "plot_data_counts(test_label_counts_filtered, \"Train data label distribution\")"
   ]
  },
  {
   "cell_type": "markdown",
   "id": "cf931bc3",
   "metadata": {},
   "source": [
    "From the above plots, it can be noted that the dataset without the \"Outside\" tag is more balanced. However, as mentioned earlier, we will retain the \"Outside\" tags as-is to allow for the model to recognize and avoid mis-classifying items like punctuations and conjunctions into named entities."
   ]
  },
  {
   "cell_type": "markdown",
   "id": "799a8ff0",
   "metadata": {},
   "source": [
    "## Model Description\n",
    "In this attempt, we will use the pre-trained BIO-BERT model, with fine tuning of the NER tags to include the specific labels that we have. Unlike the SPACY model, we will explicitly include the BI tags and the Outside Tag for this model. Most of the model configuration will remain unchanged as shown in the model configuration output below. However, there will be some customization of a few hyper parameters (explained in subsequent cells)"
   ]
  },
  {
   "cell_type": "code",
   "execution_count": null,
   "id": "14067d39",
   "metadata": {},
   "outputs": [
    {
     "name": "stderr",
     "output_type": "stream",
     "text": [
      "Some weights of BertForTokenClassification were not initialized from the model checkpoint at dmis-lab/biobert-v1.1 and are newly initialized: ['classifier.bias', 'classifier.weight']\n",
      "You should probably TRAIN this model on a down-stream task to be able to use it for predictions and inference.\n"
     ]
    },
    {
     "name": "stdout",
     "output_type": "stream",
     "text": [
      "BertConfig {\n",
      "  \"architectures\": [\n",
      "    \"BertModel\"\n",
      "  ],\n",
      "  \"attention_probs_dropout_prob\": 0.1,\n",
      "  \"classifier_dropout\": null,\n",
      "  \"gradient_checkpointing\": false,\n",
      "  \"hidden_act\": \"gelu\",\n",
      "  \"hidden_dropout_prob\": 0.1,\n",
      "  \"hidden_size\": 768,\n",
      "  \"id2label\": {\n",
      "    \"0\": \"O\",\n",
      "    \"1\": \"B-AP\",\n",
      "    \"2\": \"I-AP\",\n",
      "    \"3\": \"B-SYM\",\n",
      "    \"4\": \"I-SYM\",\n",
      "    \"5\": \"B-COND\",\n",
      "    \"6\": \"I-COND\",\n",
      "    \"7\": \"B-PROC\",\n",
      "    \"8\": \"I-PROC\",\n",
      "    \"9\": \"B-MED\",\n",
      "    \"10\": \"I-MED\",\n",
      "    \"11\": \"B-TOOL\",\n",
      "    \"12\": \"I-TOOL\"\n",
      "  },\n",
      "  \"initializer_range\": 0.02,\n",
      "  \"intermediate_size\": 3072,\n",
      "  \"label2id\": {\n",
      "    \"B-AP\": 1,\n",
      "    \"B-COND\": 5,\n",
      "    \"B-MED\": 9,\n",
      "    \"B-PROC\": 7,\n",
      "    \"B-SYM\": 3,\n",
      "    \"B-TOOL\": 11,\n",
      "    \"I-AP\": 2,\n",
      "    \"I-COND\": 6,\n",
      "    \"I-MED\": 10,\n",
      "    \"I-PROC\": 8,\n",
      "    \"I-SYM\": 4,\n",
      "    \"I-TOOL\": 12,\n",
      "    \"O\": 0\n",
      "  },\n",
      "  \"layer_norm_eps\": 1e-12,\n",
      "  \"max_position_embeddings\": 512,\n",
      "  \"model_type\": \"bert\",\n",
      "  \"num_attention_heads\": 12,\n",
      "  \"num_hidden_layers\": 12,\n",
      "  \"pad_token_id\": 0,\n",
      "  \"position_embedding_type\": \"absolute\",\n",
      "  \"torch_dtype\": \"float32\",\n",
      "  \"transformers_version\": \"4.53.1\",\n",
      "  \"type_vocab_size\": 2,\n",
      "  \"use_cache\": true,\n",
      "  \"vocab_size\": 28996\n",
      "}\n",
      "\n"
     ]
    }
   ],
   "source": [
    "from transformers import AutoModelForTokenClassification, TrainingArguments, Trainer\n",
    "\n",
    "model = AutoModelForTokenClassification.from_pretrained(\n",
    "    \"dmis-lab/biobert-v1.1\", num_labels=len(label_list), id2label=id2label, label2id=label2id\n",
    ")\n",
    "\n",
    "print(model.config)"
   ]
  },
  {
   "cell_type": "code",
   "execution_count": 173,
   "id": "2d10aab3",
   "metadata": {},
   "outputs": [],
   "source": [
    "from transformers import DataCollatorForTokenClassification\n",
    "\n",
    "data_collator = DataCollatorForTokenClassification(tokenizer=tokenizer)\n",
    "import evaluate\n",
    "\n",
    "seqeval = evaluate.load(\"seqeval\")"
   ]
  },
  {
   "cell_type": "code",
   "execution_count": 174,
   "id": "50b4fa13",
   "metadata": {},
   "outputs": [],
   "source": [
    "import numpy as np\n",
    "\n",
    "labels = [label_list[i] for i in example[f\"ner_tags\"]]\n",
    "\n",
    "\n",
    "def compute_metrics(p):\n",
    "    predictions, labels = p\n",
    "    predictions = np.argmax(predictions, axis=2)\n",
    "\n",
    "    true_predictions = [\n",
    "        [label_list[p] for (p, l) in zip(prediction, label) if l != -100]\n",
    "        for prediction, label in zip(predictions, labels)\n",
    "    ]\n",
    "    true_labels = [\n",
    "        [label_list[l] for (p, l) in zip(prediction, label) if l != -100]\n",
    "        for prediction, label in zip(predictions, labels)\n",
    "    ]\n",
    "\n",
    "    results = seqeval.compute(predictions=true_predictions, references=true_labels)\n",
    "    return {\n",
    "        \"precision\": results[\"overall_precision\"],\n",
    "        \"recall\": results[\"overall_recall\"],\n",
    "        \"f1\": results[\"overall_f1\"],\n",
    "        \"accuracy\": results[\"overall_accuracy\"],\n",
    "    }"
   ]
  },
  {
   "cell_type": "markdown",
   "id": "c4e4b0ac",
   "metadata": {},
   "source": [
    "#### Training with hyper parameters\n",
    "For this model, we will use the Transforers architecture with. As mentioned earlier, the BIO-BERT model is fine tuned to include the labels for this specific NER task. We set the learning rate to be 2e-5 an have a decay of 1%.  The model is trained over 10 epochs and from the losses table, it can be noted that we stop before too many iterations lead to any form of overfit.\n",
    "\n",
    "Finally, the model is pushed to the Transformers hub for open use by others in the future (bsr-1239789/ner_model)."
   ]
  },
  {
   "cell_type": "code",
   "execution_count": 176,
   "id": "31629233",
   "metadata": {},
   "outputs": [
    {
     "data": {
      "text/html": [
       "\n",
       "    <div>\n",
       "      \n",
       "      <progress value='1010' max='1010' style='width:300px; height:20px; vertical-align: middle;'></progress>\n",
       "      [1010/1010 04:53, Epoch 10/10]\n",
       "    </div>\n",
       "    <table border=\"1\" class=\"dataframe\">\n",
       "  <thead>\n",
       " <tr style=\"text-align: left;\">\n",
       "      <th>Epoch</th>\n",
       "      <th>Training Loss</th>\n",
       "      <th>Validation Loss</th>\n",
       "      <th>Precision</th>\n",
       "      <th>Recall</th>\n",
       "      <th>F1</th>\n",
       "      <th>Accuracy</th>\n",
       "    </tr>\n",
       "  </thead>\n",
       "  <tbody>\n",
       "    <tr>\n",
       "      <td>1</td>\n",
       "      <td>No log</td>\n",
       "      <td>0.707860</td>\n",
       "      <td>0.496245</td>\n",
       "      <td>0.522107</td>\n",
       "      <td>0.508848</td>\n",
       "      <td>0.786451</td>\n",
       "    </tr>\n",
       "    <tr>\n",
       "      <td>2</td>\n",
       "      <td>No log</td>\n",
       "      <td>0.578649</td>\n",
       "      <td>0.618592</td>\n",
       "      <td>0.583443</td>\n",
       "      <td>0.600503</td>\n",
       "      <td>0.821806</td>\n",
       "    </tr>\n",
       "    <tr>\n",
       "      <td>3</td>\n",
       "      <td>No log</td>\n",
       "      <td>0.555012</td>\n",
       "      <td>0.632668</td>\n",
       "      <td>0.638382</td>\n",
       "      <td>0.635512</td>\n",
       "      <td>0.834565</td>\n",
       "    </tr>\n",
       "    <tr>\n",
       "      <td>4</td>\n",
       "      <td>No log</td>\n",
       "      <td>0.572232</td>\n",
       "      <td>0.653824</td>\n",
       "      <td>0.628975</td>\n",
       "      <td>0.641158</td>\n",
       "      <td>0.835252</td>\n",
       "    </tr>\n",
       "    <tr>\n",
       "      <td>5</td>\n",
       "      <td>0.594600</td>\n",
       "      <td>0.587388</td>\n",
       "      <td>0.626221</td>\n",
       "      <td>0.663217</td>\n",
       "      <td>0.644189</td>\n",
       "      <td>0.832589</td>\n",
       "    </tr>\n",
       "    <tr>\n",
       "      <td>6</td>\n",
       "      <td>0.594600</td>\n",
       "      <td>0.595142</td>\n",
       "      <td>0.625706</td>\n",
       "      <td>0.666792</td>\n",
       "      <td>0.645596</td>\n",
       "      <td>0.834006</td>\n",
       "    </tr>\n",
       "    <tr>\n",
       "      <td>7</td>\n",
       "      <td>0.594600</td>\n",
       "      <td>0.610591</td>\n",
       "      <td>0.634702</td>\n",
       "      <td>0.660019</td>\n",
       "      <td>0.647113</td>\n",
       "      <td>0.835596</td>\n",
       "    </tr>\n",
       "    <tr>\n",
       "      <td>8</td>\n",
       "      <td>0.594600</td>\n",
       "      <td>0.625936</td>\n",
       "      <td>0.625990</td>\n",
       "      <td>0.668862</td>\n",
       "      <td>0.646716</td>\n",
       "      <td>0.834135</td>\n",
       "    </tr>\n",
       "    <tr>\n",
       "      <td>9</td>\n",
       "      <td>0.594600</td>\n",
       "      <td>0.640207</td>\n",
       "      <td>0.626681</td>\n",
       "      <td>0.666416</td>\n",
       "      <td>0.645938</td>\n",
       "      <td>0.833276</td>\n",
       "    </tr>\n",
       "    <tr>\n",
       "      <td>10</td>\n",
       "      <td>0.204800</td>\n",
       "      <td>0.650605</td>\n",
       "      <td>0.626657</td>\n",
       "      <td>0.675823</td>\n",
       "      <td>0.650312</td>\n",
       "      <td>0.833835</td>\n",
       "    </tr>\n",
       "  </tbody>\n",
       "</table><p>"
      ],
      "text/plain": [
       "<IPython.core.display.HTML object>"
      ]
     },
     "metadata": {},
     "output_type": "display_data"
    },
    {
     "name": "stderr",
     "output_type": "stream",
     "text": [
      "/mnt/c/Praroha/Code/AI574/project/pocs/NER/.ner_venv/lib/python3.12/site-packages/seqeval/metrics/v1.py:57: UndefinedMetricWarning: Precision and F-score are ill-defined and being set to 0.0 in labels with no predicted samples. Use `zero_division` parameter to control this behavior.\n",
      "  _warn_prf(average, modifier, msg_start, len(result))\n"
     ]
    },
    {
     "data": {
      "text/plain": [
       "TrainOutput(global_step=1010, training_loss=0.3973279647307821, metrics={'train_runtime': 298.1674, 'train_samples_per_second': 53.896, 'train_steps_per_second': 3.387, 'total_flos': 679333479270126.0, 'train_loss': 0.3973279647307821, 'epoch': 10.0})"
      ]
     },
     "execution_count": 176,
     "metadata": {},
     "output_type": "execute_result"
    }
   ],
   "source": [
    "training_args = TrainingArguments(\n",
    "    output_dir=\"bsr-123789/ner_model\",\n",
    "    learning_rate=2e-5,\n",
    "    per_device_train_batch_size=16,\n",
    "    per_device_eval_batch_size=16,\n",
    "    num_train_epochs=10,\n",
    "    weight_decay=0.01,\n",
    "    eval_strategy=\"epoch\",\n",
    "    save_strategy=\"epoch\",\n",
    "    warmup_ratio=0.01,\n",
    "    load_best_model_at_end=True,\n",
    "    push_to_hub=True,\n",
    ")\n",
    "\n",
    "trainer = Trainer(\n",
    "    model=model,\n",
    "    args=training_args,\n",
    "    train_dataset=tokenized_train,\n",
    "    eval_dataset=tokenized_test,\n",
    "    processing_class=tokenizer,\n",
    "    data_collator=data_collator,\n",
    "    compute_metrics=compute_metrics,\n",
    ")\n",
    "\n",
    "trainer.train()"
   ]
  },
  {
   "cell_type": "code",
   "execution_count": 177,
   "id": "f4987d1a",
   "metadata": {},
   "outputs": [
    {
     "data": {
      "application/vnd.jupyter.widget-view+json": {
       "model_id": "5ec0e3053e124d68894dee61e7478f2f",
       "version_major": 2,
       "version_minor": 0
      },
      "text/plain": [
       "Uploading...:   0%|          | 0.00/431M [00:00<?, ?B/s]"
      ]
     },
     "metadata": {},
     "output_type": "display_data"
    },
    {
     "data": {
      "text/plain": [
       "CommitInfo(commit_url='https://huggingface.co/bsr-123789/ner_model/commit/7ab4b2abeec5d48b0b002e35b1ec9a36bf7e6f0c', commit_message='End of training', commit_description='', oid='7ab4b2abeec5d48b0b002e35b1ec9a36bf7e6f0c', pr_url=None, repo_url=RepoUrl('https://huggingface.co/bsr-123789/ner_model', endpoint='https://huggingface.co', repo_type='model', repo_id='bsr-123789/ner_model'), pr_revision=None, pr_num=None)"
      ]
     },
     "execution_count": 177,
     "metadata": {},
     "output_type": "execute_result"
    }
   ],
   "source": [
    "trainer.push_to_hub()"
   ]
  },
  {
   "cell_type": "markdown",
   "id": "0e36b3be",
   "metadata": {},
   "source": [
    "## Metrics - BERT Model\n",
    "Similar to the SPACY Model, we will again use the typical metrics for classification tasks, i.e., Confusion Matrices which measure the accuracy, error and F1 score of a model. Traditionally, these measures are taken as a \"complete\" comparison of the entire prediction w.r.t the original input. This is the same as the \"compute_metrics()\" routine provided as part of the model earlier. However, it should be noted that in the case of NER, the model's accuracy can be better measured by comparing the prediction of individual tokens rather than the map as a whole.\n",
    "\n",
    "To account for this, a custom metric measurement function was creatd per below. This metric function compares each token predicted against the original value to determine if it is:\n",
    "* True Positive: If predicted tag == original tag.\n",
    "* False Positive: If predicted tag is a valid label that is not the \"Outside\" label even if the original label was an \"Outside\" label.\n",
    "* True Negative: If predicted tag != original tag and original tag is not \"Outside\" label.\n",
    "* False Negative: If predicted tag is a non-outside label, and the original label was marked as \"Outside\"."
   ]
  },
  {
   "cell_type": "code",
   "execution_count": 66,
   "id": "3dcca192",
   "metadata": {},
   "outputs": [],
   "source": [
    "def get_predicted_words_and_tags_as_tuples(original_text, prediction):\n",
    "    tokenized_words = []\n",
    "    tokenized_entities = []\n",
    "    for i in range(len(prediction)):\n",
    "        tokenized_words.append(prediction[i]['word'])\n",
    "    pred_tags = []\n",
    "    pred_words = []\n",
    "    next_word_idx = 0\n",
    "    for i in range(len(prediction)):\n",
    "        if prediction[i]['word'].startswith(\"##\"):\n",
    "            if next_word_idx == 0:\n",
    "                pred_words.append(prediction[i]['word'].removeprefix(\"##\"))\n",
    "            else:\n",
    "                pred_words[next_word_idx - 1]+=prediction[i]['word'].removeprefix(\"##\")\n",
    "        else:\n",
    "            pred_words.append(prediction[i]['word'])\n",
    "            pred_tags.append(prediction[i]['entity'])\n",
    "            next_word_idx += 1\n",
    "    predicted_words_and_tags = list(zip(pred_words, pred_tags))\n",
    "    return predicted_words_and_tags"
   ]
  },
  {
   "cell_type": "markdown",
   "id": "e966f7f3",
   "metadata": {},
   "source": [
    "### Example prediction"
   ]
  },
  {
   "cell_type": "code",
   "execution_count": 220,
   "id": "045e87ed",
   "metadata": {},
   "outputs": [
    {
     "name": "stderr",
     "output_type": "stream",
     "text": [
      "Device set to use cuda:0\n"
     ]
    },
    {
     "name": "stdout",
     "output_type": "stream",
     "text": [
      "<class 'list'> [{'entity': 'B-COND', 'score': 0.7988544, 'index': 27, 'word': 'all', 'start': 106, 'end': 109}, {'entity': 'B-COND', 'score': 0.78144383, 'index': 28, 'word': '##er', 'start': 109, 'end': 111}, {'entity': 'B-COND', 'score': 0.7179022, 'index': 29, 'word': '##gies', 'start': 111, 'end': 115}, {'entity': 'B-COND', 'score': 0.42874146, 'index': 31, 'word': 'diminished', 'start': 117, 'end': 127}, {'entity': 'B-COND', 'score': 0.252745, 'index': 32, 'word': 'taste', 'start': 128, 'end': 133}, {'entity': 'B-COND', 'score': 0.6379553, 'index': 34, 'word': 'x', 'start': 135, 'end': 136}, {'entity': 'B-COND', 'score': 0.6839944, 'index': 35, 'word': '##ero', 'start': 136, 'end': 139}, {'entity': 'B-COND', 'score': 0.6489701, 'index': 36, 'word': '##sto', 'start': 139, 'end': 142}, {'entity': 'B-COND', 'score': 0.55138844, 'index': 37, 'word': '##mia', 'start': 142, 'end': 145}, {'entity': 'B-COND', 'score': 0.7831658, 'index': 39, 'word': 'gas', 'start': 147, 'end': 150}, {'entity': 'B-COND', 'score': 0.82987803, 'index': 40, 'word': '##tro', 'start': 150, 'end': 153}, {'entity': 'B-COND', 'score': 0.7286042, 'index': 41, 'word': '##es', 'start': 153, 'end': 155}, {'entity': 'B-COND', 'score': 0.532573, 'index': 42, 'word': '##op', 'start': 155, 'end': 157}, {'entity': 'B-COND', 'score': 0.6358571, 'index': 43, 'word': '##hage', 'start': 157, 'end': 161}, {'entity': 'B-COND', 'score': 0.5847531, 'index': 44, 'word': '##al', 'start': 161, 'end': 163}, {'entity': 'I-COND', 'score': 0.8356991, 'index': 45, 'word': 're', 'start': 164, 'end': 166}, {'entity': 'I-COND', 'score': 0.7729619, 'index': 46, 'word': '##f', 'start': 166, 'end': 167}, {'entity': 'I-COND', 'score': 0.7787455, 'index': 47, 'word': '##lux', 'start': 167, 'end': 170}, {'entity': 'I-COND', 'score': 0.8317007, 'index': 48, 'word': 'disease', 'start': 171, 'end': 178}, {'entity': 'B-COND', 'score': 0.28462312, 'index': 51, 'word': 'food', 'start': 189, 'end': 193}, {'entity': 'I-COND', 'score': 0.32375968, 'index': 52, 'word': 'all', 'start': 194, 'end': 197}, {'entity': 'I-COND', 'score': 0.3153537, 'index': 53, 'word': '##er', 'start': 197, 'end': 199}, {'entity': 'I-COND', 'score': 0.2892796, 'index': 54, 'word': '##gies', 'start': 199, 'end': 203}, {'entity': 'B-COND', 'score': 0.5319363, 'index': 56, 'word': 'chronic', 'start': 205, 'end': 212}, {'entity': 'I-COND', 'score': 0.27208105, 'index': 57, 'word': 'G', 'start': 213, 'end': 214}, {'entity': 'I-COND', 'score': 0.44243905, 'index': 58, 'word': '##I', 'start': 214, 'end': 215}, {'entity': 'I-COND', 'score': 0.5041905, 'index': 59, 'word': 'i', 'start': 216, 'end': 217}, {'entity': 'I-COND', 'score': 0.42523125, 'index': 60, 'word': '##rri', 'start': 217, 'end': 220}, {'entity': 'I-COND', 'score': 0.4758693, 'index': 61, 'word': '##ta', 'start': 220, 'end': 222}, {'entity': 'I-COND', 'score': 0.4990412, 'index': 62, 'word': '##bility', 'start': 222, 'end': 228}, {'entity': 'B-COND', 'score': 0.84725744, 'index': 64, 'word': 'as', 'start': 230, 'end': 232}, {'entity': 'B-COND', 'score': 0.78616554, 'index': 65, 'word': '##th', 'start': 232, 'end': 234}, {'entity': 'B-COND', 'score': 0.6972469, 'index': 66, 'word': '##ma', 'start': 234, 'end': 236}]\n",
      "[('allergies', 'B-COND'), ('diminished', 'B-COND'), ('taste', 'B-COND'), ('xerostomia', 'B-COND'), ('gastroesophageal', 'B-COND'), ('reflux', 'I-COND'), ('disease', 'I-COND'), ('food', 'B-COND'), ('allergies', 'I-COND'), ('chronic', 'B-COND'), ('GI', 'I-COND'), ('irritability', 'I-COND'), ('asthma', 'B-COND')]\n"
     ]
    }
   ],
   "source": [
    "from transformers import pipeline\n",
    "sample_text = \"HISTORY:,  A 55-year-old female presents self-referred for the possibility of evaluation and treatment of allergies, diminished taste, xerostomia, gastroesophageal reflux disease, possible food allergies, chronic GI irritability, asthma, and environmental inhalant allergies.  Please refer to chart for history and physical and review of systems and detailed medical history.\"\n",
    "classifier = pipeline(\"ner\", model=\"bsr-123789/ner_model\")\n",
    "predicted_output = classifier(sample_text)\n",
    "print(type(predicted_output), predicted_output)\n",
    "mapped_words_with_tags = get_predicted_words_and_tags_as_tuples(sample_text, predicted_output)\n",
    "print(mapped_words_with_tags)"
   ]
  },
  {
   "cell_type": "code",
   "execution_count": 224,
   "id": "92bac4d8",
   "metadata": {},
   "outputs": [
    {
     "name": "stderr",
     "output_type": "stream",
     "text": [
      "Device set to use cuda:0\n"
     ]
    },
    {
     "name": "stdout",
     "output_type": "stream",
     "text": [
      "TP = 2037\tFN = 0\n",
      "FP = 1816\tTN = 15408\n",
      "Accuracy = 0.9057162141114169\n",
      "Precision = 0.5286789514663899\n",
      "Sensitivity (aka Recall) = 1.0\n",
      "F1-score = 0.6916808149405773\n"
     ]
    },
    {
     "data": {
      "image/png": "[encoded data removed]",
      "text/plain": [
       "<Figure size 480x480 with 2 Axes>"
      ]
     },
     "metadata": {},
     "output_type": "display_data"
    }
   ],
   "source": [
    "metric_dict_bert = dict()\n",
    "metric_dict_bert = init_metric_dict(metric_dict_bert)\n",
    "classifier = pipeline(\"ner\", model=\"bsr-123789/ner_model\")\n",
    "\n",
    "def calc_confusion_matrix_bert():\n",
    "    for _, row in test_df.iterrows():\n",
    "        orig_text = row['sentence']\n",
    "        orig_list_of_tuples_as_str = row['annotated_sentence']\n",
    "        predicted_output = classifier(orig_text)\n",
    "        pred_list_of_tuples = get_predicted_words_and_tags_as_tuples(orig_text, predicted_output)\n",
    "        orig_list_of_tuples = string_to_list_of_tuples(orig_list_of_tuples_as_str)\n",
    "        filt_orig_list_of_tuples = [tup for tup in orig_list_of_tuples if tup[1] != 'O']\n",
    "        count_errors(filt_orig_list_of_tuples, pred_list_of_tuples, orig_list_of_tuples, metric_dict_bert)\n",
    "\n",
    "    np_metric_array = np.array(list(metric_dict_bert.values()))\n",
    "    plot_metrics(np_metric_array, metric_dict_bert)\n",
    "\n",
    "calc_confusion_matrix_bert()"
   ]
  },
  {
   "cell_type": "markdown",
   "id": "bbb4e16e",
   "metadata": {},
   "source": [
    "## Summary\n",
    "Based on the above, we see that fine-tuned Bio-BERT model has a compelling approach towards building an NER model.\n",
    "* Highlights of the Model:\n",
    "    * Pre-built and annotated dataset oriented towards biology terms\n",
    "    * Primary focus on creating dataset aligned to the Spacy format - but easy once we have a BIO annotated dataset.\n",
    "    * Training iterations are easy and extensible.\n",
    "    * More improvements in newer Spacy Models where the above is rolled into more NLP pipelines including relationship extraction\n",
    "    * Model shows high accuracy (90.57%)\n",
    "* Lowlights:\n",
    "    * Model shows low precision (~52%)\n",
    "* F1-score = 0.69. Given that this is greater than 0.5, indicates that the model performs reasonably well and while the model can miss classifying information that could potentially be classed, any classes that are identified can be relied on.\n"
   ]
  },
  {
   "cell_type": "markdown",
   "id": "486f072d",
   "metadata": {},
   "source": [
    "# Comparison between Spacy Model and Bert Model\n",
    "As can be seen from the two models Spacy and BERT compare as follows:\n",
    "\n",
    "\n",
    "|  Metric  | SPACY Model |  BERT Model  |\n",
    "|:---------|------------:|-------------:|\n",
    "| Accuracy |       90.15%|        90.57%|\n",
    "| Precision|       48.13%|        52.87%|\n",
    "| F-1 Score|       64.99%|        69.17%|\n",
    "\n",
    "Based on the above, we notice that the BERT model slightly out performs the SPACY model.\n"
   ]
  },
  {
   "cell_type": "markdown",
   "id": "bd248df9",
   "metadata": {},
   "source": [
    "# Demo for class presentation"
   ]
  },
  {
   "cell_type": "code",
   "execution_count": 71,
   "id": "a6c6298c",
   "metadata": {},
   "outputs": [
    {
     "name": "stdout",
     "output_type": "stream",
     "text": [
      "Input Sentence:\n",
      "MEDICATIONS:,  None.,DESCRIPTION OF THE PROCEDURE:,  After informed consent was obtained, the patient was placed in the left lateral decubitus position and the Olympus video colonoscope was inserted through the anus and advanced in retrograde fashion for a distance of *** cm to the proximal descending colon and then slowly withdrawn.\n",
      "\n",
      "\n",
      "Spacy based NER Model\n",
      "[('None', 'B-MED'), ('left', 'B-AP'), ('lateral', 'I-AP'), ('decubitus', 'I-AP'), ('position', 'I-AP'), ('Olympus', 'B-AP'), ('video', 'I-AP'), ('colonoscope', 'I-TOOL'), ('retrograde', 'B-PROC'), ('fashion', 'I-PROC'), ('proximal', 'B-AP'), ('descending', 'I-AP'), ('colon', 'B-AP')]\n",
      "\n",
      "\n",
      "BioBERT based finetuned NER Model\n"
     ]
    },
    {
     "name": "stderr",
     "output_type": "stream",
     "text": [
      "Device set to use cuda:0\n"
     ]
    },
    {
     "name": "stdout",
     "output_type": "stream",
     "text": [
      "[('left', 'B-AP'), ('lateral', 'I-AP'), ('decubitus', 'I-AP'), ('position', 'I-AP'), ('Olympus', 'B-TOOL'), ('video', 'B-TOOL'), ('colonoscope', 'I-TOOL'), ('anus', 'B-AP'), ('proximal', 'B-AP'), ('descending', 'I-AP'), ('colon', 'I-AP')]\n"
     ]
    }
   ],
   "source": [
    "# Pick a random transcript from a list of transcripts that the models have not seen\n",
    "# Only 100 transcripts were used for NER. So picking something from index 250 and up.\n",
    "\n",
    "index = np.random.randint(250, len(sample_df))\n",
    "transcript_sent = sent_tokenize(sample_df.iloc[index]['transcription'])[0]\n",
    "print(f\"Input Sentence:\\n{transcript_sent}\")\n",
    "\n",
    "# SPACY MODEL\n",
    "import spacy\n",
    "nlp_updated = spacy.load(\"spacy_ner_v1.0\")\n",
    "doc = nlp_updated(transcript_sent)\n",
    "print(\"\\n\\nSpacy based NER Model\")\n",
    "print([(ent.text, ent.label_) for ent in doc.ents])\n",
    "\n",
    "# BERT MODEL\n",
    "from transformers import pipeline\n",
    "print(\"\\n\\nBioBERT based finetuned NER Model\")\n",
    "classifier = pipeline(\"ner\", model=\"bsr-123789/ner_model\")\n",
    "predicted_output = classifier(transcript_sent)\n",
    "mapped_words_with_tags = get_predicted_words_and_tags_as_tuples(transcript_sent, predicted_output)\n",
    "print(mapped_words_with_tags)"
   ]
  }
 ],
 "metadata": {
  "kernelspec": {
   "display_name": ".ner_venv",
   "language": "python",
   "name": "python3"
  },
  "language_info": {
   "codemirror_mode": {
    "name": "ipython",
    "version": 3
   },
   "file_extension": ".py",
   "mimetype": "text/x-python",
   "name": "python",
   "nbconvert_exporter": "python",
   "pygments_lexer": "ipython3",
   "version": "3.12.4"
  }
 },
 "nbformat": 4,
 "nbformat_minor": 5
}
